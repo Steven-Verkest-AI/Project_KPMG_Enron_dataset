{
 "cells": [
  {
   "cell_type": "code",
   "execution_count": 19,
   "metadata": {},
   "outputs": [
    {
     "name": "stderr",
     "output_type": "stream",
     "text": [
      "[nltk_data] Downloading package stopwords to /home/becode/nltk_data...\n",
      "[nltk_data]   Package stopwords is already up-to-date!\n"
     ]
    }
   ],
   "source": [
    "from sklearn import *\n",
    "import os\n",
    "import pickle\n",
    "import pandas as pd\n",
    "import swifter\n",
    "import numpy as np\n",
    "from sklearn.linear_model import LogisticRegression\n",
    "import nltk\n",
    "from nltk.corpus import stopwords\n",
    "nltk.download('stopwords')\n",
    "import re #regular expressions\n",
    "from bs4 import BeautifulSoup\n",
    "from nltk.stem.snowball import SnowballStemmer\n",
    "from sklearn.feature_extraction.text import CountVectorizer\n",
    "from sklearn.feature_extraction.text import TfidfTransformer"
   ]
  },
  {
   "cell_type": "code",
   "execution_count": 4,
   "metadata": {},
   "outputs": [
    {
     "data": {
      "text/plain": [
       "'/home/becode/dr-robin/Enron/robinchaos'"
      ]
     },
     "execution_count": 4,
     "metadata": {},
     "output_type": "execute_result"
    }
   ],
   "source": [
    "os.getcwd()"
   ]
  },
  {
   "cell_type": "code",
   "execution_count": 5,
   "metadata": {},
   "outputs": [],
   "source": [
    "file = 'data/maarten/all_mails.csv'\n",
    "df = pd.read_csv(file)"
   ]
  },
  {
   "cell_type": "code",
   "execution_count": 7,
   "metadata": {},
   "outputs": [
    {
     "data": {
      "text/plain": [
       "LogisticRegression(C=10)"
      ]
     },
     "execution_count": 7,
     "metadata": {},
     "output_type": "execute_result"
    }
   ],
   "source": [
    "model = pickle.load(open('spam__ham.pickle','rb'))\n"
   ]
  },
  {
   "cell_type": "code",
   "execution_count": 173,
   "metadata": {},
   "outputs": [],
   "source": [
    "tf_transformer = pickle.load(open('spam__ham__tf.pickle','rb'))\n",
    "count_vec = pickle.load(open('spam__ham__vec_bow.pickle','rb'))"
   ]
  },
  {
   "cell_type": "code",
   "execution_count": 177,
   "metadata": {},
   "outputs": [
    {
     "name": "stdout",
     "output_type": "stream",
     "text": [
      "CountVectorizer()\n"
     ]
    }
   ],
   "source": [
    "print(count_vec)\n",
    "print(tf_transformer)"
   ]
  },
  {
   "cell_type": "code",
   "execution_count": 245,
   "metadata": {},
   "outputs": [],
   "source": [
    "#Load model, and tf_transformer and count_vec from pickle files\n",
    "model = pickle.load(open('spam__ham.pickle','rb'))\n",
    "tf_transformer = pickle.load(open('spam__ham__tf.pickle','rb'))\n",
    "count_vec = pickle.load(open('spam__ham__vec_bow.pickle','rb'))\n",
    "\n",
    "\n",
    "def spampredict(x):\n",
    "    language='english'\n",
    "    minWordSize=3\n",
    "    # remove non-letters\n",
    "    text_alpha_chars = re.sub(\"[^a-zA-Z']\", \" \", str(x))\n",
    "\n",
    "    # convert to lower-case\n",
    "    text_lower = text_alpha_chars.lower()\n",
    "\n",
    "    # remove stop words\n",
    "    stops = set(stopwords.words(language))\n",
    "    text_no_stop_words = ' '\n",
    "    #print(text_no_stop_words)\n",
    "    for w in text_lower.split():\n",
    "        if w not in stops:\n",
    "            text_no_stop_words = text_no_stop_words + w + ' '\n",
    "            #print(text_no_stop_words)\n",
    "    # do stemming\n",
    "    text_stemmer = ' '\n",
    "    stemmer = SnowballStemmer(language)\n",
    "    for w in text_no_stop_words.split():\n",
    "        text_stemmer = text_stemmer + stemmer.stem(w) + ' '\n",
    "        #print(text_stemmer)\n",
    "    \n",
    "    # remove short words\n",
    "    processedtext = ' '\n",
    "    for w in text_stemmer.split():\n",
    "        \n",
    "        if len(w) >= minWordSize:\n",
    "            processedtext + w + ' '\n",
    "            \n",
    "            processedtext = [processedtext]\n",
    "\n",
    "            X_bag_of_words = count_vec.transform(processedtext)\n",
    "            \n",
    "            X_tf = tf_transformer.transform(X_bag_of_words)\n",
    "            \n",
    "            spampredict = model.predict(X_tf)\n",
    "            \n",
    "            \n",
    "            return spampredict"
   ]
  },
  {
   "cell_type": "code",
   "execution_count": 246,
   "metadata": {},
   "outputs": [
    {
     "data": {
      "application/vnd.jupyter.widget-view+json": {
       "model_id": "4c9242b5489c41ec8c162e13c33cb8a2",
       "version_major": 2,
       "version_minor": 0
      },
      "text/plain": [
       "HBox(children=(FloatProgress(value=0.0, description='Pandas Apply', max=517372.0, style=ProgressStyle(descript…"
      ]
     },
     "metadata": {},
     "output_type": "display_data"
    },
    {
     "name": "stdout",
     "output_type": "stream",
     "text": [
      "\n"
     ]
    }
   ],
   "source": [
    "#Run spam filter on allmails.csv\n",
    "df['spamfilter'] = df['Content'].swifter.apply(lambda x : spampredict(x))"
   ]
  }
 ],
 "metadata": {
  "kernelspec": {
   "display_name": "Python 3",
   "language": "python",
   "name": "python3"
  },
  "language_info": {
   "codemirror_mode": {
    "name": "ipython",
    "version": 3
   },
   "file_extension": ".py",
   "mimetype": "text/x-python",
   "name": "python",
   "nbconvert_exporter": "python",
   "pygments_lexer": "ipython3",
   "version": "3.7.7"
  }
 },
 "nbformat": 4,
 "nbformat_minor": 4
}
