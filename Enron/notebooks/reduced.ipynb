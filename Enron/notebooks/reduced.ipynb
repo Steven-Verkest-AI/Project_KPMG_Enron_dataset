{
 "cells": [
  {
   "cell_type": "code",
   "execution_count": 208,
   "metadata": {},
   "outputs": [],
   "source": [
    "import time\n",
    "import email\n",
    "\n",
    "import os; \n",
    "from os import listdir\n",
    "from os.path import join, isdir\n",
    "\n",
    "import pandas as pd\n",
    "import swifter\n",
    "\n",
    "import matplotlib.pyplot as plt\n",
    "\n",
    "path = \"/media/becode/3D_House/Enron_CSV/\""
   ]
  },
  {
   "cell_type": "code",
   "execution_count": 40,
   "metadata": {},
   "outputs": [],
   "source": [
    "data = pd.read_csv(\"/media/becode/3D_House/Enron_CSV/reduced_mails_FINAL.csv\", index_col=0)"
   ]
  },
  {
   "cell_type": "code",
   "execution_count": 114,
   "metadata": {},
   "outputs": [],
   "source": [
    "data[\"Date\"] = data[\"Date\"].swifter.apply(pd.to_datetime)"
   ]
  },
  {
   "cell_type": "code",
   "execution_count": 115,
   "metadata": {},
   "outputs": [
    {
     "data": {
      "text/html": [
       "<div>\n",
       "<style scoped>\n",
       "    .dataframe tbody tr th:only-of-type {\n",
       "        vertical-align: middle;\n",
       "    }\n",
       "\n",
       "    .dataframe tbody tr th {\n",
       "        vertical-align: top;\n",
       "    }\n",
       "\n",
       "    .dataframe thead th {\n",
       "        text-align: right;\n",
       "    }\n",
       "</style>\n",
       "<table border=\"1\" class=\"dataframe\">\n",
       "  <thead>\n",
       "    <tr style=\"text-align: right;\">\n",
       "      <th></th>\n",
       "      <th>Content</th>\n",
       "      <th>Date</th>\n",
       "      <th>From</th>\n",
       "      <th>To</th>\n",
       "      <th>Subject</th>\n",
       "      <th>X-Folder</th>\n",
       "      <th>Words</th>\n",
       "      <th>VecSum</th>\n",
       "      <th>Author</th>\n",
       "    </tr>\n",
       "  </thead>\n",
       "  <tbody>\n",
       "    <tr>\n",
       "      <th>254413</th>\n",
       "      <td>attached is the systems wish list for the gas ...</td>\n",
       "      <td>1979-12-31 16:00:00</td>\n",
       "      <td>phillip.allen@enron.com</td>\n",
       "      <td>john.lavorato@enron.com, beth.perlman@enron.co...</td>\n",
       "      <td>systems wish list</td>\n",
       "      <td>\\Phillip_Allen_Dec2000\\Notes Folders\\Discussio...</td>\n",
       "      <td>['attached', 'systems', 'wish', 'list', 'gas',...</td>\n",
       "      <td>-2.841491</td>\n",
       "      <td>allen-p</td>\n",
       "    </tr>\n",
       "    <tr>\n",
       "      <th>254434</th>\n",
       "      <td>EOL report for TV in conference on 33\\n\\n\\nCas...</td>\n",
       "      <td>1979-12-31 16:00:00</td>\n",
       "      <td>phillip.allen@enron.com</td>\n",
       "      <td>stephen.harrington@enron.com, mary@enron.com</td>\n",
       "      <td>NaN</td>\n",
       "      <td>\\Phillip_Allen_Dec2000\\Notes Folders\\Discussio...</td>\n",
       "      <td>['EOL', 'report', 'TV', 'conference', '33', 'C...</td>\n",
       "      <td>-2.765434</td>\n",
       "      <td>allen-p</td>\n",
       "    </tr>\n",
       "    <tr>\n",
       "      <th>254628</th>\n",
       "      <td>George,\\n\\nIn response to your ideas\\n\\nTime a...</td>\n",
       "      <td>1979-12-31 16:00:00</td>\n",
       "      <td>phillip.allen@enron.com</td>\n",
       "      <td>c@enron.com</td>\n",
       "      <td>NaN</td>\n",
       "      <td>\\Phillip_Allen_June2001\\Notes Folders\\Discussi...</td>\n",
       "      <td>['George', 'In', 'response', 'ideas', 'Time', ...</td>\n",
       "      <td>41.175362</td>\n",
       "      <td>allen-p</td>\n",
       "    </tr>\n",
       "    <tr>\n",
       "      <th>256137</th>\n",
       "      <td>Scott,\\n\\n Thanks for the email.  I have two q...</td>\n",
       "      <td>1979-12-31 16:00:00</td>\n",
       "      <td>phillip.allen@enron.com</td>\n",
       "      <td>scott.tholan@enron.com</td>\n",
       "      <td>Re: Carlsbad/El Paso: Aug 23 Update: Press Con...</td>\n",
       "      <td>\\Phillip_Allen_June2001\\Notes Folders\\All docu...</td>\n",
       "      <td>['Scott', 'Thanks', 'email', 'I', 'two', 'ques...</td>\n",
       "      <td>5.813128</td>\n",
       "      <td>allen-p</td>\n",
       "    </tr>\n",
       "    <tr>\n",
       "      <th>256309</th>\n",
       "      <td>Mary,\\n\\n It is OK to buy a carpet shampooer.\\...</td>\n",
       "      <td>1979-12-31 16:00:00</td>\n",
       "      <td>phillip.allen@enron.com</td>\n",
       "      <td>maryrichards7@hotmail.com</td>\n",
       "      <td>Re:</td>\n",
       "      <td>\\Phillip_Allen_Dec2000\\Notes Folders\\All docum...</td>\n",
       "      <td>['Mary', 'It', 'OK', 'buy', 'carpet', 'shampoo...</td>\n",
       "      <td>-4.032309</td>\n",
       "      <td>allen-p</td>\n",
       "    </tr>\n",
       "    <tr>\n",
       "      <th>...</th>\n",
       "      <td>...</td>\n",
       "      <td>...</td>\n",
       "      <td>...</td>\n",
       "      <td>...</td>\n",
       "      <td>...</td>\n",
       "      <td>...</td>\n",
       "      <td>...</td>\n",
       "      <td>...</td>\n",
       "      <td>...</td>\n",
       "    </tr>\n",
       "    <tr>\n",
       "      <th>104682</th>\n",
       "      <td>Andrew -\\n\\nThanks for your kind words, my fri...</td>\n",
       "      <td>1979-12-31 16:00:00</td>\n",
       "      <td>jason.williams@enron.com</td>\n",
       "      <td>thedolan@yahoo.com</td>\n",
       "      <td>Re: Bliss</td>\n",
       "      <td>\\Jason_Williams_Nov2001\\Notes Folders\\Discussi...</td>\n",
       "      <td>['Andrew', 'Thanks', 'kind', 'words', 'friend'...</td>\n",
       "      <td>92.341400</td>\n",
       "      <td>williams-j</td>\n",
       "    </tr>\n",
       "    <tr>\n",
       "      <th>104691</th>\n",
       "      <td>All -\\n\\nAttached is an ISDA worksheet for a n...</td>\n",
       "      <td>1979-12-31 16:00:00</td>\n",
       "      <td>jason.williams@enron.com</td>\n",
       "      <td>susan.bailey@enron.com, samantha.boyd@enron.co...</td>\n",
       "      <td>Praxair, Inc.</td>\n",
       "      <td>\\Jason_Williams_Nov2001\\Notes Folders\\Discussi...</td>\n",
       "      <td>['All', 'Attached', 'ISDA', 'worksheet', 'new'...</td>\n",
       "      <td>9.796606</td>\n",
       "      <td>williams-j</td>\n",
       "    </tr>\n",
       "    <tr>\n",
       "      <th>105685</th>\n",
       "      <td>Saturday, March 18th.\\n\\n\\n\\n\\nWayne_Kearney@a...</td>\n",
       "      <td>1979-12-31 16:00:00</td>\n",
       "      <td>jason.williams@enron.com</td>\n",
       "      <td>wayne_kearney@ars.aon.com</td>\n",
       "      <td>Re: March 18th</td>\n",
       "      <td>\\Jason_Williams_Nov2001\\Notes Folders\\All docu...</td>\n",
       "      <td>['Saturday', 'March', '18th', 'Wayne_Kearney',...</td>\n",
       "      <td>126.296967</td>\n",
       "      <td>williams-j</td>\n",
       "    </tr>\n",
       "    <tr>\n",
       "      <th>105699</th>\n",
       "      <td>Yo Dr. Ake -\\n\\nI WENT AND GOT MEASURED LAST N...</td>\n",
       "      <td>1979-12-31 16:00:00</td>\n",
       "      <td>jason.williams@enron.com</td>\n",
       "      <td>drake.borer@utsouthwestern.edu</td>\n",
       "      <td>Re: YOU KNOW WHAT</td>\n",
       "      <td>\\Jason_Williams_Nov2001\\Notes Folders\\All docu...</td>\n",
       "      <td>['Yo', 'Dr', 'Ake', 'I', 'WENT', 'AND', 'GOT',...</td>\n",
       "      <td>-53.962639</td>\n",
       "      <td>williams-j</td>\n",
       "    </tr>\n",
       "    <tr>\n",
       "      <th>105801</th>\n",
       "      <td>Tana -\\n\\nWith respect to assignment of the Fl...</td>\n",
       "      <td>1979-12-31 16:00:00</td>\n",
       "      <td>jason.williams@enron.com</td>\n",
       "      <td>tana.jones@enron.com</td>\n",
       "      <td>Re: Fletcher Challenge/Apache</td>\n",
       "      <td>\\Jason_Williams_Nov2001\\Notes Folders\\All docu...</td>\n",
       "      <td>['Tana', 'With', 'respect', 'assignment', 'Fle...</td>\n",
       "      <td>320.655548</td>\n",
       "      <td>williams-j</td>\n",
       "    </tr>\n",
       "  </tbody>\n",
       "</table>\n",
       "<p>295 rows × 9 columns</p>\n",
       "</div>"
      ],
      "text/plain": [
       "                                                  Content                Date  \\\n",
       "254413  attached is the systems wish list for the gas ... 1979-12-31 16:00:00   \n",
       "254434  EOL report for TV in conference on 33\\n\\n\\nCas... 1979-12-31 16:00:00   \n",
       "254628  George,\\n\\nIn response to your ideas\\n\\nTime a... 1979-12-31 16:00:00   \n",
       "256137  Scott,\\n\\n Thanks for the email.  I have two q... 1979-12-31 16:00:00   \n",
       "256309  Mary,\\n\\n It is OK to buy a carpet shampooer.\\... 1979-12-31 16:00:00   \n",
       "...                                                   ...                 ...   \n",
       "104682  Andrew -\\n\\nThanks for your kind words, my fri... 1979-12-31 16:00:00   \n",
       "104691  All -\\n\\nAttached is an ISDA worksheet for a n... 1979-12-31 16:00:00   \n",
       "105685  Saturday, March 18th.\\n\\n\\n\\n\\nWayne_Kearney@a... 1979-12-31 16:00:00   \n",
       "105699  Yo Dr. Ake -\\n\\nI WENT AND GOT MEASURED LAST N... 1979-12-31 16:00:00   \n",
       "105801  Tana -\\n\\nWith respect to assignment of the Fl... 1979-12-31 16:00:00   \n",
       "\n",
       "                            From  \\\n",
       "254413   phillip.allen@enron.com   \n",
       "254434   phillip.allen@enron.com   \n",
       "254628   phillip.allen@enron.com   \n",
       "256137   phillip.allen@enron.com   \n",
       "256309   phillip.allen@enron.com   \n",
       "...                          ...   \n",
       "104682  jason.williams@enron.com   \n",
       "104691  jason.williams@enron.com   \n",
       "105685  jason.williams@enron.com   \n",
       "105699  jason.williams@enron.com   \n",
       "105801  jason.williams@enron.com   \n",
       "\n",
       "                                                       To  \\\n",
       "254413  john.lavorato@enron.com, beth.perlman@enron.co...   \n",
       "254434       stephen.harrington@enron.com, mary@enron.com   \n",
       "254628                                        c@enron.com   \n",
       "256137                             scott.tholan@enron.com   \n",
       "256309                          maryrichards7@hotmail.com   \n",
       "...                                                   ...   \n",
       "104682                                 thedolan@yahoo.com   \n",
       "104691  susan.bailey@enron.com, samantha.boyd@enron.co...   \n",
       "105685                          wayne_kearney@ars.aon.com   \n",
       "105699                     drake.borer@utsouthwestern.edu   \n",
       "105801                               tana.jones@enron.com   \n",
       "\n",
       "                                                  Subject  \\\n",
       "254413                                  systems wish list   \n",
       "254434                                                NaN   \n",
       "254628                                                NaN   \n",
       "256137  Re: Carlsbad/El Paso: Aug 23 Update: Press Con...   \n",
       "256309                                                Re:   \n",
       "...                                                   ...   \n",
       "104682                                          Re: Bliss   \n",
       "104691                                      Praxair, Inc.   \n",
       "105685                                     Re: March 18th   \n",
       "105699                                  Re: YOU KNOW WHAT   \n",
       "105801                      Re: Fletcher Challenge/Apache   \n",
       "\n",
       "                                                 X-Folder  \\\n",
       "254413  \\Phillip_Allen_Dec2000\\Notes Folders\\Discussio...   \n",
       "254434  \\Phillip_Allen_Dec2000\\Notes Folders\\Discussio...   \n",
       "254628  \\Phillip_Allen_June2001\\Notes Folders\\Discussi...   \n",
       "256137  \\Phillip_Allen_June2001\\Notes Folders\\All docu...   \n",
       "256309  \\Phillip_Allen_Dec2000\\Notes Folders\\All docum...   \n",
       "...                                                   ...   \n",
       "104682  \\Jason_Williams_Nov2001\\Notes Folders\\Discussi...   \n",
       "104691  \\Jason_Williams_Nov2001\\Notes Folders\\Discussi...   \n",
       "105685  \\Jason_Williams_Nov2001\\Notes Folders\\All docu...   \n",
       "105699  \\Jason_Williams_Nov2001\\Notes Folders\\All docu...   \n",
       "105801  \\Jason_Williams_Nov2001\\Notes Folders\\All docu...   \n",
       "\n",
       "                                                    Words      VecSum  \\\n",
       "254413  ['attached', 'systems', 'wish', 'list', 'gas',...   -2.841491   \n",
       "254434  ['EOL', 'report', 'TV', 'conference', '33', 'C...   -2.765434   \n",
       "254628  ['George', 'In', 'response', 'ideas', 'Time', ...   41.175362   \n",
       "256137  ['Scott', 'Thanks', 'email', 'I', 'two', 'ques...    5.813128   \n",
       "256309  ['Mary', 'It', 'OK', 'buy', 'carpet', 'shampoo...   -4.032309   \n",
       "...                                                   ...         ...   \n",
       "104682  ['Andrew', 'Thanks', 'kind', 'words', 'friend'...   92.341400   \n",
       "104691  ['All', 'Attached', 'ISDA', 'worksheet', 'new'...    9.796606   \n",
       "105685  ['Saturday', 'March', '18th', 'Wayne_Kearney',...  126.296967   \n",
       "105699  ['Yo', 'Dr', 'Ake', 'I', 'WENT', 'AND', 'GOT',...  -53.962639   \n",
       "105801  ['Tana', 'With', 'respect', 'assignment', 'Fle...  320.655548   \n",
       "\n",
       "            Author  \n",
       "254413     allen-p  \n",
       "254434     allen-p  \n",
       "254628     allen-p  \n",
       "256137     allen-p  \n",
       "256309     allen-p  \n",
       "...            ...  \n",
       "104682  williams-j  \n",
       "104691  williams-j  \n",
       "105685  williams-j  \n",
       "105699  williams-j  \n",
       "105801  williams-j  \n",
       "\n",
       "[295 rows x 9 columns]"
      ]
     },
     "execution_count": 115,
     "metadata": {},
     "output_type": "execute_result"
    }
   ],
   "source": [
    "data[data[\"Date\"].apply(lambda x: x.year < 1985)]"
   ]
  },
  {
   "cell_type": "markdown",
   "metadata": {},
   "source": [
    "# Features"
   ]
  },
  {
   "cell_type": "code",
   "execution_count": 102,
   "metadata": {},
   "outputs": [],
   "source": [
    "features = pd.DataFrame(data[\"Author\"].unique(), columns=[\"Author\"])"
   ]
  },
  {
   "cell_type": "code",
   "execution_count": 105,
   "metadata": {},
   "outputs": [],
   "source": [
    "features[\"First\"] = features[\"Author\"].apply(lambda x: data[data[\"Author\"]==x][\"Date\"].min())\n",
    "features[\"Last\"] = features[\"Author\"].apply(lambda x: data[data[\"Author\"]==x][\"Date\"].max())"
   ]
  },
  {
   "cell_type": "code",
   "execution_count": 108,
   "metadata": {},
   "outputs": [],
   "source": [
    "features[\"Count\"] = features[\"Author\"].apply(lambda x: len(data[data[\"Author\"]==x]))"
   ]
  },
  {
   "cell_type": "code",
   "execution_count": 130,
   "metadata": {},
   "outputs": [],
   "source": [
    "blacklist_years = [1979, 2004, 2044, 2020, 2012, 1986, 2043, 2024, 2007, 2005]"
   ]
  },
  {
   "cell_type": "code",
   "execution_count": 133,
   "metadata": {},
   "outputs": [],
   "source": [
    "data.drop(data[data[\"Date\"].apply(lambda x: x.year in blacklist_years)].index, inplace=True)"
   ]
  },
  {
   "cell_type": "code",
   "execution_count": 142,
   "metadata": {},
   "outputs": [
    {
     "data": {
      "text/plain": [
       "<matplotlib.axes._subplots.AxesSubplot at 0x7fd2ecf90d90>"
      ]
     },
     "execution_count": 142,
     "metadata": {},
     "output_type": "execute_result"
    },
    {
     "data": {
      "image/png": "[encoded data removed]",
      "text/plain": [
       "<Figure size 432x288 with 1 Axes>"
      ]
     },
     "metadata": {
      "needs_background": "light"
     },
     "output_type": "display_data"
    }
   ],
   "source": [
    "data[\"Date\"].apply(lambda x:x.month).value_counts().plot(kind=\"bar\")"
   ]
  },
  {
   "cell_type": "code",
   "execution_count": 182,
   "metadata": {},
   "outputs": [],
   "source": [
    "#get_emotions = lambda x: NRCLex(x).affect_frequencies\n",
    "get_emotions = lambda x: pd.Series(\n",
    "    [NRCLex(x).affect_frequencies, NRCLex(x).top_emotions[0][0]],\n",
    "    index=[\"Emotions\", \"Top_emote\"]\n",
    ")"
   ]
  },
  {
   "cell_type": "code",
   "execution_count": 183,
   "metadata": {},
   "outputs": [
    {
     "data": {
      "text/plain": [
       "100"
      ]
     },
     "execution_count": 183,
     "metadata": {},
     "output_type": "execute_result"
    }
   ],
   "source": [
    "len(data[\"Content\"].iloc[:100])"
   ]
  },
  {
   "cell_type": "code",
   "execution_count": 195,
   "metadata": {},
   "outputs": [
    {
     "data": {
      "application/vnd.jupyter.widget-view+json": {
       "model_id": "6e8cbf354b884bf4bbb0446d426b124d",
       "version_major": 2,
       "version_minor": 0
      },
      "text/plain": [
       "HBox(children=(FloatProgress(value=0.0, description='Pandas Apply', style=ProgressStyle(description_width='ini…"
      ]
     },
     "metadata": {},
     "output_type": "display_data"
    },
    {
     "name": "stdout",
     "output_type": "stream",
     "text": [
      "\n"
     ]
    }
   ],
   "source": [
    "test = pd.DataFrame()\n",
    "test[\"Content\"] = data[\"Content\"].iloc[:100]\n",
    "test[[\"Emotions\", \"Top_emote\"]] = test[\"Content\"].swifter.apply(get_emotions)"
   ]
  },
  {
   "cell_type": "code",
   "execution_count": 210,
   "metadata": {},
   "outputs": [
    {
     "data": {
      "application/vnd.jupyter.widget-view+json": {
       "model_id": "5e278e0d87884730945fae9d42544f14",
       "version_major": 2,
       "version_minor": 0
      },
      "text/plain": [
       "HBox(children=(FloatProgress(value=0.0, description='Pandas Apply', max=287963.0, style=ProgressStyle(descript…"
      ]
     },
     "metadata": {},
     "output_type": "display_data"
    },
    {
     "name": "stdout",
     "output_type": "stream",
     "text": [
      "\n"
     ]
    }
   ],
   "source": [
    "from nrclex import NRCLex\n",
    "\n",
    "emotion_keys=[\n",
    "    'fear', 'anger', 'anticip', \n",
    "    'trust', 'surprise', 'positive', \n",
    "    'negative', 'sadness', 'disgust', \n",
    "    'joy', 'topemotion'\n",
    "]\n",
    "\n",
    "def read_emotions(x):\n",
    "    text_object = NRCLex(x)  \n",
    "    \n",
    "    result = [\n",
    "        text_object.affect_frequencies[key]\n",
    "        for key in emotion_keys[:-1]\n",
    "    ]\n",
    "    result.append(text_object.top_emotions[0][0])\n",
    "    return pd.Series(result, index=emotion_keys)\n",
    "\n",
    "emotions = pd.DataFrame(\n",
    "    data[[\"Words\", \"Author\", \"Date\"]],\n",
    "    columns=[\"Words\", \"Author\", \"Date\"])\n",
    "\n",
    "emotions[emotion_keys] = emotions[\"Words\"].swifter.apply(read_emotions)"
   ]
  },
  {
   "cell_type": "code",
   "execution_count": 211,
   "metadata": {},
   "outputs": [],
   "source": [
    "emotions.to_csv(join(path, \"emotional_words.csv\"))"
   ]
  },
  {
   "cell_type": "code",
   "execution_count": null,
   "metadata": {},
   "outputs": [],
   "source": [
    "emotions"
   ]
  }
 ],
 "metadata": {
  "kernelspec": {
   "display_name": "Python 3",
   "language": "python",
   "name": "python3"
  },
  "language_info": {
   "codemirror_mode": {
    "name": "ipython",
    "version": 3
   },
   "file_extension": ".py",
   "mimetype": "text/x-python",
   "name": "python",
   "nbconvert_exporter": "python",
   "pygments_lexer": "ipython3",
   "version": "3.7.6"
  }
 },
 "nbformat": 4,
 "nbformat_minor": 4
}
