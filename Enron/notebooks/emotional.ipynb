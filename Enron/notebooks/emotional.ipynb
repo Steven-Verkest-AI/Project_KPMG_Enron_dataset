{
 "cells": [
  {
   "cell_type": "code",
   "execution_count": 7,
   "metadata": {},
   "outputs": [],
   "source": [
    "import time\n",
    "import email\n",
    "\n",
    "import os; \n",
    "from os import listdir\n",
    "from os.path import join, isdir\n",
    "\n",
    "import pandas as pd\n",
    "import swifter\n",
    "\n",
    "import matplotlib.pyplot as plt\n",
    "\n",
    "path = \"/media/becode/3D_House/Enron_CSV/\""
   ]
  },
  {
   "cell_type": "code",
   "execution_count": 134,
   "metadata": {},
   "outputs": [],
   "source": [
    "reduced = pd.read_csv(join(path, \"reduced_mails_FINAL.csv\"), index_col=0)"
   ]
  },
  {
   "cell_type": "code",
   "execution_count": 145,
   "metadata": {},
   "outputs": [
    {
     "ename": "TypeError",
     "evalue": "unhashable type: 'list'",
     "output_type": "error",
     "traceback": [
      "\u001b[0;31m---------------------------------------------------------------------------\u001b[0m",
      "\u001b[0;31mTypeError\u001b[0m                                 Traceback (most recent call last)",
      "\u001b[0;32mpandas/_libs/hashtable_class_helper.pxi\u001b[0m in \u001b[0;36mpandas._libs.hashtable.PyObjectHashTable.map_locations\u001b[0;34m()\u001b[0m\n",
      "\u001b[0;31mTypeError\u001b[0m: unhashable type: 'list'"
     ]
    },
    {
     "name": "stderr",
     "output_type": "stream",
     "text": [
      "Exception ignored in: 'pandas._libs.index.IndexEngine._call_map_locations'\n",
      "Traceback (most recent call last):\n",
      "  File \"pandas/_libs/hashtable_class_helper.pxi\", line 1652, in pandas._libs.hashtable.PyObjectHashTable.map_locations\n",
      "TypeError: unhashable type: 'list'\n"
     ]
    },
    {
     "data": {
      "text/plain": [
       "[Kay_Mann_June2001_2, Notes Folders, Discussion threads]                     4956\n",
       "[Vincent_Kaminski_Jun2001_2, Notes Folders, Discussion threads]              3965\n",
       "[Jeff_Dasovich_June2001, Notes Folders, Notes inbox]                         3473\n",
       "[Steven_Kean_June2001_4, Notes Folders, Discussion threads]                  3414\n",
       "[kate symes 6-27-02, Notes Folders, Discussion threads]                      3064\n",
       "                                                                             ... \n",
       "[Michelle_Cash_Dec2000, Notes Folders, Meeting invites_confirms]                1\n",
       "[Sara_Shackleton_Dec2000_June2001_1, Notes Folders, Guaranties]                 1\n",
       "[Sara_Shackleton_Dec2000_June2001_1, Notes Folders, Confirms - hickerson]       1\n",
       "[Mark_Haedicke_Dec2000_2, Notes Folders, Notes inbox]                           1\n",
       "[Sara_Shackleton_Dec2000_June2001_2, Notes Folders, Jeff nogid]                 1\n",
       "Name: X-Folder, Length: 4056, dtype: int64"
      ]
     },
     "execution_count": 145,
     "metadata": {},
     "output_type": "execute_result"
    }
   ],
   "source": [
    "reduced[\"X-Folder\"].apply(lambda x: x.split(\"\\\\\")[1:]).value_counts()"
   ]
  },
  {
   "cell_type": "code",
   "execution_count": 161,
   "metadata": {},
   "outputs": [],
   "source": [
    "sent_idxs = reduced[reduced[\"X-Folder\"].apply(lambda x: \"Sent\" in x)].index"
   ]
  },
  {
   "cell_type": "code",
   "execution_count": 164,
   "metadata": {},
   "outputs": [],
   "source": [
    "sent_emotional = emotional.loc[sent_idxs]"
   ]
  },
  {
   "cell_type": "code",
   "execution_count": 35,
   "metadata": {},
   "outputs": [],
   "source": [
    "emotional  = pd.read_csv(join(path, \"emotional_content.csv\"), index_col=0)\n",
    "#emotional2 = pd.read_csv(join(path, \"emotional_words.csv\"), index_col=0)"
   ]
  },
  {
   "cell_type": "code",
   "execution_count": 3,
   "metadata": {
    "cell_style": "split"
   },
   "outputs": [
    {
     "data": {
      "text/plain": [
       "<matplotlib.axes._subplots.AxesSubplot at 0x7f8658e49190>"
      ]
     },
     "execution_count": 3,
     "metadata": {},
     "output_type": "execute_result"
    },
    {
     "data": {
      "image/png": "[encoded data removed]",
      "text/plain": [
       "<Figure size 432x288 with 1 Axes>"
      ]
     },
     "metadata": {
      "needs_background": "light"
     },
     "output_type": "display_data"
    }
   ],
   "source": [
    "emotional[\"topemotion\"].value_counts(\n",
    ").plot(kind=\"bar\")"
   ]
  },
  {
   "cell_type": "code",
   "execution_count": 4,
   "metadata": {
    "cell_style": "split"
   },
   "outputs": [
    {
     "data": {
      "text/plain": [
       "<matplotlib.axes._subplots.AxesSubplot at 0x7f86585f8b10>"
      ]
     },
     "execution_count": 4,
     "metadata": {},
     "output_type": "execute_result"
    },
    {
     "data": {
      "image/png": "[encoded data removed]",
      "text/plain": [
       "<Figure size 432x288 with 1 Axes>"
      ]
     },
     "metadata": {
      "needs_background": "light"
     },
     "output_type": "display_data"
    }
   ],
   "source": [
    "emotional2[\"topemotion\"].value_counts(\n",
    ").plot(kind=\"bar\")"
   ]
  },
  {
   "cell_type": "code",
   "execution_count": 12,
   "metadata": {},
   "outputs": [
    {
     "data": {
      "application/vnd.jupyter.widget-view+json": {
       "model_id": "ba44cbcd95a547c1b6cb1a4d583547a9",
       "version_major": 2,
       "version_minor": 0
      },
      "text/plain": [
       "HBox(children=(FloatProgress(value=0.0, description='Pandas Apply', max=287963.0, style=ProgressStyle(descript…"
      ]
     },
     "metadata": {},
     "output_type": "display_data"
    },
    {
     "name": "stdout",
     "output_type": "stream",
     "text": [
      "\n"
     ]
    }
   ],
   "source": [
    "emotional[\"month\"] = emotional[\"Date\"].swifter.apply(lambda x: pd.to_datetime(x).month)"
   ]
  },
  {
   "cell_type": "code",
   "execution_count": 133,
   "metadata": {},
   "outputs": [
    {
     "data": {
      "text/html": [
       "<div>\n",
       "<style scoped>\n",
       "    .dataframe tbody tr th:only-of-type {\n",
       "        vertical-align: middle;\n",
       "    }\n",
       "\n",
       "    .dataframe tbody tr th {\n",
       "        vertical-align: top;\n",
       "    }\n",
       "\n",
       "    .dataframe thead th {\n",
       "        text-align: right;\n",
       "    }\n",
       "</style>\n",
       "<table border=\"1\" class=\"dataframe\">\n",
       "  <thead>\n",
       "    <tr style=\"text-align: right;\">\n",
       "      <th></th>\n",
       "      <th>Content</th>\n",
       "      <th>Author</th>\n",
       "      <th>Date</th>\n",
       "      <th>fear</th>\n",
       "      <th>anger</th>\n",
       "      <th>anticip</th>\n",
       "      <th>trust</th>\n",
       "      <th>surprise</th>\n",
       "      <th>positive</th>\n",
       "      <th>negative</th>\n",
       "      <th>sadness</th>\n",
       "      <th>disgust</th>\n",
       "      <th>joy</th>\n",
       "      <th>topemotion</th>\n",
       "    </tr>\n",
       "  </thead>\n",
       "  <tbody>\n",
       "    <tr>\n",
       "      <th>325203</th>\n",
       "      <td>Credit Support Annex and Paragraph 13</td>\n",
       "      <td>bailey-s</td>\n",
       "      <td>2001-04-04 07:00:00</td>\n",
       "      <td>1.0</td>\n",
       "      <td>0.0</td>\n",
       "      <td>0.0</td>\n",
       "      <td>0.0</td>\n",
       "      <td>0.0</td>\n",
       "      <td>0.0</td>\n",
       "      <td>0.0</td>\n",
       "      <td>0.0</td>\n",
       "      <td>0.0</td>\n",
       "      <td>0.0</td>\n",
       "      <td>fear</td>\n",
       "    </tr>\n",
       "    <tr>\n",
       "      <th>298188</th>\n",
       "      <td>Attached are redlines of the revised docs.  Th...</td>\n",
       "      <td>nemec-g</td>\n",
       "      <td>2000-06-23 08:46:00</td>\n",
       "      <td>0.0</td>\n",
       "      <td>0.5</td>\n",
       "      <td>0.0</td>\n",
       "      <td>0.0</td>\n",
       "      <td>0.0</td>\n",
       "      <td>0.0</td>\n",
       "      <td>0.5</td>\n",
       "      <td>0.0</td>\n",
       "      <td>0.0</td>\n",
       "      <td>0.0</td>\n",
       "      <td>anger</td>\n",
       "    </tr>\n",
       "    <tr>\n",
       "      <th>254880</th>\n",
       "      <td>Thanks for representing Matt.\\n\\nPhillip</td>\n",
       "      <td>allen-p</td>\n",
       "      <td>2001-01-10 22:57:00</td>\n",
       "      <td>0.0</td>\n",
       "      <td>0.0</td>\n",
       "      <td>1.0</td>\n",
       "      <td>0.0</td>\n",
       "      <td>0.0</td>\n",
       "      <td>0.0</td>\n",
       "      <td>0.0</td>\n",
       "      <td>0.0</td>\n",
       "      <td>0.0</td>\n",
       "      <td>0.0</td>\n",
       "      <td>anticip</td>\n",
       "    </tr>\n",
       "    <tr>\n",
       "      <th>26528</th>\n",
       "      <td>i'm blaming my p&amp;l on you today</td>\n",
       "      <td>arnold-j</td>\n",
       "      <td>2001-09-06 09:06:42</td>\n",
       "      <td>0.0</td>\n",
       "      <td>0.0</td>\n",
       "      <td>0.0</td>\n",
       "      <td>1.0</td>\n",
       "      <td>0.0</td>\n",
       "      <td>0.0</td>\n",
       "      <td>0.0</td>\n",
       "      <td>0.0</td>\n",
       "      <td>0.0</td>\n",
       "      <td>0.0</td>\n",
       "      <td>trust</td>\n",
       "    </tr>\n",
       "    <tr>\n",
       "      <th>510340</th>\n",
       "      <td>http://health.yahoo.com/health/dc/003688/0.htm...</td>\n",
       "      <td>bass-e</td>\n",
       "      <td>2001-10-11 06:57:56</td>\n",
       "      <td>0.0</td>\n",
       "      <td>0.0</td>\n",
       "      <td>0.0</td>\n",
       "      <td>0.0</td>\n",
       "      <td>1.0</td>\n",
       "      <td>0.0</td>\n",
       "      <td>0.0</td>\n",
       "      <td>0.0</td>\n",
       "      <td>0.0</td>\n",
       "      <td>0.0</td>\n",
       "      <td>surprise</td>\n",
       "    </tr>\n",
       "    <tr>\n",
       "      <th>255231</th>\n",
       "      <td>Anytime after 3 p.m.</td>\n",
       "      <td>allen-p</td>\n",
       "      <td>2000-07-07 06:41:00</td>\n",
       "      <td>0.0</td>\n",
       "      <td>0.0</td>\n",
       "      <td>0.0</td>\n",
       "      <td>0.0</td>\n",
       "      <td>0.0</td>\n",
       "      <td>1.0</td>\n",
       "      <td>0.0</td>\n",
       "      <td>0.0</td>\n",
       "      <td>0.0</td>\n",
       "      <td>0.0</td>\n",
       "      <td>positive</td>\n",
       "    </tr>\n",
       "    <tr>\n",
       "      <th>24877</th>\n",
       "      <td>lumber</td>\n",
       "      <td>arnold-j</td>\n",
       "      <td>2000-10-25 01:22:00</td>\n",
       "      <td>0.0</td>\n",
       "      <td>0.0</td>\n",
       "      <td>0.0</td>\n",
       "      <td>0.0</td>\n",
       "      <td>0.0</td>\n",
       "      <td>0.0</td>\n",
       "      <td>1.0</td>\n",
       "      <td>0.0</td>\n",
       "      <td>0.0</td>\n",
       "      <td>0.0</td>\n",
       "      <td>negative</td>\n",
       "    </tr>\n",
       "    <tr>\n",
       "      <th>254752</th>\n",
       "      <td>vishal resigned today</td>\n",
       "      <td>allen-p</td>\n",
       "      <td>2000-01-31 06:21:00</td>\n",
       "      <td>0.0</td>\n",
       "      <td>0.0</td>\n",
       "      <td>0.0</td>\n",
       "      <td>0.0</td>\n",
       "      <td>0.0</td>\n",
       "      <td>0.0</td>\n",
       "      <td>0.5</td>\n",
       "      <td>0.5</td>\n",
       "      <td>0.0</td>\n",
       "      <td>0.0</td>\n",
       "      <td>negative</td>\n",
       "    </tr>\n",
       "    <tr>\n",
       "      <th>390196</th>\n",
       "      <td>Here is the estimated imbalance through Oct. 2...</td>\n",
       "      <td>blair-l</td>\n",
       "      <td>2001-10-26 11:36:49</td>\n",
       "      <td>0.0</td>\n",
       "      <td>0.0</td>\n",
       "      <td>0.0</td>\n",
       "      <td>0.0</td>\n",
       "      <td>0.0</td>\n",
       "      <td>0.0</td>\n",
       "      <td>0.0</td>\n",
       "      <td>0.0</td>\n",
       "      <td>1.0</td>\n",
       "      <td>0.0</td>\n",
       "      <td>disgust</td>\n",
       "    </tr>\n",
       "    <tr>\n",
       "      <th>388821</th>\n",
       "      <td>\\t\\n\\tDid you receive?</td>\n",
       "      <td>blair-l</td>\n",
       "      <td>2001-09-04 07:30:34</td>\n",
       "      <td>0.0</td>\n",
       "      <td>0.0</td>\n",
       "      <td>0.0</td>\n",
       "      <td>0.0</td>\n",
       "      <td>0.0</td>\n",
       "      <td>0.5</td>\n",
       "      <td>0.0</td>\n",
       "      <td>0.0</td>\n",
       "      <td>0.0</td>\n",
       "      <td>0.5</td>\n",
       "      <td>positive</td>\n",
       "    </tr>\n",
       "  </tbody>\n",
       "</table>\n",
       "</div>"
      ],
      "text/plain": [
       "                                                  Content    Author  \\\n",
       "325203              Credit Support Annex and Paragraph 13  bailey-s   \n",
       "298188  Attached are redlines of the revised docs.  Th...   nemec-g   \n",
       "254880           Thanks for representing Matt.\\n\\nPhillip   allen-p   \n",
       "26528                     i'm blaming my p&l on you today  arnold-j   \n",
       "510340  http://health.yahoo.com/health/dc/003688/0.htm...    bass-e   \n",
       "255231                               Anytime after 3 p.m.   allen-p   \n",
       "24877                                              lumber  arnold-j   \n",
       "254752                              vishal resigned today   allen-p   \n",
       "390196  Here is the estimated imbalance through Oct. 2...   blair-l   \n",
       "388821                             \\t\\n\\tDid you receive?   blair-l   \n",
       "\n",
       "                       Date  fear  anger  anticip  trust  surprise  positive  \\\n",
       "325203  2001-04-04 07:00:00   1.0    0.0      0.0    0.0       0.0       0.0   \n",
       "298188  2000-06-23 08:46:00   0.0    0.5      0.0    0.0       0.0       0.0   \n",
       "254880  2001-01-10 22:57:00   0.0    0.0      1.0    0.0       0.0       0.0   \n",
       "26528   2001-09-06 09:06:42   0.0    0.0      0.0    1.0       0.0       0.0   \n",
       "510340  2001-10-11 06:57:56   0.0    0.0      0.0    0.0       1.0       0.0   \n",
       "255231  2000-07-07 06:41:00   0.0    0.0      0.0    0.0       0.0       1.0   \n",
       "24877   2000-10-25 01:22:00   0.0    0.0      0.0    0.0       0.0       0.0   \n",
       "254752  2000-01-31 06:21:00   0.0    0.0      0.0    0.0       0.0       0.0   \n",
       "390196  2001-10-26 11:36:49   0.0    0.0      0.0    0.0       0.0       0.0   \n",
       "388821  2001-09-04 07:30:34   0.0    0.0      0.0    0.0       0.0       0.5   \n",
       "\n",
       "        negative  sadness  disgust  joy topemotion  \n",
       "325203       0.0      0.0      0.0  0.0       fear  \n",
       "298188       0.5      0.0      0.0  0.0      anger  \n",
       "254880       0.0      0.0      0.0  0.0    anticip  \n",
       "26528        0.0      0.0      0.0  0.0      trust  \n",
       "510340       0.0      0.0      0.0  0.0   surprise  \n",
       "255231       0.0      0.0      0.0  0.0   positive  \n",
       "24877        1.0      0.0      0.0  0.0   negative  \n",
       "254752       0.5      0.5      0.0  0.0   negative  \n",
       "390196       0.0      0.0      1.0  0.0    disgust  \n",
       "388821       0.0      0.0      0.0  0.5   positive  "
      ]
     },
     "execution_count": 133,
     "metadata": {},
     "output_type": "execute_result"
    }
   ],
   "source": [
    "emotion_keys=[\n",
    "    'fear', 'anger', 'anticip', \n",
    "    'trust', 'surprise', 'positive', \n",
    "    'negative', 'sadness', 'disgust', \n",
    "    'joy'\n",
    "]\n",
    "emotional.loc[emotional[emotion_keys].idxmax()]"
   ]
  },
  {
   "cell_type": "code",
   "execution_count": 41,
   "metadata": {},
   "outputs": [
    {
     "data": {
      "text/plain": [
       "Author\n",
       "allen-p        134.346552\n",
       "arnold-j       251.048343\n",
       "arora-h         48.772561\n",
       "badeer-r        30.612093\n",
       "bailey-s        44.620465\n",
       "                  ...    \n",
       "williams-w3    317.928322\n",
       "wolfe-j         92.244638\n",
       "ybarbo-p        99.993498\n",
       "zipper-a       130.101685\n",
       "zufferli-j      51.438515\n",
       "Length: 1500, dtype: float64"
      ]
     },
     "execution_count": 41,
     "metadata": {},
     "output_type": "execute_result"
    }
   ],
   "source": [
    "df = pd.concat([\n",
    "    emotional.groupby(\"Author\")[emotion].sum() \n",
    "    for emotion in emotion_keys\n",
    "]); df"
   ]
  },
  {
   "cell_type": "code",
   "execution_count": 289,
   "metadata": {},
   "outputs": [],
   "source": [
    "import json\n",
    "\n",
    "with open(\"emotion_lookup.json\", \"w\") as file:\n",
    "    emotion_lookup = {\n",
    "        author: {\n",
    "            emotion: sent_emotional[sent_emotional[\"Author\"]== author][emotion].sum()\n",
    "            for emotion in emotion_keys\n",
    "        } for author in sorted(sent_emotional[\"Author\"].unique())    \n",
    "    } ;json.dump(emotion_lookup, file)"
   ]
  },
  {
   "cell_type": "code",
   "execution_count": 53,
   "metadata": {},
   "outputs": [],
   "source": [
    "import json\n",
    "\n",
    "with open(\"emotion_lookup.json\", \"r\") as file:\n",
    "    emotion_lookup = json.load(open(\"emotion_lookup.json\"))"
   ]
  },
  {
   "cell_type": "code",
   "execution_count": 54,
   "metadata": {
    "cell_style": "center"
   },
   "outputs": [
    {
     "data": {
      "image/png": "[encoded data removed]",
      "text/plain": [
       "<Figure size 432x288 with 1 Axes>"
      ]
     },
     "metadata": {
      "needs_background": "light"
     },
     "output_type": "display_data"
    }
   ],
   "source": [
    "for author in emotion_lookup:\n",
    "    plt.plot(list(emotion_lookup[author].values()))\n"
   ]
  },
  {
   "cell_type": "code",
   "execution_count": 57,
   "metadata": {},
   "outputs": [],
   "source": [
    "min_max =   lambda x: (min(x), max(x))\n",
    "total =     lambda x, low: sum(x) - len(x)*low\n",
    "normalize = lambda x, low, high: (x-low)/(high-low)\n",
    "floor =     lambda x, low: x -low\n",
    "percent =   lambda x, total: x /total *100\n",
    "\n",
    "for author in emotion_lookup:\n",
    "    low, high = min_max(emotion_lookup[author].values())\n",
    "\n",
    "    emotion_lookup[author] = { \n",
    "        key: percent(floor(val, low), total(emotion_lookup[author].values(),0)) \n",
    "        for key, val in emotion_lookup[author].items()\n",
    "    }"
   ]
  },
  {
   "cell_type": "code",
   "execution_count": 150,
   "metadata": {
    "cell_style": "center"
   },
   "outputs": [],
   "source": [
    "emotion_colors = [\"k\", \"red\", \"purple\", \"c\", \"yellow\", \"lightgray\", \"black\", \"blue\", \"green\", \"orange\"]"
   ]
  },
  {
   "cell_type": "code",
   "execution_count": 19,
   "metadata": {
    "cell_style": "split"
   },
   "outputs": [
    {
     "data": {
      "text/plain": [
       "144"
      ]
     },
     "execution_count": 19,
     "metadata": {},
     "output_type": "execute_result"
    }
   ],
   "source": [
    "len(emotion_lookup.keys())"
   ]
  },
  {
   "cell_type": "code",
   "execution_count": 59,
   "metadata": {
    "cell_style": "split"
   },
   "outputs": [
    {
     "data": {
      "text/plain": [
       "100.0"
      ]
     },
     "execution_count": 59,
     "metadata": {},
     "output_type": "execute_result"
    }
   ],
   "source": [
    "sum(emotion_lookup[\"allen-p\"].values())"
   ]
  },
  {
   "cell_type": "code",
   "execution_count": 151,
   "metadata": {
    "cell_style": "center"
   },
   "outputs": [
    {
     "data": {
      "image/png": "[encoded data removed]",
      "text/plain": [
       "<Figure size 432x288 with 1 Axes>"
      ]
     },
     "metadata": {
      "needs_background": "light"
     },
     "output_type": "display_data"
    }
   ],
   "source": [
    "for employ in sorted(emotion_lookup.keys())[:1]:\n",
    "    plt.bar(emotion_lookup[employ].keys(),\n",
    "            emotion_lookup[employ].values(),\n",
    "            color=emotion_colors)\n",
    "    plt.xticks(rotation=90)\n",
    "    plt.title(employ); plt.show()"
   ]
  },
  {
   "cell_type": "code",
   "execution_count": null,
   "metadata": {},
   "outputs": [],
   "source": [
    "from sklearn.cluster import DBSCAN"
   ]
  },
  {
   "cell_type": "code",
   "execution_count": 146,
   "metadata": {
    "cell_style": "split"
   },
   "outputs": [
    {
     "data": {
      "image/png": "[encoded data removed]",
      "text/plain": [
       "<Figure size 432x288 with 1 Axes>"
      ]
     },
     "metadata": {
      "needs_background": "light"
     },
     "output_type": "display_data"
    }
   ],
   "source": [
    "df = pd.DataFrame(list(zip(\n",
    "    [emotion_lookup[auth][\"anger\"] \n",
    "     for auth in emotion_lookup], \n",
    "    [emotion_lookup[auth][\"negative\"]\n",
    "     for auth in emotion_lookup])))\n",
    "\n",
    "model = DBSCAN(eps=1, min_samples=1).fit(df)\n",
    "df[\"label\"] = model.fit_predict(df)\n",
    "\n",
    "for idx, group in enumerate({\n",
    "    group: df[df.label == group] \n",
    "    for group in df[\"label\"].unique()\n",
    "}):\n",
    "    data = df[df.label == idx]\n",
    "    plt.scatter(data[0], data[1])\n",
    "\n",
    "plt.title(\"anger x negative\"); plt.show()"
   ]
  },
  {
   "cell_type": "code",
   "execution_count": 121,
   "metadata": {
    "cell_style": "split"
   },
   "outputs": [
    {
     "data": {
      "image/png": "[encoded data removed]",
      "text/plain": [
       "<Figure size 432x288 with 1 Axes>"
      ]
     },
     "metadata": {
      "needs_background": "light"
     },
     "output_type": "display_data"
    }
   ],
   "source": [
    "df = pd.DataFrame(list(zip(\n",
    "    [emotion_lookup[auth][\"sadness\"] \n",
    "     for auth in emotion_lookup], \n",
    "    [emotion_lookup[auth][\"disgust\"]\n",
    "     for auth in emotion_lookup])))\n",
    "\n",
    "model = DBSCAN(eps=1, min_samples=1).fit(df)\n",
    "df[\"label\"] = model.fit_predict(df)\n",
    "\n",
    "for idx, group in enumerate({\n",
    "    group: df[df.label == group] \n",
    "    for group in df[\"label\"].unique()\n",
    "}):\n",
    "    data = df[df.label == idx]\n",
    "    plt.scatter(data[0], data[1])\n",
    "    \n",
    "plt.title(\"sadness x disgust\"); plt.show()"
   ]
  },
  {
   "cell_type": "code",
   "execution_count": 152,
   "metadata": {
    "cell_style": "split"
   },
   "outputs": [
    {
     "data": {
      "image/png": "[encoded data removed]",
      "text/plain": [
       "<Figure size 432x288 with 1 Axes>"
      ]
     },
     "metadata": {
      "needs_background": "light"
     },
     "output_type": "display_data"
    }
   ],
   "source": [
    "df = pd.DataFrame(list(zip(\n",
    "    [emotion_lookup[auth][\"trust\"] \n",
    "     for auth in emotion_lookup], \n",
    "    [emotion_lookup[auth][\"anticip\"]\n",
    "     for auth in emotion_lookup])))\n",
    "\n",
    "model = DBSCAN(eps=1, min_samples=1).fit(df)\n",
    "df[\"label\"] = model.fit_predict(df)\n",
    "\n",
    "for idx, group in enumerate({\n",
    "    group: df[df.label == group] \n",
    "    for group in df[\"label\"].unique()\n",
    "}):\n",
    "    data = df[df.label == idx]\n",
    "    plt.scatter(data[0], data[1])\n",
    "    \n",
    "plt.title(\"trust x anticip\"); plt.show()"
   ]
  },
  {
   "cell_type": "code",
   "execution_count": 124,
   "metadata": {
    "cell_style": "split"
   },
   "outputs": [
    {
     "data": {
      "image/png": "[encoded data removed]",
      "text/plain": [
       "<Figure size 432x288 with 1 Axes>"
      ]
     },
     "metadata": {
      "needs_background": "light"
     },
     "output_type": "display_data"
    }
   ],
   "source": [
    "df = pd.DataFrame(list(zip(\n",
    "    [emotion_lookup[auth][\"trust\"] \n",
    "     for auth in emotion_lookup], \n",
    "    [emotion_lookup[auth][\"fear\"]\n",
    "     for auth in emotion_lookup])))\n",
    "\n",
    "model = DBSCAN(eps=1, min_samples=1).fit(df)\n",
    "df[\"label\"] = model.fit_predict(df)\n",
    "\n",
    "for idx, group in enumerate({\n",
    "    group: df[df.label == group] \n",
    "    for group in df[\"label\"].unique()\n",
    "}):\n",
    "    data = df[df.label == idx]\n",
    "    plt.scatter(data[0], data[1])\n",
    "    \n",
    "plt.title(\"trust x fear\"); plt.show()"
   ]
  },
  {
   "cell_type": "code",
   "execution_count": 42,
   "metadata": {},
   "outputs": [
    {
     "name": "stdout",
     "output_type": "stream",
     "text": [
      "Content       ---------------------- Forwarded by Phillip K ...\n",
      "Author        allen-pallen-pallen-pallen-pallen-pallen-palle...\n",
      "Date          2000-09-01 06:08:001999-12-10 07:00:002000-02-...\n",
      "fear                                                    134.347\n",
      "anger                                                   130.145\n",
      "anticip                                                 135.429\n",
      "trust                                                   151.647\n",
      "surprise                                                 119.38\n",
      "positive                                                160.996\n",
      "negative                                                146.985\n",
      "sadness                                                 131.014\n",
      "disgust                                                 123.576\n",
      "joy                                                     130.481\n",
      "topemotion    trusttrusttrusttrustpositivepositiveangernegat...\n",
      "dtype: object\n"
     ]
    }
   ],
   "source": [
    "for author in sorted(emotional[\"Author\"].unique())[:1]:\n",
    "    sum_df = emotional[emotional[\"Author\"]== author].sum()\n",
    "    print(sum_df)"
   ]
  },
  {
   "cell_type": "code",
   "execution_count": 147,
   "metadata": {
    "cell_style": "split"
   },
   "outputs": [
    {
     "name": "stdout",
     "output_type": "stream",
     "text": [
      "[8.261632472952472, 5.731062905396407, 8.729932559455857, 18.048482938158333, 0.0, 28.529588167317876, 16.39193358941384, 5.441851701210478, 2.3289229403596394, 6.5365927257350895]\n"
     ]
    },
    {
     "data": {
      "image/png": "[encoded data removed]",
      "text/plain": [
       "<Figure size 432x288 with 1 Axes>"
      ]
     },
     "metadata": {
      "needs_background": "light"
     },
     "output_type": "display_data"
    }
   ],
   "source": [
    "dct = emotion_lookup[\"allen-p\"]\n",
    "print(list(dct.values()))\n",
    "plt.bar(dct.keys(), dct.values(),\n",
    "       color=emotion_colors)\n",
    "plt.xticks(rotation=90)\n",
    "plt.show()"
   ]
  },
  {
   "cell_type": "code",
   "execution_count": 148,
   "metadata": {
    "cell_style": "split"
   },
   "outputs": [
    {
     "data": {
      "image/png": "[encoded data removed]",
      "text/plain": [
       "<Figure size 432x288 with 1 Axes>"
      ]
     },
     "metadata": {
      "needs_background": "light"
     },
     "output_type": "display_data"
    }
   ],
   "source": [
    "plt.bar(\n",
    "    emotion_lookup[\"allen-p\"].keys(),\n",
    "    list(map(\n",
    "        lambda x: floor(x, low),\n",
    "        emotion_lookup[\"allen-p\"].values()\n",
    "    )) ,color=emotion_colors)\n",
    "\n",
    "plt.xticks(rotation=90)\n",
    "plt.show()"
   ]
  },
  {
   "cell_type": "code",
   "execution_count": 339,
   "metadata": {
    "collapsed": true
   },
   "outputs": [
    {
     "data": {
      "text/plain": [
       "[]"
      ]
     },
     "execution_count": 339,
     "metadata": {},
     "output_type": "execute_result"
    },
    {
     "data": {
      "image/png": "[encoded data removed]",
      "text/plain": [
       "<Figure size 432x288 with 1 Axes>"
      ]
     },
     "metadata": {},
     "output_type": "display_data"
    }
   ],
   "source": [
    "plt.pie(emotion_lookup[\"allen-p\"].values(), colors=emotion_colors)\n",
    "plt.plot()"
   ]
  },
  {
   "cell_type": "code",
   "execution_count": 379,
   "metadata": {
    "collapsed": true
   },
   "outputs": [
    {
     "name": "stdout",
     "output_type": "stream",
     "text": [
      "0\n",
      "1\n",
      "2\n",
      "3\n",
      "4\n",
      "5\n"
     ]
    },
    {
     "data": {
      "image/png": "[encoded data removed]",
      "text/plain": [
       "<Figure size 1080x1800 with 12 Axes>"
      ]
     },
     "metadata": {
      "needs_background": "light"
     },
     "output_type": "display_data"
    }
   ],
   "source": [
    "fig, ax = plt.subplots(ncols=2,nrows=6, figsize=(15,25))\n",
    "for idx, author in enumerate(list(emotion_lookup)[:6]):\n",
    "    print(idx)\n",
    "    ax[idx//2][idx%2].bar(\n",
    "        emotion_lookup[author].keys(),\n",
    "        emotion_lookup[author].values(), \n",
    "        color=emotion_colors)\n",
    "    ax[idx//2][~idx%2].pie(\n",
    "        emotion_lookup[author].values(),\n",
    "        colors=emotion_colors)\n",
    "    plt.ylim(0, 40)\n",
    "plt.show()"
   ]
  },
  {
   "cell_type": "code",
   "execution_count": 149,
   "metadata": {
    "scrolled": false
   },
   "outputs": [
    {
     "data": {
      "image/png": "[encoded data removed]",
      "text/plain": [
       "<Figure size 432x288 with 1 Axes>"
      ]
     },
     "metadata": {
      "needs_background": "light"
     },
     "output_type": "display_data"
    },
    {
     "data": {
      "image/png": "[encoded data removed]",
      "text/plain": [
       "<Figure size 432x288 with 1 Axes>"
      ]
     },
     "metadata": {
      "needs_background": "light"
     },
     "output_type": "display_data"
    }
   ],
   "source": [
    "def plot_emotions(author):\n",
    "    plt.bar(\n",
    "        emotion_keys, \n",
    "        list(emotion_lookup[author].values()),\n",
    "        color = emotion_colors\n",
    "    )\n",
    "    plt.title(author)\n",
    "    plt.xticks(rotation=45)\n",
    "    plt.ylim(\n",
    "        min(emotion_lookup[author].values()),\n",
    "        max(emotion_lookup[author].values())\n",
    "    )\n",
    "    plt.show()\n",
    "    \n",
    "for author in [\"lay-k\", \"skilling-j\"]:\n",
    "    plot_emotions(author)"
   ]
  },
  {
   "cell_type": "code",
   "execution_count": 1,
   "metadata": {},
   "outputs": [
    {
     "ename": "NameError",
     "evalue": "name 'emotion_lookup' is not defined",
     "output_type": "error",
     "traceback": [
      "\u001b[0;31m---------------------------------------------------------------------------\u001b[0m",
      "\u001b[0;31mNameError\u001b[0m                                 Traceback (most recent call last)",
      "\u001b[0;32m<ipython-input-1-59d24e89ecfc>\u001b[0m in \u001b[0;36m<module>\u001b[0;34m\u001b[0m\n\u001b[0;32m----> 1\u001b[0;31m \u001b[0;32mfor\u001b[0m \u001b[0mauthor\u001b[0m \u001b[0;32min\u001b[0m \u001b[0mlist\u001b[0m\u001b[0;34m(\u001b[0m\u001b[0memotion_lookup\u001b[0m\u001b[0;34m)\u001b[0m\u001b[0;34m[\u001b[0m\u001b[0;34m:\u001b[0m\u001b[0;36m100\u001b[0m\u001b[0;34m]\u001b[0m\u001b[0;34m:\u001b[0m\u001b[0;34m\u001b[0m\u001b[0;34m\u001b[0m\u001b[0m\n\u001b[0m\u001b[1;32m      2\u001b[0m     \u001b[0mplot_emotions\u001b[0m\u001b[0;34m(\u001b[0m\u001b[0mauthor\u001b[0m\u001b[0;34m)\u001b[0m\u001b[0;34m\u001b[0m\u001b[0;34m\u001b[0m\u001b[0m\n",
      "\u001b[0;31mNameError\u001b[0m: name 'emotion_lookup' is not defined"
     ]
    }
   ],
   "source": [
    "for author in list(emotion_lookup)[:100]:\n",
    "    plot_emotions(author)"
   ]
  },
  {
   "cell_type": "code",
   "execution_count": 177,
   "metadata": {
    "collapsed": true
   },
   "outputs": [
    {
     "data": {
      "text/html": [
       "<div>\n",
       "<style scoped>\n",
       "    .dataframe tbody tr th:only-of-type {\n",
       "        vertical-align: middle;\n",
       "    }\n",
       "\n",
       "    .dataframe tbody tr th {\n",
       "        vertical-align: top;\n",
       "    }\n",
       "\n",
       "    .dataframe thead th {\n",
       "        text-align: right;\n",
       "    }\n",
       "</style>\n",
       "<table border=\"1\" class=\"dataframe\">\n",
       "  <thead>\n",
       "    <tr style=\"text-align: right;\">\n",
       "      <th></th>\n",
       "      <th>Content</th>\n",
       "      <th>Author</th>\n",
       "      <th>Date</th>\n",
       "      <th>fear</th>\n",
       "      <th>anger</th>\n",
       "      <th>anticip</th>\n",
       "      <th>trust</th>\n",
       "      <th>surprise</th>\n",
       "      <th>positive</th>\n",
       "      <th>negative</th>\n",
       "      <th>sadness</th>\n",
       "      <th>disgust</th>\n",
       "      <th>joy</th>\n",
       "      <th>topemotion</th>\n",
       "    </tr>\n",
       "  </thead>\n",
       "  <tbody>\n",
       "    <tr>\n",
       "      <th>310406</th>\n",
       "      <td>Everything is going okay.  Dynegy has bought u...</td>\n",
       "      <td>griffith-j</td>\n",
       "      <td>2001-11-16 06:54:50</td>\n",
       "      <td>0.094994</td>\n",
       "      <td>0.096277</td>\n",
       "      <td>0.100128</td>\n",
       "      <td>0.107831</td>\n",
       "      <td>0.087291</td>\n",
       "      <td>0.114249</td>\n",
       "      <td>0.112965</td>\n",
       "      <td>0.093710</td>\n",
       "      <td>0.094994</td>\n",
       "      <td>0.097561</td>\n",
       "      <td>positive</td>\n",
       "    </tr>\n",
       "    <tr>\n",
       "      <th>310402</th>\n",
       "      <td>Thank you.\\n\\nJohn\\n\\n -----Original Message--...</td>\n",
       "      <td>griffith-j</td>\n",
       "      <td>2001-11-16 08:46:29</td>\n",
       "      <td>0.096552</td>\n",
       "      <td>0.096552</td>\n",
       "      <td>0.096552</td>\n",
       "      <td>0.096552</td>\n",
       "      <td>0.096552</td>\n",
       "      <td>0.103448</td>\n",
       "      <td>0.110345</td>\n",
       "      <td>0.096552</td>\n",
       "      <td>0.110345</td>\n",
       "      <td>0.096552</td>\n",
       "      <td>negative</td>\n",
       "    </tr>\n",
       "    <tr>\n",
       "      <th>310405</th>\n",
       "      <td>That is great thank you.  I enjoyed you here. ...</td>\n",
       "      <td>griffith-j</td>\n",
       "      <td>2001-11-02 05:27:28</td>\n",
       "      <td>0.101149</td>\n",
       "      <td>0.103448</td>\n",
       "      <td>0.098851</td>\n",
       "      <td>0.105747</td>\n",
       "      <td>0.087356</td>\n",
       "      <td>0.108046</td>\n",
       "      <td>0.110345</td>\n",
       "      <td>0.094253</td>\n",
       "      <td>0.096552</td>\n",
       "      <td>0.094253</td>\n",
       "      <td>negative</td>\n",
       "    </tr>\n",
       "    <tr>\n",
       "      <th>310409</th>\n",
       "      <td>Carlos, give me a call today (Friday) when you...</td>\n",
       "      <td>griffith-j</td>\n",
       "      <td>2001-11-02 05:28:14</td>\n",
       "      <td>0.088235</td>\n",
       "      <td>0.088235</td>\n",
       "      <td>0.088235</td>\n",
       "      <td>0.088235</td>\n",
       "      <td>0.088235</td>\n",
       "      <td>0.117647</td>\n",
       "      <td>0.117647</td>\n",
       "      <td>0.088235</td>\n",
       "      <td>0.117647</td>\n",
       "      <td>0.117647</td>\n",
       "      <td>positive</td>\n",
       "    </tr>\n",
       "    <tr>\n",
       "      <th>310389</th>\n",
       "      <td>John,\\n\\nThank you for pulling me aside and re...</td>\n",
       "      <td>griffith-j</td>\n",
       "      <td>2001-12-10 08:10:00</td>\n",
       "      <td>0.099502</td>\n",
       "      <td>0.092869</td>\n",
       "      <td>0.099502</td>\n",
       "      <td>0.104478</td>\n",
       "      <td>0.091211</td>\n",
       "      <td>0.111111</td>\n",
       "      <td>0.107794</td>\n",
       "      <td>0.096186</td>\n",
       "      <td>0.092869</td>\n",
       "      <td>0.104478</td>\n",
       "      <td>positive</td>\n",
       "    </tr>\n",
       "    <tr>\n",
       "      <th>310398</th>\n",
       "      <td>\\n\\n -----Original Message-----\\nFrom: \\t\"bila...</td>\n",
       "      <td>griffith-j</td>\n",
       "      <td>2001-12-17 06:42:12</td>\n",
       "      <td>0.101449</td>\n",
       "      <td>0.092754</td>\n",
       "      <td>0.092754</td>\n",
       "      <td>0.107246</td>\n",
       "      <td>0.095652</td>\n",
       "      <td>0.107246</td>\n",
       "      <td>0.115942</td>\n",
       "      <td>0.092754</td>\n",
       "      <td>0.098551</td>\n",
       "      <td>0.095652</td>\n",
       "      <td>negative</td>\n",
       "    </tr>\n",
       "    <tr>\n",
       "      <th>310395</th>\n",
       "      <td>\\n\\n -----Original Message-----\\nFrom: \\tHuan,...</td>\n",
       "      <td>griffith-j</td>\n",
       "      <td>2001-12-17 06:42:47</td>\n",
       "      <td>0.096591</td>\n",
       "      <td>0.098011</td>\n",
       "      <td>0.100852</td>\n",
       "      <td>0.100852</td>\n",
       "      <td>0.096591</td>\n",
       "      <td>0.107955</td>\n",
       "      <td>0.105114</td>\n",
       "      <td>0.093750</td>\n",
       "      <td>0.100852</td>\n",
       "      <td>0.099432</td>\n",
       "      <td>positive</td>\n",
       "    </tr>\n",
       "    <tr>\n",
       "      <th>310392</th>\n",
       "      <td>Thanks Greg, I think it fixed it.  Have a wond...</td>\n",
       "      <td>griffith-j</td>\n",
       "      <td>2001-11-19 06:18:48</td>\n",
       "      <td>0.104089</td>\n",
       "      <td>0.091698</td>\n",
       "      <td>0.091698</td>\n",
       "      <td>0.101611</td>\n",
       "      <td>0.089219</td>\n",
       "      <td>0.104089</td>\n",
       "      <td>0.115242</td>\n",
       "      <td>0.104089</td>\n",
       "      <td>0.106568</td>\n",
       "      <td>0.091698</td>\n",
       "      <td>negative</td>\n",
       "    </tr>\n",
       "    <tr>\n",
       "      <th>310401</th>\n",
       "      <td>Antonio, \\n\\nI am John Griffith, I sit next to...</td>\n",
       "      <td>griffith-j</td>\n",
       "      <td>2001-11-19 07:35:50</td>\n",
       "      <td>0.099010</td>\n",
       "      <td>0.099010</td>\n",
       "      <td>0.089109</td>\n",
       "      <td>0.099010</td>\n",
       "      <td>0.089109</td>\n",
       "      <td>0.099010</td>\n",
       "      <td>0.128713</td>\n",
       "      <td>0.089109</td>\n",
       "      <td>0.118812</td>\n",
       "      <td>0.089109</td>\n",
       "      <td>negative</td>\n",
       "    </tr>\n",
       "    <tr>\n",
       "      <th>310408</th>\n",
       "      <td>hey rob, try this, call me with any questions....</td>\n",
       "      <td>griffith-j</td>\n",
       "      <td>2001-09-24 06:15:56</td>\n",
       "      <td>0.098131</td>\n",
       "      <td>0.098131</td>\n",
       "      <td>0.098131</td>\n",
       "      <td>0.102804</td>\n",
       "      <td>0.084112</td>\n",
       "      <td>0.102804</td>\n",
       "      <td>0.112150</td>\n",
       "      <td>0.098131</td>\n",
       "      <td>0.107477</td>\n",
       "      <td>0.098131</td>\n",
       "      <td>negative</td>\n",
       "    </tr>\n",
       "    <tr>\n",
       "      <th>310425</th>\n",
       "      <td>here are the settles, thanks.\\n\\nJohn\\n\\n</td>\n",
       "      <td>griffith-j</td>\n",
       "      <td>2001-11-26 12:34:00</td>\n",
       "      <td>0.000000</td>\n",
       "      <td>0.000000</td>\n",
       "      <td>0.000000</td>\n",
       "      <td>0.000000</td>\n",
       "      <td>0.000000</td>\n",
       "      <td>0.000000</td>\n",
       "      <td>0.500000</td>\n",
       "      <td>0.000000</td>\n",
       "      <td>0.500000</td>\n",
       "      <td>0.000000</td>\n",
       "      <td>negative</td>\n",
       "    </tr>\n",
       "    <tr>\n",
       "      <th>310426</th>\n",
       "      <td>How about 6:45, tomorrow is settlement (bid we...</td>\n",
       "      <td>griffith-j</td>\n",
       "      <td>2001-11-26 15:06:02</td>\n",
       "      <td>0.099174</td>\n",
       "      <td>0.099174</td>\n",
       "      <td>0.107438</td>\n",
       "      <td>0.099174</td>\n",
       "      <td>0.082645</td>\n",
       "      <td>0.123967</td>\n",
       "      <td>0.107438</td>\n",
       "      <td>0.090909</td>\n",
       "      <td>0.090909</td>\n",
       "      <td>0.099174</td>\n",
       "      <td>positive</td>\n",
       "    </tr>\n",
       "    <tr>\n",
       "      <th>310403</th>\n",
       "      <td>yes he is going to deposit the check today if ...</td>\n",
       "      <td>griffith-j</td>\n",
       "      <td>2001-11-26 15:11:51</td>\n",
       "      <td>0.089231</td>\n",
       "      <td>0.087692</td>\n",
       "      <td>0.104615</td>\n",
       "      <td>0.113846</td>\n",
       "      <td>0.093846</td>\n",
       "      <td>0.118462</td>\n",
       "      <td>0.113846</td>\n",
       "      <td>0.095385</td>\n",
       "      <td>0.089231</td>\n",
       "      <td>0.093846</td>\n",
       "      <td>positive</td>\n",
       "    </tr>\n",
       "    <tr>\n",
       "      <th>310419</th>\n",
       "      <td>will you bring me 3 prunies when you come?  th...</td>\n",
       "      <td>griffith-j</td>\n",
       "      <td>2001-11-26 15:19:49</td>\n",
       "      <td>0.091029</td>\n",
       "      <td>0.088391</td>\n",
       "      <td>0.102902</td>\n",
       "      <td>0.110818</td>\n",
       "      <td>0.092348</td>\n",
       "      <td>0.121372</td>\n",
       "      <td>0.113456</td>\n",
       "      <td>0.094987</td>\n",
       "      <td>0.089710</td>\n",
       "      <td>0.094987</td>\n",
       "      <td>positive</td>\n",
       "    </tr>\n",
       "    <tr>\n",
       "      <th>310411</th>\n",
       "      <td>Hey what is going on?  I haven't talked to you...</td>\n",
       "      <td>griffith-j</td>\n",
       "      <td>2001-12-31 07:58:29</td>\n",
       "      <td>0.099614</td>\n",
       "      <td>0.097297</td>\n",
       "      <td>0.095753</td>\n",
       "      <td>0.101158</td>\n",
       "      <td>0.095753</td>\n",
       "      <td>0.107336</td>\n",
       "      <td>0.107336</td>\n",
       "      <td>0.097297</td>\n",
       "      <td>0.098842</td>\n",
       "      <td>0.099614</td>\n",
       "      <td>positive</td>\n",
       "    </tr>\n",
       "    <tr>\n",
       "      <th>310412</th>\n",
       "      <td>Hello my sugar, as soon as I get something fou...</td>\n",
       "      <td>griffith-j</td>\n",
       "      <td>2001-12-31 08:15:21</td>\n",
       "      <td>0.103226</td>\n",
       "      <td>0.096774</td>\n",
       "      <td>0.096774</td>\n",
       "      <td>0.090323</td>\n",
       "      <td>0.090323</td>\n",
       "      <td>0.122581</td>\n",
       "      <td>0.109677</td>\n",
       "      <td>0.096774</td>\n",
       "      <td>0.096774</td>\n",
       "      <td>0.096774</td>\n",
       "      <td>positive</td>\n",
       "    </tr>\n",
       "    <tr>\n",
       "      <th>310413</th>\n",
       "      <td>Hey sugar, why don't you pick me up at 12:30. ...</td>\n",
       "      <td>griffith-j</td>\n",
       "      <td>2001-12-31 08:41:43</td>\n",
       "      <td>0.088608</td>\n",
       "      <td>0.101266</td>\n",
       "      <td>0.101266</td>\n",
       "      <td>0.101266</td>\n",
       "      <td>0.088608</td>\n",
       "      <td>0.139241</td>\n",
       "      <td>0.088608</td>\n",
       "      <td>0.088608</td>\n",
       "      <td>0.088608</td>\n",
       "      <td>0.113924</td>\n",
       "      <td>positive</td>\n",
       "    </tr>\n",
       "    <tr>\n",
       "      <th>310397</th>\n",
       "      <td>johngriffith65\\n\\nHow is it going?  I miss you...</td>\n",
       "      <td>griffith-j</td>\n",
       "      <td>2001-12-31 09:47:05</td>\n",
       "      <td>0.101266</td>\n",
       "      <td>0.088608</td>\n",
       "      <td>0.088608</td>\n",
       "      <td>0.088608</td>\n",
       "      <td>0.088608</td>\n",
       "      <td>0.113924</td>\n",
       "      <td>0.126582</td>\n",
       "      <td>0.088608</td>\n",
       "      <td>0.113924</td>\n",
       "      <td>0.101266</td>\n",
       "      <td>negative</td>\n",
       "    </tr>\n",
       "    <tr>\n",
       "      <th>310396</th>\n",
       "      <td>Greg,\\n\\nI want to thank you so much for all y...</td>\n",
       "      <td>griffith-j</td>\n",
       "      <td>2001-11-15 08:37:15</td>\n",
       "      <td>0.097716</td>\n",
       "      <td>0.096447</td>\n",
       "      <td>0.095178</td>\n",
       "      <td>0.107868</td>\n",
       "      <td>0.095178</td>\n",
       "      <td>0.109137</td>\n",
       "      <td>0.102792</td>\n",
       "      <td>0.097716</td>\n",
       "      <td>0.098985</td>\n",
       "      <td>0.098985</td>\n",
       "      <td>positive</td>\n",
       "    </tr>\n",
       "    <tr>\n",
       "      <th>310414</th>\n",
       "      <td>Hey Reggie, \\n\\nHow are you doing?  I don't kn...</td>\n",
       "      <td>griffith-j</td>\n",
       "      <td>2001-12-11 08:54:34</td>\n",
       "      <td>0.097744</td>\n",
       "      <td>0.093985</td>\n",
       "      <td>0.093985</td>\n",
       "      <td>0.105263</td>\n",
       "      <td>0.093985</td>\n",
       "      <td>0.109023</td>\n",
       "      <td>0.105263</td>\n",
       "      <td>0.093985</td>\n",
       "      <td>0.101504</td>\n",
       "      <td>0.105263</td>\n",
       "      <td>positive</td>\n",
       "    </tr>\n",
       "    <tr>\n",
       "      <th>310424</th>\n",
       "      <td>I haven't tested yet, but looks interesting.  ...</td>\n",
       "      <td>griffith-j</td>\n",
       "      <td>2001-11-13 10:40:39</td>\n",
       "      <td>0.082192</td>\n",
       "      <td>0.077626</td>\n",
       "      <td>0.100457</td>\n",
       "      <td>0.095890</td>\n",
       "      <td>0.086758</td>\n",
       "      <td>0.173516</td>\n",
       "      <td>0.118721</td>\n",
       "      <td>0.082192</td>\n",
       "      <td>0.077626</td>\n",
       "      <td>0.105023</td>\n",
       "      <td>positive</td>\n",
       "    </tr>\n",
       "    <tr>\n",
       "      <th>310418</th>\n",
       "      <td>here are the settles thanks\\n\\nJohn\\n\\n\\n</td>\n",
       "      <td>griffith-j</td>\n",
       "      <td>2001-11-27 12:28:58</td>\n",
       "      <td>0.000000</td>\n",
       "      <td>0.000000</td>\n",
       "      <td>0.000000</td>\n",
       "      <td>0.000000</td>\n",
       "      <td>0.000000</td>\n",
       "      <td>0.000000</td>\n",
       "      <td>0.500000</td>\n",
       "      <td>0.000000</td>\n",
       "      <td>0.500000</td>\n",
       "      <td>0.000000</td>\n",
       "      <td>negative</td>\n",
       "    </tr>\n",
       "    <tr>\n",
       "      <th>310422</th>\n",
       "      <td>thank you very much, talk to you soon.\\n\\nJohn...</td>\n",
       "      <td>griffith-j</td>\n",
       "      <td>2001-11-27 13:33:15</td>\n",
       "      <td>0.105691</td>\n",
       "      <td>0.105691</td>\n",
       "      <td>0.113821</td>\n",
       "      <td>0.105691</td>\n",
       "      <td>0.065041</td>\n",
       "      <td>0.105691</td>\n",
       "      <td>0.113821</td>\n",
       "      <td>0.089431</td>\n",
       "      <td>0.089431</td>\n",
       "      <td>0.105691</td>\n",
       "      <td>anticip</td>\n",
       "    </tr>\n",
       "    <tr>\n",
       "      <th>310407</th>\n",
       "      <td>Thanks, call me with any questions.\\n\\nJohn\\n\\...</td>\n",
       "      <td>griffith-j</td>\n",
       "      <td>2001-11-27 14:07:44</td>\n",
       "      <td>0.090909</td>\n",
       "      <td>0.090909</td>\n",
       "      <td>0.090909</td>\n",
       "      <td>0.109091</td>\n",
       "      <td>0.072727</td>\n",
       "      <td>0.090909</td>\n",
       "      <td>0.145455</td>\n",
       "      <td>0.109091</td>\n",
       "      <td>0.109091</td>\n",
       "      <td>0.090909</td>\n",
       "      <td>negative</td>\n",
       "    </tr>\n",
       "    <tr>\n",
       "      <th>310420</th>\n",
       "      <td>Thanks, call me with any questions.  \\n\\nJohn\\...</td>\n",
       "      <td>griffith-j</td>\n",
       "      <td>2001-11-27 14:08:02</td>\n",
       "      <td>0.101449</td>\n",
       "      <td>0.094203</td>\n",
       "      <td>0.094203</td>\n",
       "      <td>0.101449</td>\n",
       "      <td>0.086957</td>\n",
       "      <td>0.108696</td>\n",
       "      <td>0.115942</td>\n",
       "      <td>0.094203</td>\n",
       "      <td>0.108696</td>\n",
       "      <td>0.094203</td>\n",
       "      <td>negative</td>\n",
       "    </tr>\n",
       "    <tr>\n",
       "      <th>310399</th>\n",
       "      <td>Here you go.  Let me know if you have any ques...</td>\n",
       "      <td>griffith-j</td>\n",
       "      <td>2001-10-30 14:41:23</td>\n",
       "      <td>0.093750</td>\n",
       "      <td>0.093750</td>\n",
       "      <td>0.093750</td>\n",
       "      <td>0.093750</td>\n",
       "      <td>0.093750</td>\n",
       "      <td>0.093750</td>\n",
       "      <td>0.125000</td>\n",
       "      <td>0.093750</td>\n",
       "      <td>0.125000</td>\n",
       "      <td>0.093750</td>\n",
       "      <td>negative</td>\n",
       "    </tr>\n",
       "    <tr>\n",
       "      <th>310394</th>\n",
       "      <td>Steven,\\n\\nJohn Arnold asked me to send you th...</td>\n",
       "      <td>griffith-j</td>\n",
       "      <td>2001-12-12 11:20:04</td>\n",
       "      <td>0.091837</td>\n",
       "      <td>0.091837</td>\n",
       "      <td>0.091837</td>\n",
       "      <td>0.112245</td>\n",
       "      <td>0.091837</td>\n",
       "      <td>0.091837</td>\n",
       "      <td>0.122449</td>\n",
       "      <td>0.102041</td>\n",
       "      <td>0.112245</td>\n",
       "      <td>0.091837</td>\n",
       "      <td>negative</td>\n",
       "    </tr>\n",
       "    <tr>\n",
       "      <th>310393</th>\n",
       "      <td>A broker just sent me this today.  I am going ...</td>\n",
       "      <td>griffith-j</td>\n",
       "      <td>2001-11-14 09:53:17</td>\n",
       "      <td>0.100817</td>\n",
       "      <td>0.098093</td>\n",
       "      <td>0.103542</td>\n",
       "      <td>0.100817</td>\n",
       "      <td>0.092643</td>\n",
       "      <td>0.117166</td>\n",
       "      <td>0.106267</td>\n",
       "      <td>0.087193</td>\n",
       "      <td>0.092643</td>\n",
       "      <td>0.100817</td>\n",
       "      <td>positive</td>\n",
       "    </tr>\n",
       "    <tr>\n",
       "      <th>310410</th>\n",
       "      <td>Hi,\\n\\nI am Angie's husband (vintagegarb) and ...</td>\n",
       "      <td>griffith-j</td>\n",
       "      <td>2001-10-24 12:39:38</td>\n",
       "      <td>0.094340</td>\n",
       "      <td>0.084906</td>\n",
       "      <td>0.094340</td>\n",
       "      <td>0.113208</td>\n",
       "      <td>0.075472</td>\n",
       "      <td>0.122642</td>\n",
       "      <td>0.122642</td>\n",
       "      <td>0.094340</td>\n",
       "      <td>0.094340</td>\n",
       "      <td>0.103774</td>\n",
       "      <td>positive</td>\n",
       "    </tr>\n",
       "    <tr>\n",
       "      <th>310390</th>\n",
       "      <td>John,\\n\\nAs you are aware, there was some conf...</td>\n",
       "      <td>griffith-j</td>\n",
       "      <td>2001-10-31 05:39:13</td>\n",
       "      <td>0.101620</td>\n",
       "      <td>0.098675</td>\n",
       "      <td>0.095729</td>\n",
       "      <td>0.100147</td>\n",
       "      <td>0.097202</td>\n",
       "      <td>0.107511</td>\n",
       "      <td>0.107511</td>\n",
       "      <td>0.098675</td>\n",
       "      <td>0.097202</td>\n",
       "      <td>0.095729</td>\n",
       "      <td>positive</td>\n",
       "    </tr>\n",
       "    <tr>\n",
       "      <th>310415</th>\n",
       "      <td>I need to have a new folder set up under the n...</td>\n",
       "      <td>griffith-j</td>\n",
       "      <td>2002-02-06 08:39:10</td>\n",
       "      <td>0.103286</td>\n",
       "      <td>0.103286</td>\n",
       "      <td>0.103286</td>\n",
       "      <td>0.093897</td>\n",
       "      <td>0.089202</td>\n",
       "      <td>0.126761</td>\n",
       "      <td>0.103286</td>\n",
       "      <td>0.093897</td>\n",
       "      <td>0.093897</td>\n",
       "      <td>0.089202</td>\n",
       "      <td>positive</td>\n",
       "    </tr>\n",
       "    <tr>\n",
       "      <th>310428</th>\n",
       "      <td>Thanks.\\n\\nI have a question Paige, will I be ...</td>\n",
       "      <td>griffith-j</td>\n",
       "      <td>2002-02-06 08:55:50</td>\n",
       "      <td>0.096296</td>\n",
       "      <td>0.096296</td>\n",
       "      <td>0.098765</td>\n",
       "      <td>0.103704</td>\n",
       "      <td>0.091358</td>\n",
       "      <td>0.118519</td>\n",
       "      <td>0.111111</td>\n",
       "      <td>0.093827</td>\n",
       "      <td>0.098765</td>\n",
       "      <td>0.091358</td>\n",
       "      <td>positive</td>\n",
       "    </tr>\n",
       "    <tr>\n",
       "      <th>310423</th>\n",
       "      <td>Amanda,\\n\\nCould you set up the following peop...</td>\n",
       "      <td>griffith-j</td>\n",
       "      <td>2002-02-06 09:16:38</td>\n",
       "      <td>0.100000</td>\n",
       "      <td>0.100000</td>\n",
       "      <td>0.100000</td>\n",
       "      <td>0.100000</td>\n",
       "      <td>0.080000</td>\n",
       "      <td>0.120000</td>\n",
       "      <td>0.120000</td>\n",
       "      <td>0.080000</td>\n",
       "      <td>0.120000</td>\n",
       "      <td>0.080000</td>\n",
       "      <td>positive</td>\n",
       "    </tr>\n",
       "    <tr>\n",
       "      <th>310391</th>\n",
       "      <td>Thanks,\\n\\nWill this folder be set up today?\\n...</td>\n",
       "      <td>griffith-j</td>\n",
       "      <td>2002-02-06 10:13:16</td>\n",
       "      <td>0.095047</td>\n",
       "      <td>0.096386</td>\n",
       "      <td>0.095047</td>\n",
       "      <td>0.108434</td>\n",
       "      <td>0.089692</td>\n",
       "      <td>0.116466</td>\n",
       "      <td>0.112450</td>\n",
       "      <td>0.096386</td>\n",
       "      <td>0.101740</td>\n",
       "      <td>0.088353</td>\n",
       "      <td>positive</td>\n",
       "    </tr>\n",
       "    <tr>\n",
       "      <th>310427</th>\n",
       "      <td>Hey sugar, I am still at work, just waiting on...</td>\n",
       "      <td>griffith-j</td>\n",
       "      <td>2002-02-06 10:56:27</td>\n",
       "      <td>0.096026</td>\n",
       "      <td>0.099338</td>\n",
       "      <td>0.105960</td>\n",
       "      <td>0.105960</td>\n",
       "      <td>0.096026</td>\n",
       "      <td>0.112583</td>\n",
       "      <td>0.099338</td>\n",
       "      <td>0.092715</td>\n",
       "      <td>0.092715</td>\n",
       "      <td>0.099338</td>\n",
       "      <td>positive</td>\n",
       "    </tr>\n",
       "    <tr>\n",
       "      <th>310421</th>\n",
       "      <td>Additional people to give access to the financ...</td>\n",
       "      <td>griffith-j</td>\n",
       "      <td>2002-02-06 11:34:49</td>\n",
       "      <td>0.086957</td>\n",
       "      <td>0.086957</td>\n",
       "      <td>0.108696</td>\n",
       "      <td>0.086957</td>\n",
       "      <td>0.108696</td>\n",
       "      <td>0.108696</td>\n",
       "      <td>0.108696</td>\n",
       "      <td>0.086957</td>\n",
       "      <td>0.108696</td>\n",
       "      <td>0.108696</td>\n",
       "      <td>anticip</td>\n",
       "    </tr>\n",
       "    <tr>\n",
       "      <th>310417</th>\n",
       "      <td>Thank you for your help.\\n\\nJohn\\n\\n -----Orig...</td>\n",
       "      <td>griffith-j</td>\n",
       "      <td>2002-02-06 11:48:06</td>\n",
       "      <td>0.097015</td>\n",
       "      <td>0.097015</td>\n",
       "      <td>0.099502</td>\n",
       "      <td>0.106965</td>\n",
       "      <td>0.089552</td>\n",
       "      <td>0.124378</td>\n",
       "      <td>0.106965</td>\n",
       "      <td>0.092040</td>\n",
       "      <td>0.094527</td>\n",
       "      <td>0.092040</td>\n",
       "      <td>positive</td>\n",
       "    </tr>\n",
       "    <tr>\n",
       "      <th>310416</th>\n",
       "      <td>I just tried to access the directory and it sa...</td>\n",
       "      <td>griffith-j</td>\n",
       "      <td>2002-02-06 11:49:13</td>\n",
       "      <td>0.097222</td>\n",
       "      <td>0.097222</td>\n",
       "      <td>0.099537</td>\n",
       "      <td>0.106481</td>\n",
       "      <td>0.090278</td>\n",
       "      <td>0.122685</td>\n",
       "      <td>0.106481</td>\n",
       "      <td>0.094907</td>\n",
       "      <td>0.092593</td>\n",
       "      <td>0.092593</td>\n",
       "      <td>positive</td>\n",
       "    </tr>\n",
       "    <tr>\n",
       "      <th>310400</th>\n",
       "      <td>Yes I am.\\n\\n -----Original Message-----\\nFrom...</td>\n",
       "      <td>griffith-j</td>\n",
       "      <td>2002-02-06 13:06:02</td>\n",
       "      <td>0.091049</td>\n",
       "      <td>0.089506</td>\n",
       "      <td>0.106481</td>\n",
       "      <td>0.114198</td>\n",
       "      <td>0.095679</td>\n",
       "      <td>0.114198</td>\n",
       "      <td>0.112654</td>\n",
       "      <td>0.094136</td>\n",
       "      <td>0.089506</td>\n",
       "      <td>0.092593</td>\n",
       "      <td>trust</td>\n",
       "    </tr>\n",
       "    <tr>\n",
       "      <th>310404</th>\n",
       "      <td>I am sorry I haven't called you yet, I will ta...</td>\n",
       "      <td>griffith-j</td>\n",
       "      <td>2001-11-07 06:30:43</td>\n",
       "      <td>0.100962</td>\n",
       "      <td>0.096154</td>\n",
       "      <td>0.097756</td>\n",
       "      <td>0.099359</td>\n",
       "      <td>0.091346</td>\n",
       "      <td>0.110577</td>\n",
       "      <td>0.116987</td>\n",
       "      <td>0.097756</td>\n",
       "      <td>0.092949</td>\n",
       "      <td>0.096154</td>\n",
       "      <td>negative</td>\n",
       "    </tr>\n",
       "  </tbody>\n",
       "</table>\n",
       "</div>"
      ],
      "text/plain": [
       "                                                  Content      Author  \\\n",
       "310406  Everything is going okay.  Dynegy has bought u...  griffith-j   \n",
       "310402  Thank you.\\n\\nJohn\\n\\n -----Original Message--...  griffith-j   \n",
       "310405  That is great thank you.  I enjoyed you here. ...  griffith-j   \n",
       "310409  Carlos, give me a call today (Friday) when you...  griffith-j   \n",
       "310389  John,\\n\\nThank you for pulling me aside and re...  griffith-j   \n",
       "310398  \\n\\n -----Original Message-----\\nFrom: \\t\"bila...  griffith-j   \n",
       "310395  \\n\\n -----Original Message-----\\nFrom: \\tHuan,...  griffith-j   \n",
       "310392  Thanks Greg, I think it fixed it.  Have a wond...  griffith-j   \n",
       "310401  Antonio, \\n\\nI am John Griffith, I sit next to...  griffith-j   \n",
       "310408  hey rob, try this, call me with any questions....  griffith-j   \n",
       "310425         here are the settles, thanks.\\n\\nJohn\\n\\n   griffith-j   \n",
       "310426  How about 6:45, tomorrow is settlement (bid we...  griffith-j   \n",
       "310403  yes he is going to deposit the check today if ...  griffith-j   \n",
       "310419  will you bring me 3 prunies when you come?  th...  griffith-j   \n",
       "310411  Hey what is going on?  I haven't talked to you...  griffith-j   \n",
       "310412  Hello my sugar, as soon as I get something fou...  griffith-j   \n",
       "310413  Hey sugar, why don't you pick me up at 12:30. ...  griffith-j   \n",
       "310397  johngriffith65\\n\\nHow is it going?  I miss you...  griffith-j   \n",
       "310396  Greg,\\n\\nI want to thank you so much for all y...  griffith-j   \n",
       "310414  Hey Reggie, \\n\\nHow are you doing?  I don't kn...  griffith-j   \n",
       "310424  I haven't tested yet, but looks interesting.  ...  griffith-j   \n",
       "310418         here are the settles thanks\\n\\nJohn\\n\\n\\n   griffith-j   \n",
       "310422  thank you very much, talk to you soon.\\n\\nJohn...  griffith-j   \n",
       "310407  Thanks, call me with any questions.\\n\\nJohn\\n\\...  griffith-j   \n",
       "310420  Thanks, call me with any questions.  \\n\\nJohn\\...  griffith-j   \n",
       "310399  Here you go.  Let me know if you have any ques...  griffith-j   \n",
       "310394  Steven,\\n\\nJohn Arnold asked me to send you th...  griffith-j   \n",
       "310393  A broker just sent me this today.  I am going ...  griffith-j   \n",
       "310410  Hi,\\n\\nI am Angie's husband (vintagegarb) and ...  griffith-j   \n",
       "310390  John,\\n\\nAs you are aware, there was some conf...  griffith-j   \n",
       "310415  I need to have a new folder set up under the n...  griffith-j   \n",
       "310428  Thanks.\\n\\nI have a question Paige, will I be ...  griffith-j   \n",
       "310423  Amanda,\\n\\nCould you set up the following peop...  griffith-j   \n",
       "310391  Thanks,\\n\\nWill this folder be set up today?\\n...  griffith-j   \n",
       "310427  Hey sugar, I am still at work, just waiting on...  griffith-j   \n",
       "310421  Additional people to give access to the financ...  griffith-j   \n",
       "310417  Thank you for your help.\\n\\nJohn\\n\\n -----Orig...  griffith-j   \n",
       "310416  I just tried to access the directory and it sa...  griffith-j   \n",
       "310400  Yes I am.\\n\\n -----Original Message-----\\nFrom...  griffith-j   \n",
       "310404  I am sorry I haven't called you yet, I will ta...  griffith-j   \n",
       "\n",
       "                       Date      fear     anger   anticip     trust  surprise  \\\n",
       "310406  2001-11-16 06:54:50  0.094994  0.096277  0.100128  0.107831  0.087291   \n",
       "310402  2001-11-16 08:46:29  0.096552  0.096552  0.096552  0.096552  0.096552   \n",
       "310405  2001-11-02 05:27:28  0.101149  0.103448  0.098851  0.105747  0.087356   \n",
       "310409  2001-11-02 05:28:14  0.088235  0.088235  0.088235  0.088235  0.088235   \n",
       "310389  2001-12-10 08:10:00  0.099502  0.092869  0.099502  0.104478  0.091211   \n",
       "310398  2001-12-17 06:42:12  0.101449  0.092754  0.092754  0.107246  0.095652   \n",
       "310395  2001-12-17 06:42:47  0.096591  0.098011  0.100852  0.100852  0.096591   \n",
       "310392  2001-11-19 06:18:48  0.104089  0.091698  0.091698  0.101611  0.089219   \n",
       "310401  2001-11-19 07:35:50  0.099010  0.099010  0.089109  0.099010  0.089109   \n",
       "310408  2001-09-24 06:15:56  0.098131  0.098131  0.098131  0.102804  0.084112   \n",
       "310425  2001-11-26 12:34:00  0.000000  0.000000  0.000000  0.000000  0.000000   \n",
       "310426  2001-11-26 15:06:02  0.099174  0.099174  0.107438  0.099174  0.082645   \n",
       "310403  2001-11-26 15:11:51  0.089231  0.087692  0.104615  0.113846  0.093846   \n",
       "310419  2001-11-26 15:19:49  0.091029  0.088391  0.102902  0.110818  0.092348   \n",
       "310411  2001-12-31 07:58:29  0.099614  0.097297  0.095753  0.101158  0.095753   \n",
       "310412  2001-12-31 08:15:21  0.103226  0.096774  0.096774  0.090323  0.090323   \n",
       "310413  2001-12-31 08:41:43  0.088608  0.101266  0.101266  0.101266  0.088608   \n",
       "310397  2001-12-31 09:47:05  0.101266  0.088608  0.088608  0.088608  0.088608   \n",
       "310396  2001-11-15 08:37:15  0.097716  0.096447  0.095178  0.107868  0.095178   \n",
       "310414  2001-12-11 08:54:34  0.097744  0.093985  0.093985  0.105263  0.093985   \n",
       "310424  2001-11-13 10:40:39  0.082192  0.077626  0.100457  0.095890  0.086758   \n",
       "310418  2001-11-27 12:28:58  0.000000  0.000000  0.000000  0.000000  0.000000   \n",
       "310422  2001-11-27 13:33:15  0.105691  0.105691  0.113821  0.105691  0.065041   \n",
       "310407  2001-11-27 14:07:44  0.090909  0.090909  0.090909  0.109091  0.072727   \n",
       "310420  2001-11-27 14:08:02  0.101449  0.094203  0.094203  0.101449  0.086957   \n",
       "310399  2001-10-30 14:41:23  0.093750  0.093750  0.093750  0.093750  0.093750   \n",
       "310394  2001-12-12 11:20:04  0.091837  0.091837  0.091837  0.112245  0.091837   \n",
       "310393  2001-11-14 09:53:17  0.100817  0.098093  0.103542  0.100817  0.092643   \n",
       "310410  2001-10-24 12:39:38  0.094340  0.084906  0.094340  0.113208  0.075472   \n",
       "310390  2001-10-31 05:39:13  0.101620  0.098675  0.095729  0.100147  0.097202   \n",
       "310415  2002-02-06 08:39:10  0.103286  0.103286  0.103286  0.093897  0.089202   \n",
       "310428  2002-02-06 08:55:50  0.096296  0.096296  0.098765  0.103704  0.091358   \n",
       "310423  2002-02-06 09:16:38  0.100000  0.100000  0.100000  0.100000  0.080000   \n",
       "310391  2002-02-06 10:13:16  0.095047  0.096386  0.095047  0.108434  0.089692   \n",
       "310427  2002-02-06 10:56:27  0.096026  0.099338  0.105960  0.105960  0.096026   \n",
       "310421  2002-02-06 11:34:49  0.086957  0.086957  0.108696  0.086957  0.108696   \n",
       "310417  2002-02-06 11:48:06  0.097015  0.097015  0.099502  0.106965  0.089552   \n",
       "310416  2002-02-06 11:49:13  0.097222  0.097222  0.099537  0.106481  0.090278   \n",
       "310400  2002-02-06 13:06:02  0.091049  0.089506  0.106481  0.114198  0.095679   \n",
       "310404  2001-11-07 06:30:43  0.100962  0.096154  0.097756  0.099359  0.091346   \n",
       "\n",
       "        positive  negative   sadness   disgust       joy topemotion  \n",
       "310406  0.114249  0.112965  0.093710  0.094994  0.097561   positive  \n",
       "310402  0.103448  0.110345  0.096552  0.110345  0.096552   negative  \n",
       "310405  0.108046  0.110345  0.094253  0.096552  0.094253   negative  \n",
       "310409  0.117647  0.117647  0.088235  0.117647  0.117647   positive  \n",
       "310389  0.111111  0.107794  0.096186  0.092869  0.104478   positive  \n",
       "310398  0.107246  0.115942  0.092754  0.098551  0.095652   negative  \n",
       "310395  0.107955  0.105114  0.093750  0.100852  0.099432   positive  \n",
       "310392  0.104089  0.115242  0.104089  0.106568  0.091698   negative  \n",
       "310401  0.099010  0.128713  0.089109  0.118812  0.089109   negative  \n",
       "310408  0.102804  0.112150  0.098131  0.107477  0.098131   negative  \n",
       "310425  0.000000  0.500000  0.000000  0.500000  0.000000   negative  \n",
       "310426  0.123967  0.107438  0.090909  0.090909  0.099174   positive  \n",
       "310403  0.118462  0.113846  0.095385  0.089231  0.093846   positive  \n",
       "310419  0.121372  0.113456  0.094987  0.089710  0.094987   positive  \n",
       "310411  0.107336  0.107336  0.097297  0.098842  0.099614   positive  \n",
       "310412  0.122581  0.109677  0.096774  0.096774  0.096774   positive  \n",
       "310413  0.139241  0.088608  0.088608  0.088608  0.113924   positive  \n",
       "310397  0.113924  0.126582  0.088608  0.113924  0.101266   negative  \n",
       "310396  0.109137  0.102792  0.097716  0.098985  0.098985   positive  \n",
       "310414  0.109023  0.105263  0.093985  0.101504  0.105263   positive  \n",
       "310424  0.173516  0.118721  0.082192  0.077626  0.105023   positive  \n",
       "310418  0.000000  0.500000  0.000000  0.500000  0.000000   negative  \n",
       "310422  0.105691  0.113821  0.089431  0.089431  0.105691    anticip  \n",
       "310407  0.090909  0.145455  0.109091  0.109091  0.090909   negative  \n",
       "310420  0.108696  0.115942  0.094203  0.108696  0.094203   negative  \n",
       "310399  0.093750  0.125000  0.093750  0.125000  0.093750   negative  \n",
       "310394  0.091837  0.122449  0.102041  0.112245  0.091837   negative  \n",
       "310393  0.117166  0.106267  0.087193  0.092643  0.100817   positive  \n",
       "310410  0.122642  0.122642  0.094340  0.094340  0.103774   positive  \n",
       "310390  0.107511  0.107511  0.098675  0.097202  0.095729   positive  \n",
       "310415  0.126761  0.103286  0.093897  0.093897  0.089202   positive  \n",
       "310428  0.118519  0.111111  0.093827  0.098765  0.091358   positive  \n",
       "310423  0.120000  0.120000  0.080000  0.120000  0.080000   positive  \n",
       "310391  0.116466  0.112450  0.096386  0.101740  0.088353   positive  \n",
       "310427  0.112583  0.099338  0.092715  0.092715  0.099338   positive  \n",
       "310421  0.108696  0.108696  0.086957  0.108696  0.108696    anticip  \n",
       "310417  0.124378  0.106965  0.092040  0.094527  0.092040   positive  \n",
       "310416  0.122685  0.106481  0.094907  0.092593  0.092593   positive  \n",
       "310400  0.114198  0.112654  0.094136  0.089506  0.092593      trust  \n",
       "310404  0.110577  0.116987  0.097756  0.092949  0.096154   negative  "
      ]
     },
     "execution_count": 177,
     "metadata": {},
     "output_type": "execute_result"
    }
   ],
   "source": [
    "sent_emotional[sent_emotional[\"Author\"]==\"griffith-j\"]"
   ]
  },
  {
   "cell_type": "code",
   "execution_count": 178,
   "metadata": {},
   "outputs": [],
   "source": [
    "from textblob import TextBlob"
   ]
  },
  {
   "cell_type": "code",
   "execution_count": 193,
   "metadata": {
    "cell_style": "center"
   },
   "outputs": [
    {
     "data": {
      "text/plain": [
       "'RE: detail of report rsr0503_cons'"
      ]
     },
     "execution_count": 193,
     "metadata": {},
     "output_type": "execute_result"
    }
   ],
   "source": [
    "reduced.loc[310402, \"Subject\"]"
   ]
  },
  {
   "cell_type": "code",
   "execution_count": 16,
   "metadata": {},
   "outputs": [
    {
     "data": {
      "text/plain": [
       "'Attached are redlines of the revised docs.  They are redlined against the \\nversions NNG reviewed earlier.\\n'"
      ]
     },
     "execution_count": 16,
     "metadata": {},
     "output_type": "execute_result"
    }
   ],
   "source": [
    "emotional.loc[298188, \"Content\"]"
   ]
  },
  {
   "cell_type": "code",
   "execution_count": 14,
   "metadata": {},
   "outputs": [
    {
     "data": {
      "text/plain": [
       "<matplotlib.axes._subplots.AxesSubplot at 0x7f41018fdd90>"
      ]
     },
     "execution_count": 14,
     "metadata": {},
     "output_type": "execute_result"
    },
    {
     "data": {
      "image/png": "[encoded data removed]",
      "text/plain": [
       "<Figure size 432x288 with 1 Axes>"
      ]
     },
     "metadata": {
      "needs_background": "light"
     },
     "output_type": "display_data"
    }
   ],
   "source": [
    "emotional.groupby(\"month\")[\"topemotion\"].value_counts().plot()"
   ]
  },
  {
   "cell_type": "code",
   "execution_count": 40,
   "metadata": {},
   "outputs": [
    {
     "data": {
      "text/plain": [
       "Index(['fear', 'anger', 'anticip', 'trust', 'surprise', 'positive', 'negative',\n",
       "       'sadness', 'disgust', 'joy'],\n",
       "      dtype='object')"
      ]
     },
     "execution_count": 40,
     "metadata": {},
     "output_type": "execute_result"
    }
   ],
   "source": [
    "emotional.columns[3:-2]"
   ]
  },
  {
   "cell_type": "code",
   "execution_count": 53,
   "metadata": {
    "collapsed": true
   },
   "outputs": [
    {
     "name": "stdout",
     "output_type": "stream",
     "text": [
      "1 took 0.1 seconds.\n",
      "2 took 0.05 seconds.\n",
      "3 took 0.05 seconds.\n",
      "4 took 0.05 seconds.\n",
      "5 took 0.06 seconds.\n",
      "6 took 0.05 seconds.\n",
      "7 took 0.04 seconds.\n",
      "8 took 0.04 seconds.\n",
      "9 took 0.05 seconds.\n",
      "10 took 0.11 seconds.\n",
      "11 took 0.1 seconds.\n",
      "12 took 0.06 seconds.\n",
      "Total time: 0.01 minutes.\n"
     ]
    },
    {
     "data": {
      "image/png": "[encoded data removed]",
      "text/plain": [
       "<Figure size 432x288 with 1 Axes>"
      ]
     },
     "metadata": {
      "needs_background": "light"
     },
     "output_type": "display_data"
    }
   ],
   "source": [
    "abs_start = start = time.time()\n",
    "for month in sorted(emotional[\"month\"].unique()):\n",
    "    series = emotional[emotional[\"month\"]==month][\"topemotion\"]\n",
    "    dct = {key: series.apply(lambda x:x==key).sum() for key in emotional.columns[3:-2]}\n",
    "    \n",
    "    plt.bar(emotional.columns[3:-2], dct.values())\n",
    "    #plt.bar(month, emotional[emotional[\"month\"]==month][\"topemotion\"].value_counts())\n",
    "    \n",
    "    print(month, \"took\", round(time.time() -start, 2), \"seconds.\")\n",
    "    start = time.time()\n",
    "print(\"Total time:\", round((time.time() -abs_start)/60, 2), \"minutes.\")\n",
    "plt.show()"
   ]
  },
  {
   "cell_type": "code",
   "execution_count": 64,
   "metadata": {
    "collapsed": true
   },
   "outputs": [
    {
     "ename": "KeyError",
     "evalue": "'month'",
     "output_type": "error",
     "traceback": [
      "\u001b[0;31m---------------------------------------------------------------------------\u001b[0m",
      "\u001b[0;31mKeyError\u001b[0m                                  Traceback (most recent call last)",
      "\u001b[0;32m<ipython-input-64-9e71087d2c5a>\u001b[0m in \u001b[0;36m<module>\u001b[0;34m\u001b[0m\n\u001b[1;32m      1\u001b[0m \u001b[0mfig\u001b[0m\u001b[0;34m,\u001b[0m \u001b[0max\u001b[0m \u001b[0;34m=\u001b[0m \u001b[0mplt\u001b[0m\u001b[0;34m.\u001b[0m\u001b[0msubplots\u001b[0m\u001b[0;34m(\u001b[0m\u001b[0mfigsize\u001b[0m\u001b[0;34m=\u001b[0m\u001b[0;34m(\u001b[0m\u001b[0;36m16\u001b[0m\u001b[0;34m,\u001b[0m\u001b[0;36m5\u001b[0m\u001b[0;34m)\u001b[0m\u001b[0;34m)\u001b[0m\u001b[0;34m\u001b[0m\u001b[0;34m\u001b[0m\u001b[0m\n\u001b[0;32m----> 2\u001b[0;31m \u001b[0memotional\u001b[0m\u001b[0;34m.\u001b[0m\u001b[0mgroupby\u001b[0m\u001b[0;34m(\u001b[0m\u001b[0;34m\"month\"\u001b[0m\u001b[0;34m)\u001b[0m\u001b[0;34m[\u001b[0m\u001b[0;34m\"topemotion\"\u001b[0m\u001b[0;34m]\u001b[0m\u001b[0;34m.\u001b[0m\u001b[0mvalue_counts\u001b[0m\u001b[0;34m(\u001b[0m\u001b[0;34m)\u001b[0m\u001b[0;34m.\u001b[0m\u001b[0mplot\u001b[0m\u001b[0;34m(\u001b[0m\u001b[0;34m)\u001b[0m\u001b[0;34m\u001b[0m\u001b[0;34m\u001b[0m\u001b[0m\n\u001b[0m",
      "\u001b[0;32m~/anaconda3/lib/python3.7/site-packages/pandas/core/frame.py\u001b[0m in \u001b[0;36mgroupby\u001b[0;34m(self, by, axis, level, as_index, sort, group_keys, squeeze, observed)\u001b[0m\n\u001b[1;32m   5808\u001b[0m             \u001b[0mgroup_keys\u001b[0m\u001b[0;34m=\u001b[0m\u001b[0mgroup_keys\u001b[0m\u001b[0;34m,\u001b[0m\u001b[0;34m\u001b[0m\u001b[0;34m\u001b[0m\u001b[0m\n\u001b[1;32m   5809\u001b[0m             \u001b[0msqueeze\u001b[0m\u001b[0;34m=\u001b[0m\u001b[0msqueeze\u001b[0m\u001b[0;34m,\u001b[0m\u001b[0;34m\u001b[0m\u001b[0;34m\u001b[0m\u001b[0m\n\u001b[0;32m-> 5810\u001b[0;31m             \u001b[0mobserved\u001b[0m\u001b[0;34m=\u001b[0m\u001b[0mobserved\u001b[0m\u001b[0;34m,\u001b[0m\u001b[0;34m\u001b[0m\u001b[0;34m\u001b[0m\u001b[0m\n\u001b[0m\u001b[1;32m   5811\u001b[0m         )\n\u001b[1;32m   5812\u001b[0m \u001b[0;34m\u001b[0m\u001b[0m\n",
      "\u001b[0;32m~/anaconda3/lib/python3.7/site-packages/pandas/core/groupby/groupby.py\u001b[0m in \u001b[0;36m__init__\u001b[0;34m(self, obj, keys, axis, level, grouper, exclusions, selection, as_index, sort, group_keys, squeeze, observed, mutated)\u001b[0m\n\u001b[1;32m    407\u001b[0m                 \u001b[0msort\u001b[0m\u001b[0;34m=\u001b[0m\u001b[0msort\u001b[0m\u001b[0;34m,\u001b[0m\u001b[0;34m\u001b[0m\u001b[0;34m\u001b[0m\u001b[0m\n\u001b[1;32m    408\u001b[0m                 \u001b[0mobserved\u001b[0m\u001b[0;34m=\u001b[0m\u001b[0mobserved\u001b[0m\u001b[0;34m,\u001b[0m\u001b[0;34m\u001b[0m\u001b[0;34m\u001b[0m\u001b[0m\n\u001b[0;32m--> 409\u001b[0;31m                 \u001b[0mmutated\u001b[0m\u001b[0;34m=\u001b[0m\u001b[0mself\u001b[0m\u001b[0;34m.\u001b[0m\u001b[0mmutated\u001b[0m\u001b[0;34m,\u001b[0m\u001b[0;34m\u001b[0m\u001b[0;34m\u001b[0m\u001b[0m\n\u001b[0m\u001b[1;32m    410\u001b[0m             )\n\u001b[1;32m    411\u001b[0m \u001b[0;34m\u001b[0m\u001b[0m\n",
      "\u001b[0;32m~/anaconda3/lib/python3.7/site-packages/pandas/core/groupby/grouper.py\u001b[0m in \u001b[0;36mget_grouper\u001b[0;34m(obj, key, axis, level, sort, observed, mutated, validate)\u001b[0m\n\u001b[1;32m    596\u001b[0m                 \u001b[0min_axis\u001b[0m\u001b[0;34m,\u001b[0m \u001b[0mname\u001b[0m\u001b[0;34m,\u001b[0m \u001b[0mlevel\u001b[0m\u001b[0;34m,\u001b[0m \u001b[0mgpr\u001b[0m \u001b[0;34m=\u001b[0m \u001b[0;32mFalse\u001b[0m\u001b[0;34m,\u001b[0m \u001b[0;32mNone\u001b[0m\u001b[0;34m,\u001b[0m \u001b[0mgpr\u001b[0m\u001b[0;34m,\u001b[0m \u001b[0;32mNone\u001b[0m\u001b[0;34m\u001b[0m\u001b[0;34m\u001b[0m\u001b[0m\n\u001b[1;32m    597\u001b[0m             \u001b[0;32melse\u001b[0m\u001b[0;34m:\u001b[0m\u001b[0;34m\u001b[0m\u001b[0;34m\u001b[0m\u001b[0m\n\u001b[0;32m--> 598\u001b[0;31m                 \u001b[0;32mraise\u001b[0m \u001b[0mKeyError\u001b[0m\u001b[0;34m(\u001b[0m\u001b[0mgpr\u001b[0m\u001b[0;34m)\u001b[0m\u001b[0;34m\u001b[0m\u001b[0;34m\u001b[0m\u001b[0m\n\u001b[0m\u001b[1;32m    599\u001b[0m         \u001b[0;32melif\u001b[0m \u001b[0misinstance\u001b[0m\u001b[0;34m(\u001b[0m\u001b[0mgpr\u001b[0m\u001b[0;34m,\u001b[0m \u001b[0mGrouper\u001b[0m\u001b[0;34m)\u001b[0m \u001b[0;32mand\u001b[0m \u001b[0mgpr\u001b[0m\u001b[0;34m.\u001b[0m\u001b[0mkey\u001b[0m \u001b[0;32mis\u001b[0m \u001b[0;32mnot\u001b[0m \u001b[0;32mNone\u001b[0m\u001b[0;34m:\u001b[0m\u001b[0;34m\u001b[0m\u001b[0;34m\u001b[0m\u001b[0m\n\u001b[1;32m    600\u001b[0m             \u001b[0;31m# Add key to exclusions\u001b[0m\u001b[0;34m\u001b[0m\u001b[0;34m\u001b[0m\u001b[0;34m\u001b[0m\u001b[0m\n",
      "\u001b[0;31mKeyError\u001b[0m: 'month'"
     ]
    },
    {
     "data": {
      "image/png": "[encoded data removed]",
      "text/plain": [
       "<Figure size 1152x360 with 1 Axes>"
      ]
     },
     "metadata": {
      "needs_background": "light"
     },
     "output_type": "display_data"
    }
   ],
   "source": [
    "fig, ax = plt.subplots(figsize=(16,5))\n",
    "emotional.groupby(\"month\")[\"topemotion\"].value_counts().plot()"
   ]
  },
  {
   "cell_type": "code",
   "execution_count": null,
   "metadata": {},
   "outputs": [],
   "source": []
  }
 ],
 "metadata": {
  "kernelspec": {
   "display_name": "Python 3",
   "language": "python",
   "name": "python3"
  },
  "language_info": {
   "codemirror_mode": {
    "name": "ipython",
    "version": 3
   },
   "file_extension": ".py",
   "mimetype": "text/x-python",
   "name": "python",
   "nbconvert_exporter": "python",
   "pygments_lexer": "ipython3",
   "version": "3.7.6"
  }
 },
 "nbformat": 4,
 "nbformat_minor": 4
}
