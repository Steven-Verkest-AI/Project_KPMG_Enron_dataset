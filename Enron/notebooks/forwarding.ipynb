{
 "cells": [
  {
   "cell_type": "code",
   "execution_count": 2,
   "metadata": {},
   "outputs": [],
   "source": [
    "import time\n",
    "import email\n",
    "import pickle\n",
    "\n",
    "import os; \n",
    "from os import listdir\n",
    "from os.path import join, isdir\n",
    "\n",
    "import pandas as pd\n",
    "import swifter\n",
    "\n",
    "import matplotlib.pyplot as plt\n",
    "\n",
    "path = \"/media/becode/3D_House/Enron_CSV/\""
   ]
  },
  {
   "cell_type": "markdown",
   "metadata": {},
   "source": [
    "# Load data"
   ]
  },
  {
   "cell_type": "code",
   "execution_count": 3,
   "metadata": {},
   "outputs": [],
   "source": [
    "data = pd.read_csv(join(path, \"reduced_mails_FINAL.csv\"), index_col=0)"
   ]
  },
  {
   "cell_type": "code",
   "execution_count": 6,
   "metadata": {},
   "outputs": [],
   "source": [
    "data[\"Corpus\"] = pickle.load(open(join(path, \"corpus.pkl\"), \"rb\"))"
   ]
  },
  {
   "cell_type": "code",
   "execution_count": 9,
   "metadata": {},
   "outputs": [],
   "source": [
    "import gensim; from gensim import corpora"
   ]
  },
  {
   "cell_type": "code",
   "execution_count": 10,
   "metadata": {},
   "outputs": [],
   "source": [
    "dictionary = corpora.Dictionary.load(join(path, \"dictionary.gensim\"))"
   ]
  },
  {
   "cell_type": "markdown",
   "metadata": {},
   "source": [
    "# Emotional"
   ]
  },
  {
   "cell_type": "code",
   "execution_count": 65,
   "metadata": {},
   "outputs": [],
   "source": [
    "emotional = pd.read_csv(join(path, \"emotional_content.csv\"), index_col=0)"
   ]
  },
  {
   "cell_type": "markdown",
   "metadata": {},
   "source": [
    "# Forwarding"
   ]
  },
  {
   "cell_type": "code",
   "execution_count": 11,
   "metadata": {},
   "outputs": [],
   "source": [
    "forward_keys = [v[0] for v in dictionary.items() if \"orward\" in v[1]]"
   ]
  },
  {
   "cell_type": "code",
   "execution_count": 47,
   "metadata": {},
   "outputs": [
    {
     "data": {
      "application/vnd.jupyter.widget-view+json": {
       "model_id": "",
       "version_major": 2,
       "version_minor": 0
      },
      "text/plain": [
       "HBox(children=(FloatProgress(value=0.0, description='Pandas Apply', max=288337.0, style=ProgressStyle(descript…"
      ]
     },
     "metadata": {},
     "output_type": "display_data"
    },
    {
     "name": "stdout",
     "output_type": "stream",
     "text": [
      "\n"
     ]
    }
   ],
   "source": [
    "data[\"IsForwarded\"] = data[\"Corpus\"].swifter.apply(lambda x: any([entry[0] in forward_keys for entry in x]))"
   ]
  },
  {
   "cell_type": "code",
   "execution_count": 50,
   "metadata": {},
   "outputs": [
    {
     "data": {
      "application/vnd.jupyter.widget-view+json": {
       "model_id": "5cd0c432f8e44dbc9ad0e5982d8b4881",
       "version_major": 2,
       "version_minor": 0
      },
      "text/plain": [
       "HBox(children=(FloatProgress(value=0.0, description='Pandas Apply', max=288337.0, style=ProgressStyle(descript…"
      ]
     },
     "metadata": {},
     "output_type": "display_data"
    },
    {
     "name": "stdout",
     "output_type": "stream",
     "text": [
      "\n"
     ]
    }
   ],
   "source": [
    "data[\"Forward_Score\"] = data[\"Corpus\"].swifter.apply(lambda x: sum([entry[0] in forward_keys for entry in x]))"
   ]
  },
  {
   "cell_type": "code",
   "execution_count": 49,
   "metadata": {
    "collapsed": true
   },
   "outputs": [
    {
     "data": {
      "text/plain": [
       "'Make sure that all curves are downloaded by the end of simulation, 11:00 CST, tomorrow.  Ideally, the 2/7/02 curves should be marked in the morning prior to simulation.  We have been instructed to kick the calculation off as close to 11:00 CST as possible.  This is to ensure that ALL downstream systems are able to run through the simulation.\\n\\nPlease forward to all applicable traders.\\n\\nThanks,\\nStacey'"
      ]
     },
     "execution_count": 49,
     "metadata": {},
     "output_type": "execute_result"
    }
   ],
   "source": [
    "data.loc[48849,\"Content\"]"
   ]
  },
  {
   "cell_type": "code",
   "execution_count": 53,
   "metadata": {
    "collapsed": true
   },
   "outputs": [
    {
     "data": {
      "text/plain": [
       "'I am forwarding some Wall Street comments from Kathryn Corbally related to \\nthe Transmission buyout.  \\n\\nLooks like they view it as very favorable - not a major hit against EPS tied \\nto full recovery of remaining undercollection.  \\n\\nNot sure yet if they incorporate the going forward - maybe SCE doesn\\'t want \\nany merchant obligations?\\n\\nJim\\n\\n\\n----- Forwarded by James D Steffes/NA/Enron on 02/27/2001 08:18 AM -----\\n\\n\\tKathryn Corbally\\n\\t02/26/2001 04:47 PM\\n\\t\\t \\n\\t\\t To: James D Steffes/NA/Enron@Enron\\n\\t\\t cc: \\n\\t\\t Subject: CaliforniA\\n\\n\\n\\nJim, Have sent you three notes that show some level of support to activity in \\nCalifornia  \\n- its probably a little bias since there are a few reports out there that say \\nquote the \\'devil is in the details\\' and quote \\n\\'the odds of bankruptcty remain in the 50% range.\\' \\n\\nNote1\\n09:42am EST 26-Feb-01 ABN AMRO Inc. (Ford,Daniel F. 212/258-1548) CPN DYN EIX \\nOne Down Two to Go\\n\\nOne Down Two to Go\\nABN AMRO -- Research Notes\\nSubject: Power\\nCompanies Mentioned: CPN, DYN#, EIX, PCG, SRE\\n\\nAnalyst:  Daniel F. Ford, CFA  212/258-1548\\n          Po Cheng, CFA  212/258-1709\\n==============================================================================\\n=\\nDate:     February 26, 2001\\n------------------------------------------------------------------------------\\n-\\nHighlights:\\n-  On Friday (2/23), Governor Davis triumphantly announced that the State of \\n   California and Edison International had reached an agreement in principle \\n   for the sale of its electric transmission system as part of a financial \\n   recovery package. He also commented that \"good progress\" was made with \\n   Sempra Energy and \"some progress\" with PG&E Corp.\\n-  The preliminary terms of the agreement call for the State to buy Edison\\'s \\n   transmission system for approximately $2.76 billion (2.3x estimated book \\n   value) and allow for the securitization of \"a substantial portion of its \\n   undercollection\".\\n-  In exchange, Edison would: 1) make payments of approximately $420 million \\n   to its utility subsidiary, Southern California Edison; 2) commit the \\nentire \\n   output of an Edison Mission project at cost-based rates for 10 years; 3) \\n   provide cost-based rates from native generation for another 10 years; 4) \\n   give conservation easements on 20,000 acreas of watershed lands for 99 \\n   years; and 5) drop a pending lawsuit against the California Public \\n   Utilities Commission.\\n-  We view this agreement as a positive development. Based on the 2.3x \\n   purchase price, the EPS hit from the loss of the transmission lines would \\n   be approximately $0.10 lower than our worst case estimate (at 1.5x) of \\n   $1.90 . The agreement, however, is not final and additional details need \\nto \\n   be worked out before being submitted to the legislature.\\n-  Events to watch over the next couple of weeks include: 1) a definitive \\n   agreement with Edison; 2) deals with PG&E Corp. and Sempra Energy; 3) a \\n   package that the legislature can accept (which could include concessions \\n   from generators); and 4) terms that are acceptable by the FERC.\\n-  In our opinion, the proposed deal is reasonable for EIX shareholders and \\n   renews the hope for a resolution to the crisis. While our optimism is \\n   tempered by the shortening timeframe, we are encouraged by the governor\\'s \\n   recent statements, which have been more positive than negative. As such, \\nwe \\n   maintain our Buy ratings on Edison International and PG&E Corp as well as \\n   on the generation companies: Calpine and Dynegy.\\n\\nOther News:\\nIn other related news, on Friday (2/23) Edison announced that all of its banks\\nhave agreed to extend their forbearance until March 14.\\n\\n\\n\\nNote 2 \\n\\n05:16pm EST 26-Feb-01 Goldman Sachs (NEWYORK) EIX PCG ACTION \\nEIX agrees to deal in principle with Gov Davis.PCG still negotiating.Buy \\nEIX...\\n\\n                 Goldman, Sachs & Co. Investment Research\\n\\nEIX agrees to deal in principle with Gov Davis.PCG still negotiating.Buy EI\\n\\n           \\n    \\n\\n*  On February 23, EIX and Governor Davis reached an agreement in principal\\n   in which the state would agree to buy the transmission grid and allow\\n   for recovery of a \\'substantial portion\\' of unrecovered cost in return\\n   for EIX refunding money from its parent to the utility and dropping\\n   pending litigation.  This settlement appears to be a  reasonable \\'shared\\n   pain\\' scenario and is consistent with the \\'buyout vs. bailout\\'\\n   structure we have been anticipating. To be enacted the deal needs to be\\n   finalized and approved by the EIX board and the California Legislature.\\n   FERC also must approve the asset sale.\\n*  EIX agreed to sell a portion of its electric transmission system to the\\n   state of California for $2.76 billion and transfer $420 million cash to\\n   its utility subsidiary from the parent.  In return, the state would\\n   allow EIX to recover a substantial portion of its under-collected power\\n   costs and drop pending litigation in which the company is pursuing rate\\n   hikes.  If approved by the EIX board and California legislature this\\n   agreement, in concert with passage of ABX1-1, would eliminate the\\n   overhang that has depressed EIX shares.\\n*  Although dependent on several factors, we believe the net impact on\\n   earnings from the settlement will not be as high as the current EIX\\n   stock price implies.  We believe post-settlement EPS in 2002 will likely\\n   total at least $2.00/share, which supports a conservative valuation of\\n   $20 share (10X \\'02 EPS, a 20% valuation discount to the peer group).\\n*  Also late last week, PCG issued a press release indicating they had met\\n   with the Governor, had submitted proposals, and discussions were\\n   ongoing.  With the framework already established for EIX, we expect a\\n   PCG settlement could be announced in the near future. PCG\\'s negotiating\\n   flexibility is limited relative to EIX because their generation rates\\n   are lower, their under-recovered balance is higher, and the potential\\n   cash \\'refund\\' from parent to subsidiary being requested by the\\n   government is probably larger.\\n*  PCG\\'s transmission system has a book value of roughly $1.5 billion.  At\\n   2.3X book value, these assets could potentially be worth $3.5 billion.\\n   Assuming a parent company to utility cash transfer proportional to the\\n   one proposed for EIX, we estimate PCG would refund $780 million. PCG\\'s\\n   stock price also reflects an earnings impact more punitive than implied\\n   by a settlement of this nature. We believe a deal like this would\\n   support post-settlement EPS of at least $2.50/share which supports a\\n   conservative valuation of $25/share (10X \\'02 eps, a 20% valuation\\n   discount to the peer group).\\n*  Because EIX has a \\'deal in principle\\' the stock is trading at a premium\\n   to PCG despite having lower potential 2002 earnings power. Those\\n   investors who believe PCG will strike a deal that is similar in\\n   structure and proportional to EIX\\'s settlement should purchase PCG over\\n   EIX at this juncture.\\n\\nNOTE 3\\n\\n09:17am EST 26-Feb-01 Merrill Lynch (S.Fleishman (1) 212 449-0926) EIX PCG \\nUTILITIES-ELECTRIC:California: One Goes Forward, But Need All Three\\n\\n    ML++ML++ML     Merrill Lynch Global Securities Research     ML++ML++ML\\n                             UTILITIES - ELECTRIC \\n                California: One Goes Forward, But Need All Three\\n                      Steven I. Fleishman (1) 212 449-0926\\nReason for Report:  Governor reaches preliminary agreement with Edison; PG&E \\nup\\nin the air; Need all 3 utilities to move forward\\n\\n\\n\\nInvestment Highlights:\\no    On Friday, Governor Davis announced a preliminary agreement with Edison\\nInternational (EIX; D-2-2-9; $14.69) on a financial resuscitation plan.  The\\nplan follows the basic framework previously outlined by the Governor.\\n\\no    The state will purchase Edison\\'s transmission assets for $2.76B, or 2.3x\\nbook value.  This would help pay off some of Edison\\'s net $4.1B of\\nundercollections (a number agreed upon with the Gov.)  The remainder will be\\nrecovered through a bond financing tied to a dedicated rate component to be\\ncarved-out of Edison\\'s rates.\\n\\no    In exchange, Edison will agree to: 1) Drop the lawsuit against the PUC, \\n2)\\nInvest $420M back into the utility from the parent, representing tax\\novercollections , and 3) Sell power from its hydro and nuclear assets at cost-\\nbased rates for the next 10 years.  Edison also agreed to sell power from its\\nunregulated Sunrise plant, currently under construction, at cost-based rates\\nfor 10 years.\\n\\no    A number of uncertainties remain in Edison\\'s deal, and it is still\\npreliminary.  The exact terms and language will be very important, \\nparticularly\\ngiven the need to issue securitization bonds.  It is impossible to provide\\nexact earnings guidance based on this deal, but the only loss of earnings \\npower\\nwould appear to come from lost transmission earnings (-$0.20-$0.25/share) and\\npotentially lower generation earnings depending on the terms of cost-based\\nrates.\\n\\no    This is a significant step forward for Edison and the resolution of the \\nCA\\npower credit crisis.  However, it could be for naught if the other utilities\\ncannot work out deals.  We believe Sempra Energy (SRE; B-2-1-7; $22.10) is\\nrelatively close, but PG&E\\'s (PCG; D-2-2-9, $13.70) talks were flailing last\\nweek.  We continue to see little chance that this plan can move forward and\\npass through the legislature unless all the utilities are on board.\\n\\no    We believe PG&E is willing to work a deal within this framework.  \\nHowever,\\nthe simple problem is that PCG\\'s undercollection numbers are much bigger.  At\\nYE 2000, PCG\\'s net undercollection was more than $5B and we believe this may\\nhave reached $7B by the end of January.  Selling the transmission for 2.3x \\nbook\\nwould provide only $3.5B, leaving the other half to be recovered though the\\ndedicated rate component/securitization.  It may be that the only way the\\nnumbers can work is with a rate increase.\\n\\nDespite the significant hurdles that remain, we believe the momentum toward a\\nconstructive outcome is improving.  To that end, we maintain our Accumulate\\nratings on EIX and PCG for high rate accounts.\\n'"
      ]
     },
     "execution_count": 53,
     "metadata": {},
     "output_type": "execute_result"
    }
   ],
   "source": [
    "data.loc[180929, \"Content\"]"
   ]
  },
  {
   "cell_type": "code",
   "execution_count": 61,
   "metadata": {},
   "outputs": [
    {
     "data": {
      "text/html": [
       "<div>\n",
       "<style scoped>\n",
       "    .dataframe tbody tr th:only-of-type {\n",
       "        vertical-align: middle;\n",
       "    }\n",
       "\n",
       "    .dataframe tbody tr th {\n",
       "        vertical-align: top;\n",
       "    }\n",
       "\n",
       "    .dataframe thead th {\n",
       "        text-align: right;\n",
       "    }\n",
       "</style>\n",
       "<table border=\"1\" class=\"dataframe\">\n",
       "  <thead>\n",
       "    <tr style=\"text-align: right;\">\n",
       "      <th></th>\n",
       "      <th>Content</th>\n",
       "      <th>Date</th>\n",
       "      <th>From</th>\n",
       "      <th>To</th>\n",
       "      <th>Subject</th>\n",
       "      <th>X-Folder</th>\n",
       "      <th>Words</th>\n",
       "      <th>VecSum</th>\n",
       "      <th>Author</th>\n",
       "      <th>Corpus</th>\n",
       "      <th>IsForwarded</th>\n",
       "      <th>Forward_Score</th>\n",
       "    </tr>\n",
       "  </thead>\n",
       "  <tbody>\n",
       "    <tr>\n",
       "      <th>254452</th>\n",
       "      <td>Naomi,\\n\\nThe two analysts that I have had con...</td>\n",
       "      <td>1999-12-10 07:00:00</td>\n",
       "      <td>phillip.allen@enron.com</td>\n",
       "      <td>naomi.johnston@enron.com</td>\n",
       "      <td>NaN</td>\n",
       "      <td>\\Phillip_Allen_Dec2000\\Notes Folders\\Discussio...</td>\n",
       "      <td>['Naomi', 'The', 'two', 'analysts', 'I', 'cont...</td>\n",
       "      <td>-2.095150</td>\n",
       "      <td>allen-p</td>\n",
       "      <td>[(0, 1), (7, 1), (10, 1), (11, 1), (12, 1), (1...</td>\n",
       "      <td>False</td>\n",
       "      <td>0</td>\n",
       "    </tr>\n",
       "    <tr>\n",
       "      <th>254533</th>\n",
       "      <td>Dear Associate / Analyst Committee:\\n\\nThe fo...</td>\n",
       "      <td>2001-05-11 09:54:00</td>\n",
       "      <td>alyse.herasimchuk@enron.com</td>\n",
       "      <td>phillip.allen@enron.com, robina.barker-bennett...</td>\n",
       "      <td>\"Save the Date\" - Associate / Analyst Program</td>\n",
       "      <td>\\Phillip_Allen_June2001\\Notes Folders\\Discussi...</td>\n",
       "      <td>['Dear', 'Associate', 'Analyst', 'Committee', ...</td>\n",
       "      <td>50.773918</td>\n",
       "      <td>allen-p</td>\n",
       "      <td>[(29, 1), (42, 1), (50, 1), (82, 3), (83, 3), ...</td>\n",
       "      <td>False</td>\n",
       "      <td>0</td>\n",
       "    </tr>\n",
       "    <tr>\n",
       "      <th>255431</th>\n",
       "      <td>Let me know when you get the quotes from Pauli...</td>\n",
       "      <td>2001-05-11 11:26:00</td>\n",
       "      <td>phillip.allen@enron.com</td>\n",
       "      <td>jsmith@austintx.com</td>\n",
       "      <td>NaN</td>\n",
       "      <td>\\PALLEN (Non-Privileged)\\Allen, Phillip K.\\Sen...</td>\n",
       "      <td>['Let', 'know', 'get', 'quotes', 'Pauline', 'I...</td>\n",
       "      <td>44.422264</td>\n",
       "      <td>allen-p</td>\n",
       "      <td>[(7, 1), (69, 3), (101, 1), (102, 1), (103, 1)...</td>\n",
       "      <td>False</td>\n",
       "      <td>0</td>\n",
       "    </tr>\n",
       "    <tr>\n",
       "      <th>254684</th>\n",
       "      <td>Jim,\\n\\nHere are the key gas contacts.\\n\\n   W...</td>\n",
       "      <td>2001-01-12 05:18:00</td>\n",
       "      <td>phillip.allen@enron.com</td>\n",
       "      <td>james.steffes@enron.com</td>\n",
       "      <td>NaN</td>\n",
       "      <td>\\Phillip_Allen_June2001\\Notes Folders\\Discussi...</td>\n",
       "      <td>['Jim', 'Here', 'key', 'gas', 'contacts', 'Wor...</td>\n",
       "      <td>174.465546</td>\n",
       "      <td>allen-p</td>\n",
       "      <td>[(0, 1), (7, 2), (23, 1), (50, 1), (126, 1), (...</td>\n",
       "      <td>False</td>\n",
       "      <td>0</td>\n",
       "    </tr>\n",
       "    <tr>\n",
       "      <th>254931</th>\n",
       "      <td>Andrea,\\n\\nPlease resend the first three resum...</td>\n",
       "      <td>2001-01-12 05:46:00</td>\n",
       "      <td>phillip.allen@enron.com</td>\n",
       "      <td>andrea.richards@enron.com</td>\n",
       "      <td>Re: Analyst Rotating</td>\n",
       "      <td>\\Phillip_Allen_June2001\\Notes Folders\\Sent</td>\n",
       "      <td>['Andrea', 'Please', 'resend', 'first', 'three...</td>\n",
       "      <td>24.347137</td>\n",
       "      <td>allen-p</td>\n",
       "      <td>[(7, 1), (25, 1), (50, 1), (145, 1), (151, 1),...</td>\n",
       "      <td>False</td>\n",
       "      <td>0</td>\n",
       "    </tr>\n",
       "    <tr>\n",
       "      <th>...</th>\n",
       "      <td>...</td>\n",
       "      <td>...</td>\n",
       "      <td>...</td>\n",
       "      <td>...</td>\n",
       "      <td>...</td>\n",
       "      <td>...</td>\n",
       "      <td>...</td>\n",
       "      <td>...</td>\n",
       "      <td>...</td>\n",
       "      <td>...</td>\n",
       "      <td>...</td>\n",
       "      <td>...</td>\n",
       "    </tr>\n",
       "    <tr>\n",
       "      <th>48777</th>\n",
       "      <td>John,\\n\\nThe Power Pool received the required ...</td>\n",
       "      <td>2002-01-09 07:16:13</td>\n",
       "      <td>carol.moline@powerpool.ab.ca</td>\n",
       "      <td>john.zufferli@enron.com</td>\n",
       "      <td>Security Deposit</td>\n",
       "      <td>\\ExMerge - Zufferli, John\\Inbox</td>\n",
       "      <td>['John', 'The', 'Power', 'Pool', 'received', '...</td>\n",
       "      <td>65.896057</td>\n",
       "      <td>zufferli-j</td>\n",
       "      <td>[(2, 1), (15, 3), (71, 1), (667, 1), (704, 1),...</td>\n",
       "      <td>False</td>\n",
       "      <td>0</td>\n",
       "    </tr>\n",
       "    <tr>\n",
       "      <th>48832</th>\n",
       "      <td>\\nq2 traded away 32 watt ex no credit otc  \\nq...</td>\n",
       "      <td>2002-01-09 07:19:11</td>\n",
       "      <td>cramer@cadvision.com</td>\n",
       "      <td>john.zufferli@enron.com</td>\n",
       "      <td>trade tuesday jan 8</td>\n",
       "      <td>\\ExMerge - Zufferli, John\\Inbox\\Quotes</td>\n",
       "      <td>['q2', 'traded', 'away', '32', 'watt', 'ex', '...</td>\n",
       "      <td>31.143114</td>\n",
       "      <td>zufferli-j</td>\n",
       "      <td>[(59, 1), (534, 2), (9060, 1)]</td>\n",
       "      <td>False</td>\n",
       "      <td>0</td>\n",
       "    </tr>\n",
       "    <tr>\n",
       "      <th>48522</th>\n",
       "      <td>Enron Canada Power Corp acknowledges the chang...</td>\n",
       "      <td>2002-01-09 07:30:16</td>\n",
       "      <td>john.zufferli@enron.com</td>\n",
       "      <td>carol.moline@powerpool.ab.ca</td>\n",
       "      <td>Chevron Contract</td>\n",
       "      <td>\\ExMerge - Zufferli, John\\Sent Items</td>\n",
       "      <td>['Enron', 'Canada', 'Power', 'Corp', 'acknowle...</td>\n",
       "      <td>116.660645</td>\n",
       "      <td>zufferli-j</td>\n",
       "      <td>[(2, 1), (15, 1), (22, 1), (87, 1), (141, 1), ...</td>\n",
       "      <td>False</td>\n",
       "      <td>0</td>\n",
       "    </tr>\n",
       "    <tr>\n",
       "      <th>48586</th>\n",
       "      <td>Nella here is a list of products that we would...</td>\n",
       "      <td>2002-01-09 09:46:43</td>\n",
       "      <td>john.zufferli@enron.com</td>\n",
       "      <td>nella.cappelletto@enron.com</td>\n",
       "      <td>Products</td>\n",
       "      <td>\\ExMerge - Zufferli, John\\Sent Items</td>\n",
       "      <td>['Nella', 'list', 'products', 'would', 'launch...</td>\n",
       "      <td>28.633648</td>\n",
       "      <td>zufferli-j</td>\n",
       "      <td>[(125, 1), (371, 1), (481, 3), (1441, 2), (177...</td>\n",
       "      <td>False</td>\n",
       "      <td>0</td>\n",
       "    </tr>\n",
       "    <tr>\n",
       "      <th>48559</th>\n",
       "      <td>Here is a list of products and counterparties\\...</td>\n",
       "      <td>2002-01-09 10:38:40</td>\n",
       "      <td>john.zufferli@enron.com</td>\n",
       "      <td>nella.cappelletto@enron.com</td>\n",
       "      <td>RE: Products</td>\n",
       "      <td>\\ExMerge - Zufferli, John\\Sent Items</td>\n",
       "      <td>['Here', 'list', 'products', 'counterparties',...</td>\n",
       "      <td>129.167648</td>\n",
       "      <td>zufferli-j</td>\n",
       "      <td>[(9, 2), (45, 2), (47, 2), (125, 1), (141, 2),...</td>\n",
       "      <td>False</td>\n",
       "      <td>0</td>\n",
       "    </tr>\n",
       "  </tbody>\n",
       "</table>\n",
       "<p>224323 rows × 12 columns</p>\n",
       "</div>"
      ],
      "text/plain": [
       "                                                  Content  \\\n",
       "254452  Naomi,\\n\\nThe two analysts that I have had con...   \n",
       "254533   Dear Associate / Analyst Committee:\\n\\nThe fo...   \n",
       "255431  Let me know when you get the quotes from Pauli...   \n",
       "254684  Jim,\\n\\nHere are the key gas contacts.\\n\\n   W...   \n",
       "254931  Andrea,\\n\\nPlease resend the first three resum...   \n",
       "...                                                   ...   \n",
       "48777   John,\\n\\nThe Power Pool received the required ...   \n",
       "48832   \\nq2 traded away 32 watt ex no credit otc  \\nq...   \n",
       "48522   Enron Canada Power Corp acknowledges the chang...   \n",
       "48586   Nella here is a list of products that we would...   \n",
       "48559   Here is a list of products and counterparties\\...   \n",
       "\n",
       "                       Date                          From  \\\n",
       "254452  1999-12-10 07:00:00       phillip.allen@enron.com   \n",
       "254533  2001-05-11 09:54:00   alyse.herasimchuk@enron.com   \n",
       "255431  2001-05-11 11:26:00       phillip.allen@enron.com   \n",
       "254684  2001-01-12 05:18:00       phillip.allen@enron.com   \n",
       "254931  2001-01-12 05:46:00       phillip.allen@enron.com   \n",
       "...                     ...                           ...   \n",
       "48777   2002-01-09 07:16:13  carol.moline@powerpool.ab.ca   \n",
       "48832   2002-01-09 07:19:11          cramer@cadvision.com   \n",
       "48522   2002-01-09 07:30:16       john.zufferli@enron.com   \n",
       "48586   2002-01-09 09:46:43       john.zufferli@enron.com   \n",
       "48559   2002-01-09 10:38:40       john.zufferli@enron.com   \n",
       "\n",
       "                                                       To  \\\n",
       "254452                           naomi.johnston@enron.com   \n",
       "254533  phillip.allen@enron.com, robina.barker-bennett...   \n",
       "255431                                jsmith@austintx.com   \n",
       "254684                            james.steffes@enron.com   \n",
       "254931                          andrea.richards@enron.com   \n",
       "...                                                   ...   \n",
       "48777                             john.zufferli@enron.com   \n",
       "48832                             john.zufferli@enron.com   \n",
       "48522                        carol.moline@powerpool.ab.ca   \n",
       "48586                         nella.cappelletto@enron.com   \n",
       "48559                         nella.cappelletto@enron.com   \n",
       "\n",
       "                                              Subject  \\\n",
       "254452                                            NaN   \n",
       "254533  \"Save the Date\" - Associate / Analyst Program   \n",
       "255431                                            NaN   \n",
       "254684                                            NaN   \n",
       "254931                           Re: Analyst Rotating   \n",
       "...                                               ...   \n",
       "48777                                Security Deposit   \n",
       "48832                             trade tuesday jan 8   \n",
       "48522                                Chevron Contract   \n",
       "48586                                        Products   \n",
       "48559                                    RE: Products   \n",
       "\n",
       "                                                 X-Folder  \\\n",
       "254452  \\Phillip_Allen_Dec2000\\Notes Folders\\Discussio...   \n",
       "254533  \\Phillip_Allen_June2001\\Notes Folders\\Discussi...   \n",
       "255431  \\PALLEN (Non-Privileged)\\Allen, Phillip K.\\Sen...   \n",
       "254684  \\Phillip_Allen_June2001\\Notes Folders\\Discussi...   \n",
       "254931         \\Phillip_Allen_June2001\\Notes Folders\\Sent   \n",
       "...                                                   ...   \n",
       "48777                     \\ExMerge - Zufferli, John\\Inbox   \n",
       "48832              \\ExMerge - Zufferli, John\\Inbox\\Quotes   \n",
       "48522                \\ExMerge - Zufferli, John\\Sent Items   \n",
       "48586                \\ExMerge - Zufferli, John\\Sent Items   \n",
       "48559                \\ExMerge - Zufferli, John\\Sent Items   \n",
       "\n",
       "                                                    Words      VecSum  \\\n",
       "254452  ['Naomi', 'The', 'two', 'analysts', 'I', 'cont...   -2.095150   \n",
       "254533  ['Dear', 'Associate', 'Analyst', 'Committee', ...   50.773918   \n",
       "255431  ['Let', 'know', 'get', 'quotes', 'Pauline', 'I...   44.422264   \n",
       "254684  ['Jim', 'Here', 'key', 'gas', 'contacts', 'Wor...  174.465546   \n",
       "254931  ['Andrea', 'Please', 'resend', 'first', 'three...   24.347137   \n",
       "...                                                   ...         ...   \n",
       "48777   ['John', 'The', 'Power', 'Pool', 'received', '...   65.896057   \n",
       "48832   ['q2', 'traded', 'away', '32', 'watt', 'ex', '...   31.143114   \n",
       "48522   ['Enron', 'Canada', 'Power', 'Corp', 'acknowle...  116.660645   \n",
       "48586   ['Nella', 'list', 'products', 'would', 'launch...   28.633648   \n",
       "48559   ['Here', 'list', 'products', 'counterparties',...  129.167648   \n",
       "\n",
       "            Author                                             Corpus  \\\n",
       "254452     allen-p  [(0, 1), (7, 1), (10, 1), (11, 1), (12, 1), (1...   \n",
       "254533     allen-p  [(29, 1), (42, 1), (50, 1), (82, 3), (83, 3), ...   \n",
       "255431     allen-p  [(7, 1), (69, 3), (101, 1), (102, 1), (103, 1)...   \n",
       "254684     allen-p  [(0, 1), (7, 2), (23, 1), (50, 1), (126, 1), (...   \n",
       "254931     allen-p  [(7, 1), (25, 1), (50, 1), (145, 1), (151, 1),...   \n",
       "...            ...                                                ...   \n",
       "48777   zufferli-j  [(2, 1), (15, 3), (71, 1), (667, 1), (704, 1),...   \n",
       "48832   zufferli-j                     [(59, 1), (534, 2), (9060, 1)]   \n",
       "48522   zufferli-j  [(2, 1), (15, 1), (22, 1), (87, 1), (141, 1), ...   \n",
       "48586   zufferli-j  [(125, 1), (371, 1), (481, 3), (1441, 2), (177...   \n",
       "48559   zufferli-j  [(9, 2), (45, 2), (47, 2), (125, 1), (141, 2),...   \n",
       "\n",
       "        IsForwarded  Forward_Score  \n",
       "254452        False              0  \n",
       "254533        False              0  \n",
       "255431        False              0  \n",
       "254684        False              0  \n",
       "254931        False              0  \n",
       "...             ...            ...  \n",
       "48777         False              0  \n",
       "48832         False              0  \n",
       "48522         False              0  \n",
       "48586         False              0  \n",
       "48559         False              0  \n",
       "\n",
       "[224323 rows x 12 columns]"
      ]
     },
     "execution_count": 61,
     "metadata": {},
     "output_type": "execute_result"
    }
   ],
   "source": [
    "data[~data[\"IsForwarded\"]]"
   ]
  }
 ],
 "metadata": {
  "kernelspec": {
   "display_name": "Python 3",
   "language": "python",
   "name": "python3"
  },
  "language_info": {
   "codemirror_mode": {
    "name": "ipython",
    "version": 3
   },
   "file_extension": ".py",
   "mimetype": "text/x-python",
   "name": "python",
   "nbconvert_exporter": "python",
   "pygments_lexer": "ipython3",
   "version": "3.7.6"
  }
 },
 "nbformat": 4,
 "nbformat_minor": 4
}
