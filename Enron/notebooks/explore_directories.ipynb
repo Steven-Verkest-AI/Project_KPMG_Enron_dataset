{
 "cells": [
  {
   "cell_type": "code",
   "execution_count": 6,
   "metadata": {},
   "outputs": [],
   "source": [
    "import os; \n",
    "from os import listdir\n",
    "from os.path import join, isdir\n",
    "\n",
    "import numpy as np\n",
    "\n",
    "import pandas as pd\n",
    "pd.options.display.max_rows = 999\n",
    "pd.set_option('display.max_colwidth', 300)"
   ]
  },
  {
   "cell_type": "code",
   "execution_count": 22,
   "metadata": {},
   "outputs": [],
   "source": [
    "path = \"/media/becode/3D_House/Enron/\"\n",
    "df = pd.DataFrame()\n",
    "df[\"Employee\"] = sorted(os.listdir(path))\n",
    "df[\"Directories\"] = df[\"Employee\"].apply(lambda x: os.listdir(path +x))\n",
    "df[\"Count\"] = df[\"Directories\"].apply(lambda x: len(x))"
   ]
  },
  {
   "cell_type": "markdown",
   "metadata": {},
   "source": [
    "The current version contains 619,446 messages belonging to 158 users. We cleaned the corpus\n",
    "for use in these experiments by removing certain folders from each user, such\n",
    "as **“discussion threads” and “notes inbox”**. These folders were present for most\n",
    "users, and did not appear to be used directly by the users, but rather were computer generated. Many, such as **“all documents”**, also contained large numbers of\n",
    "duplicate email messages, which were already present in the users’ other folders.\n",
    "Since our goal in this paper is to explore how to classify messages as organized\n",
    "by a human, these folders would have likely been misleading.\n",
    "In our cleaned Enron corpus, there are a total of 200,399 messages belonging\n",
    "to 158 users with an average of 757 messages per user. This is approximately one\n",
    "third the size of the original corpus"
   ]
  },
  {
   "cell_type": "markdown",
   "metadata": {},
   "source": [
    "#### Largest list"
   ]
  },
  {
   "cell_type": "code",
   "execution_count": 43,
   "metadata": {},
   "outputs": [],
   "source": [
    "lst = []\n",
    "for idx, directories in enumerate(df[\"Directories\"]):\n",
    "    for _dir in directories:\n",
    "        if _dir not in lst: lst.append(_dir)"
   ]
  },
  {
   "cell_type": "code",
   "execution_count": null,
   "metadata": {},
   "outputs": [],
   "source": [
    "df.apply(lambda x: x[\"Directories\"][np.array([\n",
    "        len(listdir(join(path, x[\"Employee\"], _dir))) \n",
    "        for _dir in x[\"Directories\"]\n",
    "        if isdir(join(path, x[\"Employee\"], _dir))\n",
    "    ]\n",
    ").argmax()], axis=1)"
   ]
  },
  {
   "cell_type": "code",
   "execution_count": 19,
   "metadata": {},
   "outputs": [],
   "source": [
    "blacklist_dir = [\"discussion_threads\", \"notes_inbox\", \"all_documents\"]"
   ]
  },
  {
   "cell_type": "code",
   "execution_count": 41,
   "metadata": {},
   "outputs": [],
   "source": [
    "df[\"Sent\"] = df[\"Directories\"].apply(lambda x: \"sent\" in x)\n",
    "df[\"Sent_items\"] = df[\"Directories\"].apply(lambda x: \"sent_items\" in x)\n",
    "df[\"Sent_mails\"] = df[\"Directories\"].apply(lambda x: \"_sent_mail\" in x)"
   ]
  },
  {
   "cell_type": "markdown",
   "metadata": {},
   "source": [
    "### No sent/sent_items (_sent_items)"
   ]
  },
  {
   "cell_type": "code",
   "execution_count": 44,
   "metadata": {
    "scrolled": false
   },
   "outputs": [
    {
     "data": {
      "text/html": [
       "<div>\n",
       "<style scoped>\n",
       "    .dataframe tbody tr th:only-of-type {\n",
       "        vertical-align: middle;\n",
       "    }\n",
       "\n",
       "    .dataframe tbody tr th {\n",
       "        vertical-align: top;\n",
       "    }\n",
       "\n",
       "    .dataframe thead th {\n",
       "        text-align: right;\n",
       "    }\n",
       "</style>\n",
       "<table border=\"1\" class=\"dataframe\">\n",
       "  <thead>\n",
       "    <tr style=\"text-align: right;\">\n",
       "      <th></th>\n",
       "      <th>Employee</th>\n",
       "      <th>Directories</th>\n",
       "      <th>Count</th>\n",
       "      <th>Sent</th>\n",
       "      <th>Sent_items</th>\n",
       "      <th>Sent_mails</th>\n",
       "    </tr>\n",
       "  </thead>\n",
       "  <tbody>\n",
       "    <tr>\n",
       "      <th>41</th>\n",
       "      <td>guzman-m</td>\n",
       "      <td>[discussion_threads, notes_inbox, all_documents, _sent_mail]</td>\n",
       "      <td>4</td>\n",
       "      <td>False</td>\n",
       "      <td>False</td>\n",
       "      <td>True</td>\n",
       "    </tr>\n",
       "    <tr>\n",
       "      <th>43</th>\n",
       "      <td>hain-m</td>\n",
       "      <td>[discussion_threads, my_personal, notes_inbox, all_documents, _sent_mail]</td>\n",
       "      <td>5</td>\n",
       "      <td>False</td>\n",
       "      <td>False</td>\n",
       "      <td>True</td>\n",
       "    </tr>\n",
       "    <tr>\n",
       "      <th>44</th>\n",
       "      <td>harris-s</td>\n",
       "      <td>[deleted_items, inbox]</td>\n",
       "      <td>2</td>\n",
       "      <td>False</td>\n",
       "      <td>False</td>\n",
       "      <td>False</td>\n",
       "    </tr>\n",
       "    <tr>\n",
       "      <th>66</th>\n",
       "      <td>linder-e</td>\n",
       "      <td>[discussion_threads, notes_inbox, all_documents, _sent_mail]</td>\n",
       "      <td>4</td>\n",
       "      <td>False</td>\n",
       "      <td>False</td>\n",
       "      <td>True</td>\n",
       "    </tr>\n",
       "    <tr>\n",
       "      <th>80</th>\n",
       "      <td>merriss-s</td>\n",
       "      <td>[discussion_threads, notes_inbox, all_documents, _sent_mail]</td>\n",
       "      <td>4</td>\n",
       "      <td>False</td>\n",
       "      <td>False</td>\n",
       "      <td>True</td>\n",
       "    </tr>\n",
       "    <tr>\n",
       "      <th>127</th>\n",
       "      <td>stokley-c</td>\n",
       "      <td>[chris_stokley]</td>\n",
       "      <td>1</td>\n",
       "      <td>False</td>\n",
       "      <td>False</td>\n",
       "      <td>False</td>\n",
       "    </tr>\n",
       "  </tbody>\n",
       "</table>\n",
       "</div>"
      ],
      "text/plain": [
       "      Employee  \\\n",
       "41    guzman-m   \n",
       "43      hain-m   \n",
       "44    harris-s   \n",
       "66    linder-e   \n",
       "80   merriss-s   \n",
       "127  stokley-c   \n",
       "\n",
       "                                                                   Directories  \\\n",
       "41                [discussion_threads, notes_inbox, all_documents, _sent_mail]   \n",
       "43   [discussion_threads, my_personal, notes_inbox, all_documents, _sent_mail]   \n",
       "44                                                      [deleted_items, inbox]   \n",
       "66                [discussion_threads, notes_inbox, all_documents, _sent_mail]   \n",
       "80                [discussion_threads, notes_inbox, all_documents, _sent_mail]   \n",
       "127                                                            [chris_stokley]   \n",
       "\n",
       "     Count   Sent  Sent_items  Sent_mails  \n",
       "41       4  False       False        True  \n",
       "43       5  False       False        True  \n",
       "44       2  False       False       False  \n",
       "66       4  False       False        True  \n",
       "80       4  False       False        True  \n",
       "127      1  False       False       False  "
      ]
     },
     "execution_count": 44,
     "metadata": {},
     "output_type": "execute_result"
    }
   ],
   "source": [
    "df[~df.apply(lambda x: any([x[\"Sent\"], x[\"Sent_items\"]]), axis=1)]"
   ]
  },
  {
   "cell_type": "code",
   "execution_count": null,
   "metadata": {},
   "outputs": [],
   "source": []
  }
 ],
 "metadata": {
  "kernelspec": {
   "display_name": "Python 3",
   "language": "python",
   "name": "python3"
  },
  "language_info": {
   "codemirror_mode": {
    "name": "ipython",
    "version": 3
   },
   "file_extension": ".py",
   "mimetype": "text/x-python",
   "name": "python",
   "nbconvert_exporter": "python",
   "pygments_lexer": "ipython3",
   "version": "3.7.6"
  }
 },
 "nbformat": 4,
 "nbformat_minor": 4
}
