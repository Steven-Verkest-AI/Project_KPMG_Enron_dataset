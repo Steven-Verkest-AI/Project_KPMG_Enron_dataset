{
 "cells": [
  {
   "cell_type": "code",
   "execution_count": 39,
   "metadata": {},
   "outputs": [
    {
     "name": "stderr",
     "output_type": "stream",
     "text": [
      "[nltk_data] Downloading package punkt to /home/becode/nltk_data...\n",
      "[nltk_data]   Package punkt is already up-to-date!\n",
      "[nltk_data] Downloading package stopwords to /home/becode/nltk_data...\n",
      "[nltk_data]   Package stopwords is already up-to-date!\n"
     ]
    },
    {
     "data": {
      "text/plain": [
       "True"
      ]
     },
     "execution_count": 39,
     "metadata": {},
     "output_type": "execute_result"
    }
   ],
   "source": [
    "import re\n",
    "import time\n",
    "import numpy as np\n",
    "\n",
    "from textblob import TextBlob\n",
    "from textblob.sentiments import NaiveBayesAnalyzer\n",
    "from profanityfilter import ProfanityFilter\n",
    "\n",
    "import pandas as pd\n",
    "pd.options.display.max_rows = 999\n",
    "pd.set_option('display.max_colwidth', 300)\n",
    "\n",
    "import matplotlib.pyplot as plt\n",
    "\n",
    "import nltk\n",
    "from nltk.corpus import stopwords\n",
    "from nltk.probability import FreqDist\n",
    "from nltk.tokenize import RegexpTokenizer\n",
    "\n",
    "nltk.download('punkt')\n",
    "nltk.download('stopwords')"
   ]
  },
  {
   "cell_type": "code",
   "execution_count": 12,
   "metadata": {},
   "outputs": [],
   "source": [
    "raw = pd.read_csv(\"mails_raw.csv\", index_col=0)\n",
    "# Remove nan\n",
    "raw = raw.drop(raw[raw[\"To\"].isnull() & raw[\"X-To\"].isnull()].index)"
   ]
  },
  {
   "cell_type": "code",
   "execution_count": 270,
   "metadata": {},
   "outputs": [],
   "source": [
    "idx = raw[raw.Content.apply(lambda x: \"confidential\" in x)].From.index#value_counts().sum()"
   ]
  },
  {
   "cell_type": "code",
   "execution_count": null,
   "metadata": {
    "scrolled": false
   },
   "outputs": [],
   "source": [
    "for line in raw.loc[idx].Content.iloc[6].split(\"\\n\"):\n",
    "    print(line)"
   ]
  },
  {
   "cell_type": "code",
   "execution_count": 3,
   "metadata": {},
   "outputs": [
    {
     "name": "stderr",
     "output_type": "stream",
     "text": [
      "/home/becode/anaconda3/lib/python3.7/site-packages/ipykernel_launcher.py:2: SettingWithCopyWarning: \n",
      "A value is trying to be set on a copy of a slice from a DataFrame.\n",
      "Try using .loc[row_indexer,col_indexer] = value instead\n",
      "\n",
      "See the caveats in the documentation: https://pandas.pydata.org/pandas-docs/stable/user_guide/indexing.html#returning-a-view-versus-a-copy\n",
      "  \n"
     ]
    }
   ],
   "source": [
    "df = raw[[\"Content\", \"Date\"]]\n",
    "df[\"Between\"] = raw.apply(lambda x: [x[\"From\"], x[\"To\"]], axis=1)"
   ]
  },
  {
   "cell_type": "code",
   "execution_count": 4,
   "metadata": {},
   "outputs": [
    {
     "name": "stderr",
     "output_type": "stream",
     "text": [
      "/home/becode/anaconda3/lib/python3.7/site-packages/ipykernel_launcher.py:5: SettingWithCopyWarning: \n",
      "A value is trying to be set on a copy of a slice from a DataFrame.\n",
      "Try using .loc[row_indexer,col_indexer] = value instead\n",
      "\n",
      "See the caveats in the documentation: https://pandas.pydata.org/pandas-docs/stable/user_guide/indexing.html#returning-a-view-versus-a-copy\n",
      "  \"\"\"\n"
     ]
    },
    {
     "name": "stdout",
     "output_type": "stream",
     "text": [
      "Took 13.87 seconds.\n"
     ]
    },
    {
     "name": "stderr",
     "output_type": "stream",
     "text": [
      "/home/becode/anaconda3/lib/python3.7/site-packages/ipykernel_launcher.py:6: SettingWithCopyWarning: \n",
      "A value is trying to be set on a copy of a slice from a DataFrame.\n",
      "Try using .loc[row_indexer,col_indexer] = value instead\n",
      "\n",
      "See the caveats in the documentation: https://pandas.pydata.org/pandas-docs/stable/user_guide/indexing.html#returning-a-view-versus-a-copy\n",
      "  \n"
     ]
    }
   ],
   "source": [
    "start = time.time()\n",
    "\n",
    "tokenizer = RegexpTokenizer(r'\\w+')\n",
    "\n",
    "df[\"Token\"] = df[\"Content\"].apply(tokenizer.tokenize)\n",
    "df[\"Token\"] = df[\"Token\"].apply(lambda x: [word.lower() for word in x])\n",
    "\n",
    "print(\"Took\", round(time.time()-start, 2), \"seconds.\")"
   ]
  },
  {
   "cell_type": "code",
   "execution_count": 5,
   "metadata": {},
   "outputs": [
    {
     "name": "stdout",
     "output_type": "stream",
     "text": [
      "Took 4.17 seconds.\n"
     ]
    },
    {
     "name": "stderr",
     "output_type": "stream",
     "text": [
      "/home/becode/anaconda3/lib/python3.7/site-packages/ipykernel_launcher.py:4: SettingWithCopyWarning: \n",
      "A value is trying to be set on a copy of a slice from a DataFrame.\n",
      "Try using .loc[row_indexer,col_indexer] = value instead\n",
      "\n",
      "See the caveats in the documentation: https://pandas.pydata.org/pandas-docs/stable/user_guide/indexing.html#returning-a-view-versus-a-copy\n",
      "  after removing the cwd from sys.path.\n"
     ]
    }
   ],
   "source": [
    "start = time.time()\n",
    "\n",
    "stop_words = set(stopwords.words('english'))\n",
    "df[\"Strip\"] = df[\"Token\"].apply(lambda x: [word for word in x if word not in stop_words])\n",
    "\n",
    "print(\"Took\", round(time.time()-start, 2), \"seconds.\")"
   ]
  },
  {
   "cell_type": "code",
   "execution_count": 6,
   "metadata": {},
   "outputs": [
    {
     "name": "stdout",
     "output_type": "stream",
     "text": [
      "Took 14.03 seconds.\n"
     ]
    },
    {
     "name": "stderr",
     "output_type": "stream",
     "text": [
      "/home/becode/anaconda3/lib/python3.7/site-packages/ipykernel_launcher.py:3: SettingWithCopyWarning: \n",
      "A value is trying to be set on a copy of a slice from a DataFrame.\n",
      "Try using .loc[row_indexer,col_indexer] = value instead\n",
      "\n",
      "See the caveats in the documentation: https://pandas.pydata.org/pandas-docs/stable/user_guide/indexing.html#returning-a-view-versus-a-copy\n",
      "  This is separate from the ipykernel package so we can avoid doing imports until\n"
     ]
    }
   ],
   "source": [
    "start = time.time()\n",
    "\n",
    "df[\"Freq\"] = df[\"Strip\"].apply(lambda x: dict(FreqDist(x).most_common()))\n",
    "\n",
    "print(\"Took\", round(time.time()-start, 2), \"seconds.\")"
   ]
  },
  {
   "cell_type": "code",
   "execution_count": 8,
   "metadata": {},
   "outputs": [],
   "source": [
    "df.to_csv(\"mails_features.csv\")"
   ]
  },
  {
   "cell_type": "code",
   "execution_count": 4,
   "metadata": {},
   "outputs": [],
   "source": [
    "df = pd.read_csv(\"mails_features.csv\", index_col=0)"
   ]
  },
  {
   "cell_type": "code",
   "execution_count": 497,
   "metadata": {
    "scrolled": false
   },
   "outputs": [
    {
     "data": {
      "text/html": [
       "<div>\n",
       "<style scoped>\n",
       "    .dataframe tbody tr th:only-of-type {\n",
       "        vertical-align: middle;\n",
       "    }\n",
       "\n",
       "    .dataframe tbody tr th {\n",
       "        vertical-align: top;\n",
       "    }\n",
       "\n",
       "    .dataframe thead th {\n",
       "        text-align: right;\n",
       "    }\n",
       "</style>\n",
       "<table border=\"1\" class=\"dataframe\">\n",
       "  <thead>\n",
       "    <tr style=\"text-align: right;\">\n",
       "      <th></th>\n",
       "      <th>Content</th>\n",
       "      <th>Message-ID</th>\n",
       "      <th>Date</th>\n",
       "      <th>From</th>\n",
       "      <th>To</th>\n",
       "      <th>Subject</th>\n",
       "      <th>Cc</th>\n",
       "      <th>Mime-Version</th>\n",
       "      <th>Content-Type</th>\n",
       "      <th>Content-Transfer-Encoding</th>\n",
       "      <th>Bcc</th>\n",
       "      <th>X-From</th>\n",
       "      <th>X-To</th>\n",
       "      <th>X-cc</th>\n",
       "      <th>X-bcc</th>\n",
       "      <th>X-Folder</th>\n",
       "      <th>X-Origin</th>\n",
       "      <th>X-FileName</th>\n",
       "    </tr>\n",
       "  </thead>\n",
       "  <tbody>\n",
       "    <tr>\n",
       "      <th>0</th>\n",
       "      <td>---------------------- Forwarded by John Arnold/HOU/ECT on 05/10/2001 02:21 \\nPM ---------------------------\\n\\n\\n\"Schaefer, Matthew\" &lt;MSchaefer@NYMEX.com&gt; on 05/10/2001 10:52:30 AM\\nTo: Brad Banky &lt;bbanky@txues.com&gt;, David Rosenberg \\n&lt;david.m.rosenberg@enron.com&gt;, George Gero &lt;anthony_gero@pru...</td>\n",
       "      <td>&lt;25702046.1075849632104.JavaMail.evans@thyme&gt;</td>\n",
       "      <td>2001-05-10 07:16:00-07:00</td>\n",
       "      <td>john.arnold@enron.com</td>\n",
       "      <td>mike.maggi@enron.com</td>\n",
       "      <td>Options Advisory Committee Meeting - May 31st</td>\n",
       "      <td>NaN</td>\n",
       "      <td>1.0</td>\n",
       "      <td>text/plain; charset=us-ascii</td>\n",
       "      <td>7bit</td>\n",
       "      <td>NaN</td>\n",
       "      <td>John Arnold</td>\n",
       "      <td>Mike Maggi</td>\n",
       "      <td>NaN</td>\n",
       "      <td>NaN</td>\n",
       "      <td>\\John_Arnold_Oct2001\\Notes Folders\\Sent</td>\n",
       "      <td>ARNOLD-J</td>\n",
       "      <td>jarnold.nsf</td>\n",
       "    </tr>\n",
       "    <tr>\n",
       "      <th>1</th>\n",
       "      <td>David:\\nDo you have a simulation set up that will allow me to simulate trades by \\npushing a buy or sell button and will move the two way so i can try \\nsimulating actual market cicumstances?\\n\\n\\nFrom: David Forster/ENRON@enronXgate on 05/08/2001 09:55 AM\\nTo: John Arnold/HOU/ECT@ECT\\ncc: Savit...</td>\n",
       "      <td>&lt;28095741.1075849632148.JavaMail.evans@thyme&gt;</td>\n",
       "      <td>2001-05-13 07:52:00-07:00</td>\n",
       "      <td>john.arnold@enron.com</td>\n",
       "      <td>david.forster@enron.com</td>\n",
       "      <td>Re:</td>\n",
       "      <td>NaN</td>\n",
       "      <td>1.0</td>\n",
       "      <td>text/plain; charset=us-ascii</td>\n",
       "      <td>7bit</td>\n",
       "      <td>NaN</td>\n",
       "      <td>John Arnold</td>\n",
       "      <td>David Forster</td>\n",
       "      <td>NaN</td>\n",
       "      <td>NaN</td>\n",
       "      <td>\\John_Arnold_Oct2001\\Notes Folders\\Sent</td>\n",
       "      <td>ARNOLD-J</td>\n",
       "      <td>jarnold.nsf</td>\n",
       "    </tr>\n",
       "    <tr>\n",
       "      <th>2</th>\n",
       "      <td>Yolanda\\n\\nI will be attending the ski outing - I am not sure about my arrival and \\ndeparture dates, but I did put tentative dates. Once I make my bookings I \\nwill update you on my final dates. I might stay an extra day, and will pick \\nthat up. Thanks\\n\\n\\nHarry\\n\\n\\n</td>\n",
       "      <td>&lt;3676806.1075848347249.JavaMail.evans@thyme&gt;</td>\n",
       "      <td>2000-12-15 03:44:00-08:00</td>\n",
       "      <td>harry.arora@enron.com</td>\n",
       "      <td>yolanda.roberts@enron.com</td>\n",
       "      <td>Re: Aspen</td>\n",
       "      <td>NaN</td>\n",
       "      <td>1.0</td>\n",
       "      <td>text/plain; charset=us-ascii</td>\n",
       "      <td>7bit</td>\n",
       "      <td>NaN</td>\n",
       "      <td>Harry Arora</td>\n",
       "      <td>Yolanda Roberts</td>\n",
       "      <td>NaN</td>\n",
       "      <td>NaN</td>\n",
       "      <td>\\Harpreet_Arora_Nov2001\\Notes Folders\\Sent</td>\n",
       "      <td>ARORA-H</td>\n",
       "      <td>harora.nsf</td>\n",
       "    </tr>\n",
       "    <tr>\n",
       "      <th>3</th>\n",
       "      <td>Suresh\\n\\nFor the next two weeks, I'd like you to focus on the following.\\n\\n1. Development frame-work and getting Zach upto speed\\n Specs for Syndication report &amp; testing &amp; production date\\n Finalize questionnaire and production date\\n Modifications to Invitee and User stats\\n2. EnronOnline auc...</td>\n",
       "      <td>&lt;22378087.1075848347271.JavaMail.evans@thyme&gt;</td>\n",
       "      <td>2001-01-05 08:24:00-08:00</td>\n",
       "      <td>harry.arora@enron.com</td>\n",
       "      <td>suresh.raghavan@enron.com</td>\n",
       "      <td>Tasks</td>\n",
       "      <td>NaN</td>\n",
       "      <td>1.0</td>\n",
       "      <td>text/plain; charset=us-ascii</td>\n",
       "      <td>7bit</td>\n",
       "      <td>NaN</td>\n",
       "      <td>Harry Arora</td>\n",
       "      <td>Suresh Raghavan</td>\n",
       "      <td>NaN</td>\n",
       "      <td>NaN</td>\n",
       "      <td>\\Harpreet_Arora_Nov2001\\Notes Folders\\Sent</td>\n",
       "      <td>ARORA-H</td>\n",
       "      <td>harora.nsf</td>\n",
       "    </tr>\n",
       "    <tr>\n",
       "      <th>4</th>\n",
       "      <td>Dave\\n\\nFind enclosed the business plan and the valuation model for DealBench.  Feel \\nfree to call me with questions.\\n\\n\\n\\n\\n\\n\\nHarry Arora</td>\n",
       "      <td>&lt;30442669.1075848347294.JavaMail.evans@thyme&gt;</td>\n",
       "      <td>2001-01-22 10:36:00-08:00</td>\n",
       "      <td>harry.arora@enron.com</td>\n",
       "      <td>dave.samuels@enron.com</td>\n",
       "      <td>Business Plan</td>\n",
       "      <td>NaN</td>\n",
       "      <td>1.0</td>\n",
       "      <td>text/plain; charset=us-ascii</td>\n",
       "      <td>7bit</td>\n",
       "      <td>NaN</td>\n",
       "      <td>Harry Arora</td>\n",
       "      <td>Dave Samuels</td>\n",
       "      <td>NaN</td>\n",
       "      <td>NaN</td>\n",
       "      <td>\\Harpreet_Arora_Nov2001\\Notes Folders\\Sent</td>\n",
       "      <td>ARORA-H</td>\n",
       "      <td>harora.nsf</td>\n",
       "    </tr>\n",
       "    <tr>\n",
       "      <th>...</th>\n",
       "      <td>...</td>\n",
       "      <td>...</td>\n",
       "      <td>...</td>\n",
       "      <td>...</td>\n",
       "      <td>...</td>\n",
       "      <td>...</td>\n",
       "      <td>...</td>\n",
       "      <td>...</td>\n",
       "      <td>...</td>\n",
       "      <td>...</td>\n",
       "      <td>...</td>\n",
       "      <td>...</td>\n",
       "      <td>...</td>\n",
       "      <td>...</td>\n",
       "      <td>...</td>\n",
       "      <td>...</td>\n",
       "      <td>...</td>\n",
       "      <td>...</td>\n",
       "    </tr>\n",
       "    <tr>\n",
       "      <th>125677</th>\n",
       "      <td>\\n\\n -----Original Message-----\\nFrom: \\tWhiting, Greg  \\nSent:\\tFriday, December 07, 2001 3:01 PM\\nTo:\\tZipper, Andy\\nCc:\\tHodges, Georgeanne\\nSubject:\\tCOF Curves for Andy Zipper.xls\\n\\nAndy,\\n\\nHere is the curves that were used to calc the 9/30 Cost of Funds for EWS.\\n\\n\\t\\t\\t\\tGreg x35399\\n\\n</td>\n",
       "      <td>&lt;23879799.1075859061488.JavaMail.evans@thyme&gt;</td>\n",
       "      <td>2001-12-10 06:36:33-08:00</td>\n",
       "      <td>andy.zipper@enron.com</td>\n",
       "      <td>david.oconnor@ubsw.com</td>\n",
       "      <td>FW: COF Curves for Andy Zipper.xls</td>\n",
       "      <td>NaN</td>\n",
       "      <td>1.0</td>\n",
       "      <td>text/plain; charset=us-ascii</td>\n",
       "      <td>7bit</td>\n",
       "      <td>NaN</td>\n",
       "      <td>Zipper, Andy &lt;/O=ENRON/OU=NA/CN=RECIPIENTS/CN=AZIPPER&gt;</td>\n",
       "      <td>'david.oconnor@ubsw.com'</td>\n",
       "      <td>NaN</td>\n",
       "      <td>NaN</td>\n",
       "      <td>\\Andrew_Zipper_Jan2002\\Zipper, Andy\\Sent Items</td>\n",
       "      <td>Zipper-A</td>\n",
       "      <td>azipper (Non-Privileged).pst</td>\n",
       "    </tr>\n",
       "    <tr>\n",
       "      <th>125678</th>\n",
       "      <td>\\n\\n--------- Inline attachment follows ---------\\n\\nFrom:  &lt;/O=ENRON/OU=NA/CN=RECIPIENTS/CN=AZIPPER&gt;\\nTo: 'david.oconnor@ubsw.com'\\nDate: Monday, December 10, 2001 2:36:33 GMT\\nSubject: \\n\\n\\n\\n -----Original Message-----\\nFrom: \\tWhiting, Greg  \\nSent:\\tFriday, December 07, 2001 3:01 PM\\nT...</td>\n",
       "      <td>&lt;3235534.1075859061510.JavaMail.evans@thyme&gt;</td>\n",
       "      <td>2001-12-10 09:01:09-08:00</td>\n",
       "      <td>andy.zipper@enron.com</td>\n",
       "      <td>mari.capestany@enron.com</td>\n",
       "      <td>emails to Dave Oconnor of UBS</td>\n",
       "      <td>NaN</td>\n",
       "      <td>1.0</td>\n",
       "      <td>text/plain; charset=us-ascii</td>\n",
       "      <td>7bit</td>\n",
       "      <td>NaN</td>\n",
       "      <td>Zipper, Andy &lt;/O=ENRON/OU=NA/CN=RECIPIENTS/CN=AZIPPER&gt;</td>\n",
       "      <td>Capestany, Mari &lt;/O=ENRON/OU=NA/CN=RECIPIENTS/CN=Mcapest&gt;</td>\n",
       "      <td>NaN</td>\n",
       "      <td>NaN</td>\n",
       "      <td>\\Andrew_Zipper_Jan2002\\Zipper, Andy\\Sent Items</td>\n",
       "      <td>Zipper-A</td>\n",
       "      <td>azipper (Non-Privileged).pst</td>\n",
       "    </tr>\n",
       "    <tr>\n",
       "      <th>125679</th>\n",
       "      <td>i'm considering this terminated.</td>\n",
       "      <td>&lt;21440385.1075859061532.JavaMail.evans@thyme&gt;</td>\n",
       "      <td>2001-12-10 11:30:41-08:00</td>\n",
       "      <td>andy.zipper@enron.com</td>\n",
       "      <td>monica.l.brown@accenture.com</td>\n",
       "      <td>RE: Reminder: Risk Management Simulation Questions</td>\n",
       "      <td>NaN</td>\n",
       "      <td>1.0</td>\n",
       "      <td>text/plain; charset=us-ascii</td>\n",
       "      <td>7bit</td>\n",
       "      <td>NaN</td>\n",
       "      <td>Zipper, Andy &lt;/O=ENRON/OU=NA/CN=RECIPIENTS/CN=AZIPPER&gt;</td>\n",
       "      <td>'monica.l.brown@accenture.com'</td>\n",
       "      <td>NaN</td>\n",
       "      <td>NaN</td>\n",
       "      <td>\\Andrew_Zipper_Jan2002\\Zipper, Andy\\Sent Items</td>\n",
       "      <td>Zipper-A</td>\n",
       "      <td>azipper (Non-Privileged).pst</td>\n",
       "    </tr>\n",
       "    <tr>\n",
       "      <th>125680</th>\n",
       "      <td>I would be happy to, and yes you may use my name.</td>\n",
       "      <td>&lt;7521108.1075859061554.JavaMail.evans@thyme&gt;</td>\n",
       "      <td>2001-12-13 08:44:08-08:00</td>\n",
       "      <td>andy.zipper@enron.com</td>\n",
       "      <td>lcannon@houston.rr.com</td>\n",
       "      <td>RE: Letter of Recommendation</td>\n",
       "      <td>NaN</td>\n",
       "      <td>1.0</td>\n",
       "      <td>text/plain; charset=us-ascii</td>\n",
       "      <td>7bit</td>\n",
       "      <td>NaN</td>\n",
       "      <td>Zipper, Andy &lt;/O=ENRON/OU=NA/CN=RECIPIENTS/CN=AZIPPER&gt;</td>\n",
       "      <td>'Lydia Cannon' &lt;lcannon@houston.rr.com&gt;</td>\n",
       "      <td>NaN</td>\n",
       "      <td>NaN</td>\n",
       "      <td>\\Andrew_Zipper_Jan2002\\Zipper, Andy\\Sent Items</td>\n",
       "      <td>Zipper-A</td>\n",
       "      <td>azipper (Non-Privileged).pst</td>\n",
       "    </tr>\n",
       "    <tr>\n",
       "      <th>125681</th>\n",
       "      <td>Rick,\\n\\nI've been thinking about this. I think 18 mos. for the average tenor of a trade is way too high. For John Arnold's book it would on a prospective basis be  more in line with 4 months. We would probably not make markets online on anything past 24 months for NYMEX gas and the vast majorit...</td>\n",
       "      <td>&lt;7729476.1075859061576.JavaMail.evans@thyme&gt;</td>\n",
       "      <td>2001-12-13 10:06:18-08:00</td>\n",
       "      <td>andy.zipper@enron.com</td>\n",
       "      <td>richard.a.stuckey@ssmb.com</td>\n",
       "      <td>Risk cap.</td>\n",
       "      <td>NaN</td>\n",
       "      <td>1.0</td>\n",
       "      <td>text/plain; charset=us-ascii</td>\n",
       "      <td>7bit</td>\n",
       "      <td>NaN</td>\n",
       "      <td>Zipper, Andy &lt;/O=ENRON/OU=NA/CN=RECIPIENTS/CN=AZIPPER&gt;</td>\n",
       "      <td>'richard.a.stuckey@ssmb.com'</td>\n",
       "      <td>NaN</td>\n",
       "      <td>NaN</td>\n",
       "      <td>\\Andrew_Zipper_Jan2002\\Zipper, Andy\\Sent Items</td>\n",
       "      <td>Zipper-A</td>\n",
       "      <td>azipper (Non-Privileged).pst</td>\n",
       "    </tr>\n",
       "  </tbody>\n",
       "</table>\n",
       "<p>125628 rows × 18 columns</p>\n",
       "</div>"
      ],
      "text/plain": [
       "                                                                                                                                                                                                                                                                                                            Content  \\\n",
       "0       ---------------------- Forwarded by John Arnold/HOU/ECT on 05/10/2001 02:21 \\nPM ---------------------------\\n\\n\\n\"Schaefer, Matthew\" <MSchaefer@NYMEX.com> on 05/10/2001 10:52:30 AM\\nTo: Brad Banky <bbanky@txues.com>, David Rosenberg \\n<david.m.rosenberg@enron.com>, George Gero <anthony_gero@pru...   \n",
       "1       David:\\nDo you have a simulation set up that will allow me to simulate trades by \\npushing a buy or sell button and will move the two way so i can try \\nsimulating actual market cicumstances?\\n\\n\\nFrom: David Forster/ENRON@enronXgate on 05/08/2001 09:55 AM\\nTo: John Arnold/HOU/ECT@ECT\\ncc: Savit...   \n",
       "2                                   Yolanda\\n\\nI will be attending the ski outing - I am not sure about my arrival and \\ndeparture dates, but I did put tentative dates. Once I make my bookings I \\nwill update you on my final dates. I might stay an extra day, and will pick \\nthat up. Thanks\\n\\n\\nHarry\\n\\n\\n   \n",
       "3       Suresh\\n\\nFor the next two weeks, I'd like you to focus on the following.\\n\\n1. Development frame-work and getting Zach upto speed\\n Specs for Syndication report & testing & production date\\n Finalize questionnaire and production date\\n Modifications to Invitee and User stats\\n2. EnronOnline auc...   \n",
       "4                                                                                                                                                                   Dave\\n\\nFind enclosed the business plan and the valuation model for DealBench.  Feel \\nfree to call me with questions.\\n\\n\\n\\n\\n\\n\\nHarry Arora   \n",
       "...                                                                                                                                                                                                                                                                                                             ...   \n",
       "125677   \\n\\n -----Original Message-----\\nFrom: \\tWhiting, Greg  \\nSent:\\tFriday, December 07, 2001 3:01 PM\\nTo:\\tZipper, Andy\\nCc:\\tHodges, Georgeanne\\nSubject:\\tCOF Curves for Andy Zipper.xls\\n\\nAndy,\\n\\nHere is the curves that were used to calc the 9/30 Cost of Funds for EWS.\\n\\n\\t\\t\\t\\tGreg x35399\\n\\n    \n",
       "125678      \\n\\n--------- Inline attachment follows ---------\\n\\nFrom:  </O=ENRON/OU=NA/CN=RECIPIENTS/CN=AZIPPER>\\nTo: 'david.oconnor@ubsw.com'\\nDate: Monday, December 10, 2001 2:36:33 GMT\\nSubject: \\n\\n\\n\\n -----Original Message-----\\nFrom: \\tWhiting, Greg  \\nSent:\\tFriday, December 07, 2001 3:01 PM\\nT...   \n",
       "125679                                                                                                                                                                                                                                                                             i'm considering this terminated.   \n",
       "125680                                                                                                                                                                                                                                                            I would be happy to, and yes you may use my name.   \n",
       "125681  Rick,\\n\\nI've been thinking about this. I think 18 mos. for the average tenor of a trade is way too high. For John Arnold's book it would on a prospective basis be  more in line with 4 months. We would probably not make markets online on anything past 24 months for NYMEX gas and the vast majorit...   \n",
       "\n",
       "                                           Message-ID  \\\n",
       "0       <25702046.1075849632104.JavaMail.evans@thyme>   \n",
       "1       <28095741.1075849632148.JavaMail.evans@thyme>   \n",
       "2        <3676806.1075848347249.JavaMail.evans@thyme>   \n",
       "3       <22378087.1075848347271.JavaMail.evans@thyme>   \n",
       "4       <30442669.1075848347294.JavaMail.evans@thyme>   \n",
       "...                                               ...   \n",
       "125677  <23879799.1075859061488.JavaMail.evans@thyme>   \n",
       "125678   <3235534.1075859061510.JavaMail.evans@thyme>   \n",
       "125679  <21440385.1075859061532.JavaMail.evans@thyme>   \n",
       "125680   <7521108.1075859061554.JavaMail.evans@thyme>   \n",
       "125681   <7729476.1075859061576.JavaMail.evans@thyme>   \n",
       "\n",
       "                             Date                   From  \\\n",
       "0       2001-05-10 07:16:00-07:00  john.arnold@enron.com   \n",
       "1       2001-05-13 07:52:00-07:00  john.arnold@enron.com   \n",
       "2       2000-12-15 03:44:00-08:00  harry.arora@enron.com   \n",
       "3       2001-01-05 08:24:00-08:00  harry.arora@enron.com   \n",
       "4       2001-01-22 10:36:00-08:00  harry.arora@enron.com   \n",
       "...                           ...                    ...   \n",
       "125677  2001-12-10 06:36:33-08:00  andy.zipper@enron.com   \n",
       "125678  2001-12-10 09:01:09-08:00  andy.zipper@enron.com   \n",
       "125679  2001-12-10 11:30:41-08:00  andy.zipper@enron.com   \n",
       "125680  2001-12-13 08:44:08-08:00  andy.zipper@enron.com   \n",
       "125681  2001-12-13 10:06:18-08:00  andy.zipper@enron.com   \n",
       "\n",
       "                                  To  \\\n",
       "0               mike.maggi@enron.com   \n",
       "1            david.forster@enron.com   \n",
       "2          yolanda.roberts@enron.com   \n",
       "3          suresh.raghavan@enron.com   \n",
       "4             dave.samuels@enron.com   \n",
       "...                              ...   \n",
       "125677        david.oconnor@ubsw.com   \n",
       "125678      mari.capestany@enron.com   \n",
       "125679  monica.l.brown@accenture.com   \n",
       "125680        lcannon@houston.rr.com   \n",
       "125681    richard.a.stuckey@ssmb.com   \n",
       "\n",
       "                                                   Subject   Cc  Mime-Version  \\\n",
       "0            Options Advisory Committee Meeting - May 31st  NaN           1.0   \n",
       "1                                                      Re:  NaN           1.0   \n",
       "2                                                Re: Aspen  NaN           1.0   \n",
       "3                                                    Tasks  NaN           1.0   \n",
       "4                                            Business Plan  NaN           1.0   \n",
       "...                                                    ...  ...           ...   \n",
       "125677                  FW: COF Curves for Andy Zipper.xls  NaN           1.0   \n",
       "125678                       emails to Dave Oconnor of UBS  NaN           1.0   \n",
       "125679  RE: Reminder: Risk Management Simulation Questions  NaN           1.0   \n",
       "125680                        RE: Letter of Recommendation  NaN           1.0   \n",
       "125681                                           Risk cap.  NaN           1.0   \n",
       "\n",
       "                        Content-Type Content-Transfer-Encoding  Bcc  \\\n",
       "0       text/plain; charset=us-ascii                      7bit  NaN   \n",
       "1       text/plain; charset=us-ascii                      7bit  NaN   \n",
       "2       text/plain; charset=us-ascii                      7bit  NaN   \n",
       "3       text/plain; charset=us-ascii                      7bit  NaN   \n",
       "4       text/plain; charset=us-ascii                      7bit  NaN   \n",
       "...                              ...                       ...  ...   \n",
       "125677  text/plain; charset=us-ascii                      7bit  NaN   \n",
       "125678  text/plain; charset=us-ascii                      7bit  NaN   \n",
       "125679  text/plain; charset=us-ascii                      7bit  NaN   \n",
       "125680  text/plain; charset=us-ascii                      7bit  NaN   \n",
       "125681  text/plain; charset=us-ascii                      7bit  NaN   \n",
       "\n",
       "                                                        X-From  \\\n",
       "0                                                  John Arnold   \n",
       "1                                                  John Arnold   \n",
       "2                                                  Harry Arora   \n",
       "3                                                  Harry Arora   \n",
       "4                                                  Harry Arora   \n",
       "...                                                        ...   \n",
       "125677  Zipper, Andy </O=ENRON/OU=NA/CN=RECIPIENTS/CN=AZIPPER>   \n",
       "125678  Zipper, Andy </O=ENRON/OU=NA/CN=RECIPIENTS/CN=AZIPPER>   \n",
       "125679  Zipper, Andy </O=ENRON/OU=NA/CN=RECIPIENTS/CN=AZIPPER>   \n",
       "125680  Zipper, Andy </O=ENRON/OU=NA/CN=RECIPIENTS/CN=AZIPPER>   \n",
       "125681  Zipper, Andy </O=ENRON/OU=NA/CN=RECIPIENTS/CN=AZIPPER>   \n",
       "\n",
       "                                                             X-To X-cc X-bcc  \\\n",
       "0                                                      Mike Maggi  NaN   NaN   \n",
       "1                                                   David Forster  NaN   NaN   \n",
       "2                                                 Yolanda Roberts  NaN   NaN   \n",
       "3                                                 Suresh Raghavan  NaN   NaN   \n",
       "4                                                    Dave Samuels  NaN   NaN   \n",
       "...                                                           ...  ...   ...   \n",
       "125677                                   'david.oconnor@ubsw.com'  NaN   NaN   \n",
       "125678  Capestany, Mari </O=ENRON/OU=NA/CN=RECIPIENTS/CN=Mcapest>  NaN   NaN   \n",
       "125679                             'monica.l.brown@accenture.com'  NaN   NaN   \n",
       "125680                    'Lydia Cannon' <lcannon@houston.rr.com>  NaN   NaN   \n",
       "125681                               'richard.a.stuckey@ssmb.com'  NaN   NaN   \n",
       "\n",
       "                                              X-Folder  X-Origin  \\\n",
       "0              \\John_Arnold_Oct2001\\Notes Folders\\Sent  ARNOLD-J   \n",
       "1              \\John_Arnold_Oct2001\\Notes Folders\\Sent  ARNOLD-J   \n",
       "2           \\Harpreet_Arora_Nov2001\\Notes Folders\\Sent   ARORA-H   \n",
       "3           \\Harpreet_Arora_Nov2001\\Notes Folders\\Sent   ARORA-H   \n",
       "4           \\Harpreet_Arora_Nov2001\\Notes Folders\\Sent   ARORA-H   \n",
       "...                                                ...       ...   \n",
       "125677  \\Andrew_Zipper_Jan2002\\Zipper, Andy\\Sent Items  Zipper-A   \n",
       "125678  \\Andrew_Zipper_Jan2002\\Zipper, Andy\\Sent Items  Zipper-A   \n",
       "125679  \\Andrew_Zipper_Jan2002\\Zipper, Andy\\Sent Items  Zipper-A   \n",
       "125680  \\Andrew_Zipper_Jan2002\\Zipper, Andy\\Sent Items  Zipper-A   \n",
       "125681  \\Andrew_Zipper_Jan2002\\Zipper, Andy\\Sent Items  Zipper-A   \n",
       "\n",
       "                          X-FileName  \n",
       "0                        jarnold.nsf  \n",
       "1                        jarnold.nsf  \n",
       "2                         harora.nsf  \n",
       "3                         harora.nsf  \n",
       "4                         harora.nsf  \n",
       "...                              ...  \n",
       "125677  azipper (Non-Privileged).pst  \n",
       "125678  azipper (Non-Privileged).pst  \n",
       "125679  azipper (Non-Privileged).pst  \n",
       "125680  azipper (Non-Privileged).pst  \n",
       "125681  azipper (Non-Privileged).pst  \n",
       "\n",
       "[125628 rows x 18 columns]"
      ]
     },
     "execution_count": 497,
     "metadata": {},
     "output_type": "execute_result"
    }
   ],
   "source": [
    "raw"
   ]
  },
  {
   "cell_type": "code",
   "execution_count": 11,
   "metadata": {},
   "outputs": [
    {
     "data": {
      "text/plain": [
       "Sentiment(polarity=0.4, subjectivity=0.8)"
      ]
     },
     "execution_count": 11,
     "metadata": {},
     "output_type": "execute_result"
    }
   ],
   "source": [
    "blb.TextBlob(df.loc[4, \"Content\"]).sentiment"
   ]
  },
  {
   "cell_type": "code",
   "execution_count": 14,
   "metadata": {},
   "outputs": [],
   "source": [
    "congrats_idx = raw[raw[\"Subject\"] == \"Congratulations\"].reset_index()"
   ]
  },
  {
   "cell_type": "code",
   "execution_count": 28,
   "metadata": {},
   "outputs": [],
   "source": [
    "idx = 0"
   ]
  },
  {
   "cell_type": "code",
   "execution_count": 32,
   "metadata": {
    "scrolled": true
   },
   "outputs": [
    {
     "name": "stdout",
     "output_type": "stream",
     "text": [
      "Sentiment(classification='pos', p_pos=0.9999768794496625, p_neg=2.312055034150871e-05)\n"
     ]
    }
   ],
   "source": [
    "print(blb.TextBlob(congrats_idx.loc[idx, \"Content\"],\n",
    "             analyzer=NaiveBayesAnalyzer()).sentiment)\n",
    "idx += 1"
   ]
  },
  {
   "cell_type": "code",
   "execution_count": 127,
   "metadata": {},
   "outputs": [],
   "source": [
    "fired = df[df[\"Content\"].apply(lambda x: (\"fired\" in x) & (\"fired up\" not in x) & (\"not fired\" not in x))]\n",
    "fired.drop(columns=[c for c in fired.columns if c != \"Content\"], inplace=True)\n",
    "fired.reset_index(inplace=True)"
   ]
  },
  {
   "cell_type": "code",
   "execution_count": 149,
   "metadata": {
    "collapsed": true
   },
   "outputs": [
    {
     "data": {
      "text/html": [
       "<div>\n",
       "<style scoped>\n",
       "    .dataframe tbody tr th:only-of-type {\n",
       "        vertical-align: middle;\n",
       "    }\n",
       "\n",
       "    .dataframe tbody tr th {\n",
       "        vertical-align: top;\n",
       "    }\n",
       "\n",
       "    .dataframe thead th {\n",
       "        text-align: right;\n",
       "    }\n",
       "</style>\n",
       "<table border=\"1\" class=\"dataframe\">\n",
       "  <thead>\n",
       "    <tr style=\"text-align: right;\">\n",
       "      <th></th>\n",
       "      <th>Content</th>\n",
       "      <th>Message-ID</th>\n",
       "      <th>Date</th>\n",
       "      <th>From</th>\n",
       "      <th>To</th>\n",
       "      <th>Subject</th>\n",
       "      <th>Cc</th>\n",
       "      <th>Mime-Version</th>\n",
       "      <th>Content-Type</th>\n",
       "      <th>Content-Transfer-Encoding</th>\n",
       "      <th>Bcc</th>\n",
       "      <th>X-From</th>\n",
       "      <th>X-To</th>\n",
       "      <th>X-cc</th>\n",
       "      <th>X-bcc</th>\n",
       "      <th>X-Folder</th>\n",
       "      <th>X-Origin</th>\n",
       "      <th>X-FileName</th>\n",
       "    </tr>\n",
       "  </thead>\n",
       "  <tbody>\n",
       "    <tr>\n",
       "      <th>11780</th>\n",
       "      <td>Will be on vacation but wish MK the best of luck. Rick\\n\\n -----Original Message-----\\nFrom: =09Dauterive, Inez =20\\nSent:=09Monday, August 13, 2001 1:34 PM\\nTo:=09Rios, Amy; Fastow, Andrew; Yaeger, Anne; Yaeger, Anne; Schnapper, Bar=\\nry; Glisan, Ben; Thomason, Benjamin; Tauzier, Betty; Brown, ...</td>\n",
       "      <td>&lt;29761275.1075863363125.JavaMail.evans@thyme&gt;</td>\n",
       "      <td>2001-08-13 12:05:38-07:00</td>\n",
       "      <td>rick.buy@enron.com</td>\n",
       "      <td>inez.dauterive@enron.com</td>\n",
       "      <td>RE: Happy Hour</td>\n",
       "      <td>NaN</td>\n",
       "      <td>1.0</td>\n",
       "      <td>text/plain; charset=us-ascii</td>\n",
       "      <td>quoted-printable</td>\n",
       "      <td>NaN</td>\n",
       "      <td>Buy, Rick &lt;/O=ENRON/OU=NA/CN=RECIPIENTS/CN=RBUY&gt;</td>\n",
       "      <td>Dauterive, Inez &lt;/O=ENRON/OU=NA/CN=RECIPIENTS/CN=Notesaddr/cn=637aa25f-549840a0-86256531-75eecc&gt;</td>\n",
       "      <td>NaN</td>\n",
       "      <td>NaN</td>\n",
       "      <td>\\RBUY (Non-Privileged)\\Buy, Rick\\Sent Items</td>\n",
       "      <td>Buy-R</td>\n",
       "      <td>RBUY (Non-Privileged).pst</td>\n",
       "    </tr>\n",
       "    <tr>\n",
       "      <th>41684</th>\n",
       "      <td>I'm sure Enron's stockholders would want Enron to join a filing to allow\\nEnron to participate in discussions between the PX and the Chairman of FERC\\n(and to oppose any ex parte communications) about whether the PX holds\\nEnron's money.  I would be interested in going to the discussion too.\\n\\n...</td>\n",
       "      <td>&lt;15019380.1075860475686.JavaMail.evans@thyme&gt;</td>\n",
       "      <td>2001-02-04 09:22:00-08:00</td>\n",
       "      <td>mary.hain@enron.com</td>\n",
       "      <td>dwatkiss@bracepatt.com</td>\n",
       "      <td>Returned mail: Host unknown (Name server: bracepat.com: host not\\n found)</td>\n",
       "      <td>NaN</td>\n",
       "      <td>1.0</td>\n",
       "      <td>text/plain; charset=us-ascii</td>\n",
       "      <td>7bit</td>\n",
       "      <td>NaN</td>\n",
       "      <td>Mary Hain</td>\n",
       "      <td>dwatkiss@bracepatt.com</td>\n",
       "      <td>NaN</td>\n",
       "      <td>NaN</td>\n",
       "      <td>\\Mary_Hain_Aug2000_Jul2001\\Notes Folders\\'sent mail</td>\n",
       "      <td>Hain-M</td>\n",
       "      <td>mary-hain.nsf</td>\n",
       "    </tr>\n",
       "    <tr>\n",
       "      <th>48655</th>\n",
       "      <td>\\n--------------------------vince kaminski\\n\\n\\n-----Original Message-----\\nFrom: Kaminski, Vince J &lt;Vince.J.Kaminski@ENRON.com&gt;\\nTo: LJM Litigation &lt;ljm.litigation@ENRON.com&gt;\\nCC: Cooley, Jan &lt;Jan.Cooley@ENRON.com&gt;; Kaminski, Vince J &lt;Vince.J.Kaminski@ENRON.com&gt;\\nSent: Fri Dec 28 15:12:02 2001\\...</td>\n",
       "      <td>&lt;21995338.1075840793313.JavaMail.evans@thyme&gt;</td>\n",
       "      <td>2001-12-28 14:07:51-08:00</td>\n",
       "      <td>j.kaminski@enron.com</td>\n",
       "      <td>vkaminski@aol.com</td>\n",
       "      <td>FW: Raptors</td>\n",
       "      <td>NaN</td>\n",
       "      <td>1.0</td>\n",
       "      <td>text/plain; charset=us-ascii</td>\n",
       "      <td>7bit</td>\n",
       "      <td>NaN</td>\n",
       "      <td>Kaminski, Vince J &lt;/O=ENRON/OU=NA/CN=RECIPIENTS/CN=VKAMINS&gt;</td>\n",
       "      <td>'vkaminski@aol.com'</td>\n",
       "      <td>NaN</td>\n",
       "      <td>NaN</td>\n",
       "      <td>\\vkamins\\Sent Items</td>\n",
       "      <td>KAMINSKI-V</td>\n",
       "      <td>vincent kaminski 1-30-02.pst</td>\n",
       "    </tr>\n",
       "    <tr>\n",
       "      <th>66232</th>\n",
       "      <td>did you see the article in the wsj today on that ljm fund associated with ene?\\n\\n -----Original Message-----\\nFrom: \\tHal Lenhart &lt;Hal.Lenhart@apollogrp.edu&gt;@ENRON  \\nSent:\\tThursday, October 18, 2001 10:07 AM\\nTo:\\tLenhart, Matthew\\nSubject:\\tRE:\\n\\nEvery thing is good here. Tom and I played g...</td>\n",
       "      <td>&lt;7586303.1075854976404.JavaMail.evans@thyme&gt;</td>\n",
       "      <td>2001-10-18 10:31:10-07:00</td>\n",
       "      <td>matthew.lenhart@enron.com</td>\n",
       "      <td>hal.lenhart@apollogrp.edu</td>\n",
       "      <td>RE:</td>\n",
       "      <td>NaN</td>\n",
       "      <td>1.0</td>\n",
       "      <td>text/plain; charset=us-ascii</td>\n",
       "      <td>7bit</td>\n",
       "      <td>NaN</td>\n",
       "      <td>Lenhart, Matthew &lt;/O=ENRON/OU=NA/CN=RECIPIENTS/CN=MLENHAR&gt;</td>\n",
       "      <td>'Hal Lenhart &lt;Hal.Lenhart@apollogrp.edu&gt;@ENRON'</td>\n",
       "      <td>NaN</td>\n",
       "      <td>NaN</td>\n",
       "      <td>\\MLENHAR (Non-Privileged)\\Sent Items</td>\n",
       "      <td>Lenhart-M</td>\n",
       "      <td>MLENHAR (Non-Privileged).pst</td>\n",
       "    </tr>\n",
       "    <tr>\n",
       "      <th>78095</th>\n",
       "      <td>Dear Dr. Fidas,\\n\\nI spoke with you a few days ago concerning my interest in the Sercurity Policy Studies program.  I am going to be visiting the GW campus the afternoon of Thursday Jan 24th and would like to know if you would be available for a few minutes.  Also, you had mentioned you may be a...</td>\n",
       "      <td>&lt;8612526.1075841213581.JavaMail.evans@thyme&gt;</td>\n",
       "      <td>2002-01-16 12:05:51-08:00</td>\n",
       "      <td>larry.may@enron.com</td>\n",
       "      <td>gfidas@gwu.edu</td>\n",
       "      <td>Lawrence May</td>\n",
       "      <td>NaN</td>\n",
       "      <td>1.0</td>\n",
       "      <td>text/plain; charset=us-ascii</td>\n",
       "      <td>7bit</td>\n",
       "      <td>NaN</td>\n",
       "      <td>May, Larry &lt;/O=ENRON/OU=NA/CN=RECIPIENTS/CN=LMAY2&gt;</td>\n",
       "      <td>'gfidas@gwu.edu'</td>\n",
       "      <td>NaN</td>\n",
       "      <td>NaN</td>\n",
       "      <td>\\ExMerge - May, Larry\\Sent Items</td>\n",
       "      <td>MAY-L</td>\n",
       "      <td>larry may 6-26-02.PST</td>\n",
       "    </tr>\n",
       "    <tr>\n",
       "      <th>78096</th>\n",
       "      <td>2:15 would be good.  My flight gets into Reagan at  12:00: if it is delayed I will give you a call.  Thank you,\\n\\nLarry May\\n\\n -----Original Message-----\\nFrom: \\tgfidas &lt;gfidas@gwu.edu&gt;@ENRON   On Behalf Of gfidas &lt;gfidas@gwu.edu&gt;\\nSent:\\tTuesday, January 22, 2002 9:19 AM\\nTo:\\tMay, Larry\\nSu...</td>\n",
       "      <td>&lt;1645591.1075841213557.JavaMail.evans@thyme&gt;</td>\n",
       "      <td>2002-01-22 08:34:24-08:00</td>\n",
       "      <td>larry.may@enron.com</td>\n",
       "      <td>gfidas@gwu.edu</td>\n",
       "      <td>RE: Lawrence May</td>\n",
       "      <td>NaN</td>\n",
       "      <td>1.0</td>\n",
       "      <td>text/plain; charset=us-ascii</td>\n",
       "      <td>7bit</td>\n",
       "      <td>NaN</td>\n",
       "      <td>May, Larry &lt;/O=ENRON/OU=NA/CN=RECIPIENTS/CN=LMAY2&gt;</td>\n",
       "      <td>'gfidas &lt;gfidas@gwu.edu&gt;'</td>\n",
       "      <td>NaN</td>\n",
       "      <td>NaN</td>\n",
       "      <td>\\ExMerge - May, Larry\\Sent Items</td>\n",
       "      <td>MAY-L</td>\n",
       "      <td>larry may 6-26-02.PST</td>\n",
       "    </tr>\n",
       "    <tr>\n",
       "      <th>82460</th>\n",
       "      <td>\\n\\n -----Original Message-----\\nFrom: \\tDavid_Trice@westsidelexus.com@ENRON  \\nSent:\\tWednesday, December 19, 2001 12:02 PM\\nTo:\\tbret.bayley@cigna.com; jbyrd@byrdinterior.com; chris@churchservices.net; andrewd@tex-trude.com; serwin@houston.rr.com; tom.fish@ljmelody.com; rhill@kpmg.com; wjones@...</td>\n",
       "      <td>&lt;28959369.1075841353456.JavaMail.evans@thyme&gt;</td>\n",
       "      <td>2001-12-19 10:33:56-08:00</td>\n",
       "      <td>scott.neal@enron.com</td>\n",
       "      <td>scott.neal@worldnet.att.net</td>\n",
       "      <td>FW: SAT. A.M.</td>\n",
       "      <td>NaN</td>\n",
       "      <td>1.0</td>\n",
       "      <td>text/plain; charset=us-ascii</td>\n",
       "      <td>7bit</td>\n",
       "      <td>NaN</td>\n",
       "      <td>Neal, Scott &lt;/O=ENRON/OU=NA/CN=RECIPIENTS/CN=SNEAL&gt;</td>\n",
       "      <td>'scott.neal@worldnet.att.net'</td>\n",
       "      <td>NaN</td>\n",
       "      <td>NaN</td>\n",
       "      <td>\\ExMerge - Neal, Scott\\Sent Items</td>\n",
       "      <td>NEAL-S</td>\n",
       "      <td>scott neal 6-26-02.PST</td>\n",
       "    </tr>\n",
       "    <tr>\n",
       "      <th>82645</th>\n",
       "      <td>Greg,  I have never been to a tasting before.  Will there be some small foods \\nto go along with the wine?\\n\\n\\n   \\n\\tEnron Capital &amp; Trade Resources Corp.\\n\\t\\n\\tFrom:  \"Greg Giordano\" &lt;giordano@wt.net&gt;                           07/26/99 \\n08:22 PM\\n\\t\\n\\nTo: mdoolittle@dttus.com, contactus@ca...</td>\n",
       "      <td>&lt;15622119.1075842667473.JavaMail.evans@thyme&gt;</td>\n",
       "      <td>1999-07-28 01:39:00-07:00</td>\n",
       "      <td>gerald.nemec@enron.com</td>\n",
       "      <td>giordano@wt.net</td>\n",
       "      <td>Re: Tasting List for August 5th</td>\n",
       "      <td>NaN</td>\n",
       "      <td>1.0</td>\n",
       "      <td>text/plain; charset=us-ascii</td>\n",
       "      <td>7bit</td>\n",
       "      <td>NaN</td>\n",
       "      <td>Gerald Nemec</td>\n",
       "      <td>\"Greg Giordano\" &lt;giordano@wt.net&gt;</td>\n",
       "      <td>NaN</td>\n",
       "      <td>NaN</td>\n",
       "      <td>\\Gerald_Nemec_Dec2000_June2001_1\\Notes Folders\\Sent</td>\n",
       "      <td>NEMEC-G</td>\n",
       "      <td>gnemec.nsf</td>\n",
       "    </tr>\n",
       "    <tr>\n",
       "      <th>85131</th>\n",
       "      <td>can't do it -  thanks for the invite.\\n\\n -----Original Message-----\\nFrom: \\tDavid_Trice@westsidelexus.com@ENRON  \\nSent:\\tTuesday, November 13, 2001 3:06 PM\\nTo:\\tbret.bayley@cigna.com; jbyrd@byrdinterior.com; chris@churchservices.net; andrewd@tex-trude.com; steveerwin@andon.com; tom.fish@ljme...</td>\n",
       "      <td>&lt;20430481.1075862323946.JavaMail.evans@thyme&gt;</td>\n",
       "      <td>2001-11-14 06:28:46-08:00</td>\n",
       "      <td>scott.neal@enron.com</td>\n",
       "      <td>david_trice@westsidelexus.com</td>\n",
       "      <td>RE:</td>\n",
       "      <td>NaN</td>\n",
       "      <td>1.0</td>\n",
       "      <td>text/plain; charset=us-ascii</td>\n",
       "      <td>7bit</td>\n",
       "      <td>NaN</td>\n",
       "      <td>Neal, Scott &lt;/O=ENRON/OU=NA/CN=RECIPIENTS/CN=SNEAL&gt;</td>\n",
       "      <td>'David_Trice@westsidelexus.com@ENRON'</td>\n",
       "      <td>NaN</td>\n",
       "      <td>NaN</td>\n",
       "      <td>\\SNEAL (Non-Privileged)\\Neal, Scott\\Sent Items</td>\n",
       "      <td>Neal-S</td>\n",
       "      <td>SNEAL (Non-Privileged).pst</td>\n",
       "    </tr>\n",
       "    <tr>\n",
       "      <th>112127</th>\n",
       "      <td>is that your MSN Messenger contact name?\\n\\n\\n -----Original Message-----\\nFrom: \\tMay, Larry  \\nSent:\\tTuesday, February 12, 2002 2:36 PM\\nTo:\\tScott, Susan M.\\nSubject:\\tRE: Hello\\n\\nI'm on ljmenron (guess I should change it)\\n -----Original Message-----\\nFrom: \\tScott, Susan M.  \\nSent:\\tTues...</td>\n",
       "      <td>&lt;24386011.1075861128291.JavaMail.evans@thyme&gt;</td>\n",
       "      <td>2002-02-12 12:36:36-08:00</td>\n",
       "      <td>m..scott@enron.com</td>\n",
       "      <td>larry.may@enron.com</td>\n",
       "      <td>RE: Hello</td>\n",
       "      <td>NaN</td>\n",
       "      <td>1.0</td>\n",
       "      <td>text/plain; charset=us-ascii</td>\n",
       "      <td>7bit</td>\n",
       "      <td>NaN</td>\n",
       "      <td>Scott, Susan M. &lt;/O=ENRON/OU=NA/CN=RECIPIENTS/CN=SSCOTT5&gt;</td>\n",
       "      <td>May, Larry &lt;/O=ENRON/OU=NA/CN=RECIPIENTS/CN=Lmay2&gt;</td>\n",
       "      <td>NaN</td>\n",
       "      <td>NaN</td>\n",
       "      <td>\\Susan_Scott_Mar2002\\Scott, Susan M.\\Sent Items</td>\n",
       "      <td>Scott-S</td>\n",
       "      <td>sscott5 (Non-Privileged).pst</td>\n",
       "    </tr>\n",
       "    <tr>\n",
       "      <th>112128</th>\n",
       "      <td>try adding me to your list....\\n\\nsusan.m.scott@im.enron.com\\n\\n -----Original Message-----\\nFrom: \\tMay, Larry  \\nSent:\\tTuesday, February 12, 2002 2:41 PM\\nTo:\\tScott, Susan M.\\nSubject:\\tRE: Hello\\n\\nyes\\n\\n -----Original Message-----\\nFrom: \\tScott, Susan M.  \\nSent:\\tTuesday, February 12, 2...</td>\n",
       "      <td>&lt;21861447.1075861128313.JavaMail.evans@thyme&gt;</td>\n",
       "      <td>2002-02-12 12:43:12-08:00</td>\n",
       "      <td>m..scott@enron.com</td>\n",
       "      <td>larry.may@enron.com</td>\n",
       "      <td>RE: Hello</td>\n",
       "      <td>NaN</td>\n",
       "      <td>1.0</td>\n",
       "      <td>text/plain; charset=us-ascii</td>\n",
       "      <td>7bit</td>\n",
       "      <td>NaN</td>\n",
       "      <td>Scott, Susan M. &lt;/O=ENRON/OU=NA/CN=RECIPIENTS/CN=SSCOTT5&gt;</td>\n",
       "      <td>May, Larry &lt;/O=ENRON/OU=NA/CN=RECIPIENTS/CN=Lmay2&gt;</td>\n",
       "      <td>NaN</td>\n",
       "      <td>NaN</td>\n",
       "      <td>\\Susan_Scott_Mar2002\\Scott, Susan M.\\Sent Items</td>\n",
       "      <td>Scott-S</td>\n",
       "      <td>sscott5 (Non-Privileged).pst</td>\n",
       "    </tr>\n",
       "    <tr>\n",
       "      <th>112130</th>\n",
       "      <td>yes\\n\\n\\n -----Original Message-----\\nFrom: \\tMay, Larry  \\nSent:\\tTuesday, February 12, 2002 2:50 PM\\nTo:\\tScott, Susan M.\\nSubject:\\tRE: Hello\\n\\nAre you down there now?\\n\\n -----Original Message-----\\nFrom: \\tScott, Susan M.  \\nSent:\\tTuesday, February 12, 2002 2:43 PM\\nTo:\\tMay, Larry\\nSubje...</td>\n",
       "      <td>&lt;12178995.1075861128356.JavaMail.evans@thyme&gt;</td>\n",
       "      <td>2002-02-12 12:59:53-08:00</td>\n",
       "      <td>m..scott@enron.com</td>\n",
       "      <td>larry.may@enron.com</td>\n",
       "      <td>RE: Hello</td>\n",
       "      <td>NaN</td>\n",
       "      <td>1.0</td>\n",
       "      <td>text/plain; charset=us-ascii</td>\n",
       "      <td>7bit</td>\n",
       "      <td>NaN</td>\n",
       "      <td>Scott, Susan M. &lt;/O=ENRON/OU=NA/CN=RECIPIENTS/CN=SSCOTT5&gt;</td>\n",
       "      <td>May, Larry &lt;/O=ENRON/OU=NA/CN=RECIPIENTS/CN=Lmay2&gt;</td>\n",
       "      <td>NaN</td>\n",
       "      <td>NaN</td>\n",
       "      <td>\\Susan_Scott_Mar2002\\Scott, Susan M.\\Sent Items</td>\n",
       "      <td>Scott-S</td>\n",
       "      <td>sscott5 (Non-Privileged).pst</td>\n",
       "    </tr>\n",
       "    <tr>\n",
       "      <th>112131</th>\n",
       "      <td>if you go to \"Add\"...then click \"Search for a contact\" and type in my name susan scott, search for the person at microsoft exchange instant messaging...then click next.  my name should appear and you can click finish\\n\\n -----Original Message-----\\nFrom: \\tMay, Larry  \\nSent:\\tTuesday, February ...</td>\n",
       "      <td>&lt;10336486.1075861128379.JavaMail.evans@thyme&gt;</td>\n",
       "      <td>2002-02-12 13:03:10-08:00</td>\n",
       "      <td>m..scott@enron.com</td>\n",
       "      <td>larry.may@enron.com</td>\n",
       "      <td>RE: Hello</td>\n",
       "      <td>NaN</td>\n",
       "      <td>1.0</td>\n",
       "      <td>text/plain; charset=us-ascii</td>\n",
       "      <td>7bit</td>\n",
       "      <td>NaN</td>\n",
       "      <td>Scott, Susan M. &lt;/O=ENRON/OU=NA/CN=RECIPIENTS/CN=SSCOTT5&gt;</td>\n",
       "      <td>May, Larry &lt;/O=ENRON/OU=NA/CN=RECIPIENTS/CN=Lmay2&gt;</td>\n",
       "      <td>NaN</td>\n",
       "      <td>NaN</td>\n",
       "      <td>\\Susan_Scott_Mar2002\\Scott, Susan M.\\Sent Items</td>\n",
       "      <td>Scott-S</td>\n",
       "      <td>sscott5 (Non-Privileged).pst</td>\n",
       "    </tr>\n",
       "    <tr>\n",
       "      <th>113229</th>\n",
       "      <td>I'd like to know how we purchased the Katz.  Was that outside our budget, and \\nin Ken's dining room budget?  Mike and I will get together and address the \\npoints you bring up below.  Looking forward to our meeting.  \\n\\nRegards.....Jeff\\n\\n\\n\\n\\n\"Lea Fastow\" &lt;lfastow@pop.pdq.net&gt; on 11/12/2000...</td>\n",
       "      <td>&lt;28027020.1075857561360.JavaMail.evans@thyme&gt;</td>\n",
       "      <td>2000-11-13 00:24:00-08:00</td>\n",
       "      <td>jeffrey.shankman@enron.com</td>\n",
       "      <td>lfastow@pop.pdq.net</td>\n",
       "      <td>Re: Presentation to Skilling etc.</td>\n",
       "      <td>NaN</td>\n",
       "      <td>1.0</td>\n",
       "      <td>text/plain; charset=us-ascii</td>\n",
       "      <td>7bit</td>\n",
       "      <td>NaN</td>\n",
       "      <td>Jeffrey A Shankman</td>\n",
       "      <td>\"Lea Fastow\" &lt;lfastow@pop.pdq.net&gt; @ ENRON</td>\n",
       "      <td>NaN</td>\n",
       "      <td>NaN</td>\n",
       "      <td>\\Jeffrey_Shankman_Jun2001\\Notes Folders\\Sent</td>\n",
       "      <td>Shankman-J</td>\n",
       "      <td>jshankm.nsf</td>\n",
       "    </tr>\n",
       "  </tbody>\n",
       "</table>\n",
       "</div>"
      ],
      "text/plain": [
       "                                                                                                                                                                                                                                                                                                            Content  \\\n",
       "11780   Will be on vacation but wish MK the best of luck. Rick\\n\\n -----Original Message-----\\nFrom: =09Dauterive, Inez =20\\nSent:=09Monday, August 13, 2001 1:34 PM\\nTo:=09Rios, Amy; Fastow, Andrew; Yaeger, Anne; Yaeger, Anne; Schnapper, Bar=\\nry; Glisan, Ben; Thomason, Benjamin; Tauzier, Betty; Brown, ...   \n",
       "41684   I'm sure Enron's stockholders would want Enron to join a filing to allow\\nEnron to participate in discussions between the PX and the Chairman of FERC\\n(and to oppose any ex parte communications) about whether the PX holds\\nEnron's money.  I would be interested in going to the discussion too.\\n\\n...   \n",
       "48655   \\n--------------------------vince kaminski\\n\\n\\n-----Original Message-----\\nFrom: Kaminski, Vince J <Vince.J.Kaminski@ENRON.com>\\nTo: LJM Litigation <ljm.litigation@ENRON.com>\\nCC: Cooley, Jan <Jan.Cooley@ENRON.com>; Kaminski, Vince J <Vince.J.Kaminski@ENRON.com>\\nSent: Fri Dec 28 15:12:02 2001\\...   \n",
       "66232   did you see the article in the wsj today on that ljm fund associated with ene?\\n\\n -----Original Message-----\\nFrom: \\tHal Lenhart <Hal.Lenhart@apollogrp.edu>@ENRON  \\nSent:\\tThursday, October 18, 2001 10:07 AM\\nTo:\\tLenhart, Matthew\\nSubject:\\tRE:\\n\\nEvery thing is good here. Tom and I played g...   \n",
       "78095   Dear Dr. Fidas,\\n\\nI spoke with you a few days ago concerning my interest in the Sercurity Policy Studies program.  I am going to be visiting the GW campus the afternoon of Thursday Jan 24th and would like to know if you would be available for a few minutes.  Also, you had mentioned you may be a...   \n",
       "78096   2:15 would be good.  My flight gets into Reagan at  12:00: if it is delayed I will give you a call.  Thank you,\\n\\nLarry May\\n\\n -----Original Message-----\\nFrom: \\tgfidas <gfidas@gwu.edu>@ENRON   On Behalf Of gfidas <gfidas@gwu.edu>\\nSent:\\tTuesday, January 22, 2002 9:19 AM\\nTo:\\tMay, Larry\\nSu...   \n",
       "82460   \\n\\n -----Original Message-----\\nFrom: \\tDavid_Trice@westsidelexus.com@ENRON  \\nSent:\\tWednesday, December 19, 2001 12:02 PM\\nTo:\\tbret.bayley@cigna.com; jbyrd@byrdinterior.com; chris@churchservices.net; andrewd@tex-trude.com; serwin@houston.rr.com; tom.fish@ljmelody.com; rhill@kpmg.com; wjones@...   \n",
       "82645   Greg,  I have never been to a tasting before.  Will there be some small foods \\nto go along with the wine?\\n\\n\\n   \\n\\tEnron Capital & Trade Resources Corp.\\n\\t\\n\\tFrom:  \"Greg Giordano\" <giordano@wt.net>                           07/26/99 \\n08:22 PM\\n\\t\\n\\nTo: mdoolittle@dttus.com, contactus@ca...   \n",
       "85131   can't do it -  thanks for the invite.\\n\\n -----Original Message-----\\nFrom: \\tDavid_Trice@westsidelexus.com@ENRON  \\nSent:\\tTuesday, November 13, 2001 3:06 PM\\nTo:\\tbret.bayley@cigna.com; jbyrd@byrdinterior.com; chris@churchservices.net; andrewd@tex-trude.com; steveerwin@andon.com; tom.fish@ljme...   \n",
       "112127  is that your MSN Messenger contact name?\\n\\n\\n -----Original Message-----\\nFrom: \\tMay, Larry  \\nSent:\\tTuesday, February 12, 2002 2:36 PM\\nTo:\\tScott, Susan M.\\nSubject:\\tRE: Hello\\n\\nI'm on ljmenron (guess I should change it)\\n -----Original Message-----\\nFrom: \\tScott, Susan M.  \\nSent:\\tTues...   \n",
       "112128  try adding me to your list....\\n\\nsusan.m.scott@im.enron.com\\n\\n -----Original Message-----\\nFrom: \\tMay, Larry  \\nSent:\\tTuesday, February 12, 2002 2:41 PM\\nTo:\\tScott, Susan M.\\nSubject:\\tRE: Hello\\n\\nyes\\n\\n -----Original Message-----\\nFrom: \\tScott, Susan M.  \\nSent:\\tTuesday, February 12, 2...   \n",
       "112130  yes\\n\\n\\n -----Original Message-----\\nFrom: \\tMay, Larry  \\nSent:\\tTuesday, February 12, 2002 2:50 PM\\nTo:\\tScott, Susan M.\\nSubject:\\tRE: Hello\\n\\nAre you down there now?\\n\\n -----Original Message-----\\nFrom: \\tScott, Susan M.  \\nSent:\\tTuesday, February 12, 2002 2:43 PM\\nTo:\\tMay, Larry\\nSubje...   \n",
       "112131  if you go to \"Add\"...then click \"Search for a contact\" and type in my name susan scott, search for the person at microsoft exchange instant messaging...then click next.  my name should appear and you can click finish\\n\\n -----Original Message-----\\nFrom: \\tMay, Larry  \\nSent:\\tTuesday, February ...   \n",
       "113229  I'd like to know how we purchased the Katz.  Was that outside our budget, and \\nin Ken's dining room budget?  Mike and I will get together and address the \\npoints you bring up below.  Looking forward to our meeting.  \\n\\nRegards.....Jeff\\n\\n\\n\\n\\n\"Lea Fastow\" <lfastow@pop.pdq.net> on 11/12/2000...   \n",
       "\n",
       "                                           Message-ID  \\\n",
       "11780   <29761275.1075863363125.JavaMail.evans@thyme>   \n",
       "41684   <15019380.1075860475686.JavaMail.evans@thyme>   \n",
       "48655   <21995338.1075840793313.JavaMail.evans@thyme>   \n",
       "66232    <7586303.1075854976404.JavaMail.evans@thyme>   \n",
       "78095    <8612526.1075841213581.JavaMail.evans@thyme>   \n",
       "78096    <1645591.1075841213557.JavaMail.evans@thyme>   \n",
       "82460   <28959369.1075841353456.JavaMail.evans@thyme>   \n",
       "82645   <15622119.1075842667473.JavaMail.evans@thyme>   \n",
       "85131   <20430481.1075862323946.JavaMail.evans@thyme>   \n",
       "112127  <24386011.1075861128291.JavaMail.evans@thyme>   \n",
       "112128  <21861447.1075861128313.JavaMail.evans@thyme>   \n",
       "112130  <12178995.1075861128356.JavaMail.evans@thyme>   \n",
       "112131  <10336486.1075861128379.JavaMail.evans@thyme>   \n",
       "113229  <28027020.1075857561360.JavaMail.evans@thyme>   \n",
       "\n",
       "                             Date                        From  \\\n",
       "11780   2001-08-13 12:05:38-07:00          rick.buy@enron.com   \n",
       "41684   2001-02-04 09:22:00-08:00         mary.hain@enron.com   \n",
       "48655   2001-12-28 14:07:51-08:00        j.kaminski@enron.com   \n",
       "66232   2001-10-18 10:31:10-07:00   matthew.lenhart@enron.com   \n",
       "78095   2002-01-16 12:05:51-08:00         larry.may@enron.com   \n",
       "78096   2002-01-22 08:34:24-08:00         larry.may@enron.com   \n",
       "82460   2001-12-19 10:33:56-08:00        scott.neal@enron.com   \n",
       "82645   1999-07-28 01:39:00-07:00      gerald.nemec@enron.com   \n",
       "85131   2001-11-14 06:28:46-08:00        scott.neal@enron.com   \n",
       "112127  2002-02-12 12:36:36-08:00          m..scott@enron.com   \n",
       "112128  2002-02-12 12:43:12-08:00          m..scott@enron.com   \n",
       "112130  2002-02-12 12:59:53-08:00          m..scott@enron.com   \n",
       "112131  2002-02-12 13:03:10-08:00          m..scott@enron.com   \n",
       "113229  2000-11-13 00:24:00-08:00  jeffrey.shankman@enron.com   \n",
       "\n",
       "                                   To  \\\n",
       "11780        inez.dauterive@enron.com   \n",
       "41684          dwatkiss@bracepatt.com   \n",
       "48655               vkaminski@aol.com   \n",
       "66232       hal.lenhart@apollogrp.edu   \n",
       "78095                  gfidas@gwu.edu   \n",
       "78096                  gfidas@gwu.edu   \n",
       "82460     scott.neal@worldnet.att.net   \n",
       "82645                 giordano@wt.net   \n",
       "85131   david_trice@westsidelexus.com   \n",
       "112127            larry.may@enron.com   \n",
       "112128            larry.may@enron.com   \n",
       "112130            larry.may@enron.com   \n",
       "112131            larry.may@enron.com   \n",
       "113229            lfastow@pop.pdq.net   \n",
       "\n",
       "                                                                          Subject  \\\n",
       "11780                                                              RE: Happy Hour   \n",
       "41684   Returned mail: Host unknown (Name server: bracepat.com: host not\\n found)   \n",
       "48655                                                                 FW: Raptors   \n",
       "66232                                                                         RE:   \n",
       "78095                                                                Lawrence May   \n",
       "78096                                                            RE: Lawrence May   \n",
       "82460                                                               FW: SAT. A.M.   \n",
       "82645                                             Re: Tasting List for August 5th   \n",
       "85131                                                                         RE:   \n",
       "112127                                                                  RE: Hello   \n",
       "112128                                                                  RE: Hello   \n",
       "112130                                                                  RE: Hello   \n",
       "112131                                                                  RE: Hello   \n",
       "113229                                          Re: Presentation to Skilling etc.   \n",
       "\n",
       "         Cc  Mime-Version                  Content-Type  \\\n",
       "11780   NaN           1.0  text/plain; charset=us-ascii   \n",
       "41684   NaN           1.0  text/plain; charset=us-ascii   \n",
       "48655   NaN           1.0  text/plain; charset=us-ascii   \n",
       "66232   NaN           1.0  text/plain; charset=us-ascii   \n",
       "78095   NaN           1.0  text/plain; charset=us-ascii   \n",
       "78096   NaN           1.0  text/plain; charset=us-ascii   \n",
       "82460   NaN           1.0  text/plain; charset=us-ascii   \n",
       "82645   NaN           1.0  text/plain; charset=us-ascii   \n",
       "85131   NaN           1.0  text/plain; charset=us-ascii   \n",
       "112127  NaN           1.0  text/plain; charset=us-ascii   \n",
       "112128  NaN           1.0  text/plain; charset=us-ascii   \n",
       "112130  NaN           1.0  text/plain; charset=us-ascii   \n",
       "112131  NaN           1.0  text/plain; charset=us-ascii   \n",
       "113229  NaN           1.0  text/plain; charset=us-ascii   \n",
       "\n",
       "       Content-Transfer-Encoding  Bcc  \\\n",
       "11780           quoted-printable  NaN   \n",
       "41684                       7bit  NaN   \n",
       "48655                       7bit  NaN   \n",
       "66232                       7bit  NaN   \n",
       "78095                       7bit  NaN   \n",
       "78096                       7bit  NaN   \n",
       "82460                       7bit  NaN   \n",
       "82645                       7bit  NaN   \n",
       "85131                       7bit  NaN   \n",
       "112127                      7bit  NaN   \n",
       "112128                      7bit  NaN   \n",
       "112130                      7bit  NaN   \n",
       "112131                      7bit  NaN   \n",
       "113229                      7bit  NaN   \n",
       "\n",
       "                                                             X-From  \\\n",
       "11780              Buy, Rick </O=ENRON/OU=NA/CN=RECIPIENTS/CN=RBUY>   \n",
       "41684                                                     Mary Hain   \n",
       "48655   Kaminski, Vince J </O=ENRON/OU=NA/CN=RECIPIENTS/CN=VKAMINS>   \n",
       "66232    Lenhart, Matthew </O=ENRON/OU=NA/CN=RECIPIENTS/CN=MLENHAR>   \n",
       "78095            May, Larry </O=ENRON/OU=NA/CN=RECIPIENTS/CN=LMAY2>   \n",
       "78096            May, Larry </O=ENRON/OU=NA/CN=RECIPIENTS/CN=LMAY2>   \n",
       "82460           Neal, Scott </O=ENRON/OU=NA/CN=RECIPIENTS/CN=SNEAL>   \n",
       "82645                                                  Gerald Nemec   \n",
       "85131           Neal, Scott </O=ENRON/OU=NA/CN=RECIPIENTS/CN=SNEAL>   \n",
       "112127    Scott, Susan M. </O=ENRON/OU=NA/CN=RECIPIENTS/CN=SSCOTT5>   \n",
       "112128    Scott, Susan M. </O=ENRON/OU=NA/CN=RECIPIENTS/CN=SSCOTT5>   \n",
       "112130    Scott, Susan M. </O=ENRON/OU=NA/CN=RECIPIENTS/CN=SSCOTT5>   \n",
       "112131    Scott, Susan M. </O=ENRON/OU=NA/CN=RECIPIENTS/CN=SSCOTT5>   \n",
       "113229                                           Jeffrey A Shankman   \n",
       "\n",
       "                                                                                                    X-To  \\\n",
       "11780   Dauterive, Inez </O=ENRON/OU=NA/CN=RECIPIENTS/CN=Notesaddr/cn=637aa25f-549840a0-86256531-75eecc>   \n",
       "41684                                                                             dwatkiss@bracepatt.com   \n",
       "48655                                                                                'vkaminski@aol.com'   \n",
       "66232                                                    'Hal Lenhart <Hal.Lenhart@apollogrp.edu>@ENRON'   \n",
       "78095                                                                                   'gfidas@gwu.edu'   \n",
       "78096                                                                          'gfidas <gfidas@gwu.edu>'   \n",
       "82460                                                                      'scott.neal@worldnet.att.net'   \n",
       "82645                                                                  \"Greg Giordano\" <giordano@wt.net>   \n",
       "85131                                                              'David_Trice@westsidelexus.com@ENRON'   \n",
       "112127                                                May, Larry </O=ENRON/OU=NA/CN=RECIPIENTS/CN=Lmay2>   \n",
       "112128                                                May, Larry </O=ENRON/OU=NA/CN=RECIPIENTS/CN=Lmay2>   \n",
       "112130                                                May, Larry </O=ENRON/OU=NA/CN=RECIPIENTS/CN=Lmay2>   \n",
       "112131                                                May, Larry </O=ENRON/OU=NA/CN=RECIPIENTS/CN=Lmay2>   \n",
       "113229                                                        \"Lea Fastow\" <lfastow@pop.pdq.net> @ ENRON   \n",
       "\n",
       "       X-cc X-bcc                                             X-Folder  \\\n",
       "11780   NaN   NaN          \\RBUY (Non-Privileged)\\Buy, Rick\\Sent Items   \n",
       "41684   NaN   NaN  \\Mary_Hain_Aug2000_Jul2001\\Notes Folders\\'sent mail   \n",
       "48655   NaN   NaN                                  \\vkamins\\Sent Items   \n",
       "66232   NaN   NaN                 \\MLENHAR (Non-Privileged)\\Sent Items   \n",
       "78095   NaN   NaN                     \\ExMerge - May, Larry\\Sent Items   \n",
       "78096   NaN   NaN                     \\ExMerge - May, Larry\\Sent Items   \n",
       "82460   NaN   NaN                    \\ExMerge - Neal, Scott\\Sent Items   \n",
       "82645   NaN   NaN  \\Gerald_Nemec_Dec2000_June2001_1\\Notes Folders\\Sent   \n",
       "85131   NaN   NaN       \\SNEAL (Non-Privileged)\\Neal, Scott\\Sent Items   \n",
       "112127  NaN   NaN      \\Susan_Scott_Mar2002\\Scott, Susan M.\\Sent Items   \n",
       "112128  NaN   NaN      \\Susan_Scott_Mar2002\\Scott, Susan M.\\Sent Items   \n",
       "112130  NaN   NaN      \\Susan_Scott_Mar2002\\Scott, Susan M.\\Sent Items   \n",
       "112131  NaN   NaN      \\Susan_Scott_Mar2002\\Scott, Susan M.\\Sent Items   \n",
       "113229  NaN   NaN         \\Jeffrey_Shankman_Jun2001\\Notes Folders\\Sent   \n",
       "\n",
       "          X-Origin                    X-FileName  \n",
       "11780        Buy-R     RBUY (Non-Privileged).pst  \n",
       "41684       Hain-M                 mary-hain.nsf  \n",
       "48655   KAMINSKI-V  vincent kaminski 1-30-02.pst  \n",
       "66232    Lenhart-M  MLENHAR (Non-Privileged).pst  \n",
       "78095        MAY-L         larry may 6-26-02.PST  \n",
       "78096        MAY-L         larry may 6-26-02.PST  \n",
       "82460       NEAL-S        scott neal 6-26-02.PST  \n",
       "82645      NEMEC-G                    gnemec.nsf  \n",
       "85131       Neal-S    SNEAL (Non-Privileged).pst  \n",
       "112127     Scott-S  sscott5 (Non-Privileged).pst  \n",
       "112128     Scott-S  sscott5 (Non-Privileged).pst  \n",
       "112130     Scott-S  sscott5 (Non-Privileged).pst  \n",
       "112131     Scott-S  sscott5 (Non-Privileged).pst  \n",
       "113229  Shankman-J                   jshankm.nsf  "
      ]
     },
     "execution_count": 149,
     "metadata": {},
     "output_type": "execute_result"
    }
   ],
   "source": [
    "raw[raw[\"Content\"].apply(lambda x: \"ljm\" in x)]#.loc[85131,\"Content\"]"
   ]
  },
  {
   "cell_type": "code",
   "execution_count": null,
   "metadata": {},
   "outputs": [],
   "source": [
    "\"Bethany McLean\" \"Andy Fastow\" \"LJM\""
   ]
  },
  {
   "cell_type": "code",
   "execution_count": null,
   "metadata": {},
   "outputs": [],
   "source": [
    "df[\"Sentiment\"] = df[\"Content\"].apply(lambda x: TextBlob(x).sentiment)\n",
    "df[\"Profanity\"] = df[\"Content\"].apply(lambda x: pf.is_profane(x))"
   ]
  },
  {
   "cell_type": "code",
   "execution_count": 53,
   "metadata": {},
   "outputs": [],
   "source": [
    "df.to_csv(\"mails_features.csv\")"
   ]
  },
  {
   "cell_type": "code",
   "execution_count": 59,
   "metadata": {},
   "outputs": [],
   "source": [
    "profanity = df[df[\"Profanity\"] & df[\"Content\"].apply(lambda x: \"Gay\" not in x)]\n",
    "profanity.reset_index(inplace=True)\n",
    "idx = 0"
   ]
  },
  {
   "cell_type": "code",
   "execution_count": 491,
   "metadata": {},
   "outputs": [],
   "source": [
    "import spacy\n",
    "import en_core_web_lg\n",
    "\n",
    "eng = en_core_web_lg.load()\n",
    "words = list(eng.vocab.strings)"
   ]
  },
  {
   "cell_type": "code",
   "execution_count": 189,
   "metadata": {},
   "outputs": [
    {
     "data": {
      "text/plain": [
       "3.7416573867739413"
      ]
     },
     "execution_count": 189,
     "metadata": {},
     "output_type": "execute_result"
    }
   ],
   "source": [
    "import math\n",
    "from numpy.linalg import norm"
   ]
  },
  {
   "cell_type": "code",
   "execution_count": 191,
   "metadata": {},
   "outputs": [],
   "source": [
    "def distance_vector(a, b):\n",
    "    return math.sqrt(sum(\n",
    "        [math.pow(b[idx] -a[idx], 2) for idx in range(len(a))]\n",
    "))\n",
    "\n",
    "def cos_sim(a, b):\n",
    "    if norm(a) > 0 and norm(b) > 0:\n",
    "        return np.dot(a, b) / norm(a) *norm(b)\n",
    "    else: return 0.0"
   ]
  },
  {
   "cell_type": "code",
   "execution_count": 192,
   "metadata": {},
   "outputs": [
    {
     "data": {
      "text/plain": [
       "4.701113658674066"
      ]
     },
     "execution_count": 192,
     "metadata": {},
     "output_type": "execute_result"
    }
   ],
   "source": [
    "a = eng.vocab[\"cheddar\"].vector\n",
    "b = eng.vocab[\"cheese\"].vector\n",
    "distance_vector(a, b)"
   ]
  },
  {
   "cell_type": "code",
   "execution_count": 194,
   "metadata": {},
   "outputs": [
    {
     "data": {
      "text/plain": [
       "34.815727"
      ]
     },
     "execution_count": 194,
     "metadata": {},
     "output_type": "execute_result"
    }
   ],
   "source": [
    "cos_sim(eng.vocab[\"puppy\"].vector, eng.vocab[\"kitten\"].vector)"
   ]
  },
  {
   "cell_type": "code",
   "execution_count": 195,
   "metadata": {},
   "outputs": [
    {
     "data": {
      "text/plain": [
       "6.836217"
      ]
     },
     "execution_count": 195,
     "metadata": {},
     "output_type": "execute_result"
    }
   ],
   "source": [
    "cos_sim(eng.vocab[\"trousers\"].vector, eng.vocab[\"octopus\"].vector)"
   ]
  },
  {
   "cell_type": "code",
   "execution_count": 196,
   "metadata": {},
   "outputs": [
    {
     "data": {
      "text/plain": [
       "40.444374"
      ]
     },
     "execution_count": 196,
     "metadata": {},
     "output_type": "execute_result"
    }
   ],
   "source": [
    "cos_sim(eng.vocab[\"milk\"].vector, eng.vocab[\"cheese\"].vector)"
   ]
  },
  {
   "cell_type": "code",
   "execution_count": 219,
   "metadata": {},
   "outputs": [
    {
     "data": {
      "application/vnd.jupyter.widget-view+json": {
       "model_id": "8cae872cdfb8409cabdc9d08d1819498",
       "version_major": 2,
       "version_minor": 0
      },
      "text/plain": [
       "HBox(children=(FloatProgress(value=0.0, description='Pandas Apply', max=125628.0, style=ProgressStyle(descript…"
      ]
     },
     "metadata": {},
     "output_type": "display_data"
    },
    {
     "name": "stdout",
     "output_type": "stream",
     "text": [
      "\n"
     ]
    }
   ],
   "source": [
    "from ast import literal_eval\n",
    "import swifter\n",
    "df[\"Token\"] = df[\"Token\"].swifter.apply(literal_eval)"
   ]
  },
  {
   "cell_type": "code",
   "execution_count": 496,
   "metadata": {},
   "outputs": [
    {
     "name": "stdout",
     "output_type": "stream",
     "text": [
      "544.6467547416687\n"
     ]
    }
   ],
   "source": [
    "start = time.time()\n",
    "df.loc[:100, \"Content\"].apply(lambda x: TextBlob(x, analyzer=NaiveBayesAnalyzer()).sentiment)\n",
    "print(time.time()-start)"
   ]
  },
  {
   "cell_type": "code",
   "execution_count": 404,
   "metadata": {},
   "outputs": [
    {
     "data": {
      "text/plain": [
       "['job', 'good', 'it']"
      ]
     },
     "execution_count": 404,
     "metadata": {},
     "output_type": "execute_result"
    }
   ],
   "source": [
    "def closest_words(tokens, vector, count=10, exclude=[]):\n",
    "    result = sorted(\n",
    "        tokens, reverse = True,\n",
    "        key = lambda x: cos_sim(vector, eng.vocab[x].vector)\n",
    "    )\n",
    "    return [word for word in result if word not in exclude][:count]\n",
    "\n",
    "closest_words(df.loc[17, \"Token\"], eng.vocab[\"money\"].vector, count=3)"
   ]
  },
  {
   "cell_type": "code",
   "execution_count": 448,
   "metadata": {},
   "outputs": [],
   "source": [
    "with open(\"chapter1.txt\", \"r\") as file:\n",
    "    text = file.read()"
   ]
  },
  {
   "cell_type": "code",
   "execution_count": 449,
   "metadata": {},
   "outputs": [],
   "source": [
    "for mistake in list(filter(lambda x: x[-1].isupper(), re.findall(r\".{1}\\..{1}\", text))):\n",
    "    re.sub(mistake, mistake[:2] + \" \" +mistake[-1], text)"
   ]
  },
  {
   "cell_type": "code",
   "execution_count": 456,
   "metadata": {},
   "outputs": [],
   "source": [
    "from nltk.tokenize import RegexpTokenizer\n",
    "tokenizer = RegexpTokenizer(r'\\w+')\n",
    "game = tokenizer.tokenize(text)\n",
    "\n",
    "#game = list(map(lambda x: x.lower(), game))\n",
    "tokens = []\n",
    "for word in game:\n",
    "    if word not in tokens:\n",
    "        tokens.append(word)\n",
    "tokens.append(\"queen\")"
   ]
  },
  {
   "cell_type": "code",
   "execution_count": 459,
   "metadata": {},
   "outputs": [
    {
     "data": {
      "text/plain": [
       "['King', 'queen', 'kings', 'ruler', 'Kingdoms']"
      ]
     },
     "execution_count": 459,
     "metadata": {},
     "output_type": "execute_result"
    }
   ],
   "source": [
    "a = \"king\"\n",
    "b = \"man\"\n",
    "c = \"woman\"\n",
    "vector = eng.vocab[a].vector - eng.vocab[b].vector + eng.vocab[c].vector\n",
    "#vector = eng.vocab[\"king\"].vector\n",
    "closest_words(tokens, vector, count=5, exclude=[a, b, c])"
   ]
  },
  {
   "cell_type": "code",
   "execution_count": 431,
   "metadata": {},
   "outputs": [
    {
     "data": {
      "text/plain": [
       "True"
      ]
     },
     "execution_count": 431,
     "metadata": {},
     "output_type": "execute_result"
    }
   ],
   "source": [
    "\"mouth\" in tokens"
   ]
  },
  {
   "cell_type": "code",
   "execution_count": 429,
   "metadata": {
    "scrolled": false
   },
   "outputs": [
    {
     "data": {
      "text/plain": [
       "'The morning had dawned clear and cold, with a crispness that hinted at the end of summer. They set forth at daybreak to see a man beheaded, twenty in all, and Bran rode among them, nervous with excitement. This was the first time he had been deemed old enough to go with his lord father and his brothers to see the king’s justice done. It was the ninth year of summer, and the seventh of Bran’s life.The man had been taken outside a small holdfast in the hills. Robb thought he was a wildling, his sword sworn to Mance Rayder, the King-beyond-the-Wall. It made Bran’s skin prickle to think of it. He remembered the hearth tales Old Nan told them. The wildlings were cruel men, she said, slavers and slayers and thieves. They consorted with giants and ghouls, stole girl children in the dead of night, and drank blood from polished horns. And their women lay with the Others in the Long Night to sire terrible half-human children.But the man they found bound hand and foot to the holdfast wall awaiting the king’s justice was old and scrawny, not much taller than Robb. He had lost both ears and a finger to frostbite, and he dressed all in black, the same as a brother of the Night’s Watch, except that his furs were ragged and greasy.The breath of man and horse mingled, steaming, in the cold morning air as his lord father had the man cut down from the wall and dragged before them. Robb and Jon sat tall and still on their horses, with Bran between them on his pony, trying to seem older than seven, trying to pretend that he’d seen all this before. A faint wind blew through the holdfast gate. Over their heads flapped the banner of the Starks of Winterfell: a grey direwolf racing across an ice-white field.Bran’s father sat solemnly on his horse, long brown hair stirring in the wind. His closely trimmed beard was shot with white, making him look older than his thirty-five years. He had a grim cast to his grey eyes this day, and he seemed not at all the man who would sit before the fire in the evening and talk softly of the age of heroes and the children of the forest. He had taken off Father’s face, Bran thought, and donned the face of Lord Stark of Winterfell.There were questions asked and answers given there in the chill of morning, but afterward Bran could not recall much of what had been said. Finally his lord father gave \\na command, and two of his guardsmen dragged the ragged man to the ironwood stump in the center of the square. They forced his head down onto the hard black wood. Lord Eddard Stark dismounted and his ward Theon Greyjoy brought forth the sword. “Ice,” that sword was called. It was as wide across as a man’s hand, and taller even than Robb. The blade was Valyrian steel, spell-forged and dark as smoke. Nothing held an edge like Valyrian steel.His father peeled off his gloves and handed them to Jory Cassel, the captain of his household guard. He took hold of Ice with both hands and said, “In the name of Robert of the House Baratheon, the First of his Name, King of the Andals and the Rhoynar and the First Men, Lord of the Seven Kingdoms and Protector of the Realm, by the word of Eddard of the House Stark, Lord of Winterfell and Warden of the North, I do sentence you to die.” He lifted the greatsword high above his head.Bran’s bastard brother Jon Snow moved closer. “Keep the pony well in hand,” he whispered. “And don’t look away. Father will know if you do.”Bran kept his pony well in hand, and did not look away.His father took off the man’s head with a single sure stroke. Blood sprayed out across the snow, as red as surnmerwine. One of the horses reared and had to be restrained to keep from bolting. Bran could not take his eyes off the blood. The snows around the stump drank it eagerly, reddening as he watched.The head bounced off a thick root and rolled. It came up near Greyjoy’s feet. Theon was a lean, dark youth of nineteen who found everything amusing. He laughed, put his boot on the head, and kicked it away.“Ass,” Jon muttered, low enough so Greyjoy did not hear. He put a hand on Bran’s shoulder, and Bran looked over at his bastard brother. “You did well,” Jon told him solemnly. Jon was fourteen, an old hand at justice.It seemed colder on the long ride back to Winterfell, though the wind had died by then and the sun was higher in the sky. Bran rode with his brothers, well ahead of the main party, his pony struggling hard to keep up with their horses.“The deserter died bravely,” Robb said. He was big and broad and growing every day, with his mother’s coloring, the fair skin, red-brown hair, and blue eyes of the Tullys of Riverrun. “He had courage, at the least.”“No,” Jon Snow said quietly. “It was not courage. This one was dead of fear. You could see it in his eyes, Stark.” Jon’s eyes were a grey so dark they seemed almost black, but \\nthere was little they did not see. He was of an age with Robb, but they did not look alike. Jon was slender where Robb was muscular, dark where Robb was fair, graceful and quick where his half brother was strong and fast.Robb was not impressed. “The Others take his eyes,” he swore. “He died well. Race you to the bridge?”“Done,” Jon said, kicking his horse forward. Robb cursed and followed, and they galloped off down the trail, Robb laughing and hooting, Jon silent and intent. The hooves of their horses kicked up showers of snow as they went.Bran did not try to follow. His pony could not keep up. He had seen the ragged man’s eyes, and he was thinking of them now. After a while, the sound of Robb’s laughter receded, and the woods grew silent again.So deep in thought was he that he never heard the rest of the party until his father moved up to ride beside him. “Are you well, Bran?” he asked, not unkindly.“Yes, Father,” Bran told him. He looked up. Wrapped in his furs and leathers, mounted on his great warhorse, his lord father loomed over him like a giant. “Robb says the man died bravely, but Jon says he was afraid.”“What do you think?” his father asked.Bran thought about it. “Can a man still be brave if he’s afraid?”“That is the only time a man can be brave,” his father told him. “Do you understand why I did it?”“He was a wildling,” Bran said. “They carry off women and sell them to the Others.”His lord father smiled. “Old Nan has been telling you stories again. In truth, the man was an oathbreaker, a deserter from the Night’s Watch. No man is more dangerous. The deserter knows his life is forfeit if he is taken, so he will not flinch from any crime, no matter how vile. But you mistake me. The question was not why the man had to die, but why I must do it.”Bran had no answer for that. “King Robert has a headsman,” he said, uncertainly.“He does,” his father admitted. “As did the Targaryen kings before him. Yet our way is the older way. The blood of the First Men still flows in the veins of the Starks, and we hold to the belief that the man who passes the sentence should swing the sword. If you \\nwould take a man’s life, you owe it to him to look into his eyes and hear his final words. And if you cannot bear to do that, then perhaps the man does not deserve to die.“One day, Bran, you will be Robb’s bannerman, holding a keep of your own for your brother and your king, and justice will fall to you. When that day comes, you must take no pleasure in the task, but neither must you look away. A ruler who hides behind paid executioners soon forgets what death is.”That was when Jon reappeared on the crest of the hill before them. He waved and shouted down at them. “Father, Bran, come quickly, see what Robb has found!” Then he was gone again.Jory rode up beside them. “Trouble, my lord?”“Beyond a doubt,” his lord father said. “Come, let us see what mischief my sons have rooted out now.” He sent his horse into a trot. Jory and Bran and the rest came after.They found Robb on the riverbank north of the bridge, with Jon still mounted beside him. The late summer snows had been heavy this moonturn. Robb stood knee-deep in white, his hood pulled back so the sun shone in his hair. He was cradling something in his arm, while the boys talked in hushed, excited voices.The riders picked their way carefully through the drifts, groping for solid footing on the hidden, uneven ground. Jory Cassel and Theon Greyjoy were the first to reach the boys. Greyjoy was laughing and joking as he rode. Bran heard the breath go out of him. “Gods!” he exclaimed, struggling to keep control of his horse as he reached for his sword.Jory’s sword was already out. “Robb, get away from it!” he called as his horse reared under him.Robb grinned and looked up from the bundle in his arms. “She can’t hurt you,” he said. “She’s dead, Jory.”Bran was afire with curiosity by then. He would have spurred the pony faster, but his father made them dismount beside the bridge and approach on foot. Bran jumped off and ran.By then Jon, Jory, and Theon Greyjoy had all dismounted as well. “What in the seven hells is it?” Greyjoy was saying.“A wolf,” Robb told him.\\n“A freak,” Greyjoy said. “Look at the size of it.”Bran’s heart was thumping in his chest as he pushed through a waist-high drift to his brothers’ side.Half-buried in bloodstained snow, a huge dark shape slumped in death. Ice had formed in its shaggy grey fur, and the faint smell of corruption clung to it like a woman’s perfume. Bran glimpsed blind eyes crawling with maggots, a wide mouth full of yellowed teeth. But it was the size of it that made him gasp. It was bigger than his pony, twice the size of the largest hound in his father’s kennel.“It’s no freak,” Jon said calmly. “That’s a direwolf. They grow larger than the other kind.”Theon Greyjoy said, “There’s not been a direwolf sighted south of the Wall in two hundred years.”“I see one now,” Jon replied.Bran tore his eyes away from the monster. That was when he noticed the bundle in Robb’s arms. He gave a cry of delight and moved closer. The pup was a tiny ball of grey-black fur, its eyes still closed. It nuzzled blindly against Robb’s chest as he cradled it, searching for milk among his leathers, making a sad little whimpery sound. Bran reached out hesitantly. “Go on,” Robb told him. “You can touch him.”Bran gave the pup a quick nervous stroke, then turned as Jon said, “Here you go.” His half brother put a second pup into his arms. “There are five of them.” Bran sat down in the snow and hugged the wolf pup to his face. Its fur was soft and warm against his cheek.“Direwolves loose in the realm, after so many years,” muttered Hullen, the master of horse. “I like it not.”“It is a sign,” Jory said.Father frowned. “This is only a dead animal, Jory,” he said. Yet he seemed troubled. Snow crunched under his boots as he moved around the body. “Do we know what killed her?”“There’s something in the throat,” Robb told him, proud to have found the answer before his father even asked. “There, just under the jaw.”\\nHis father knelt and groped under the beast’s head with his hand. He gave a yank and held it up for all to see. A foot of shattered antler, tines snapped off, all wet with blood.A sudden silence descended over the party. The men looked at the antler uneasily, and no one dared to speak. Even Bran could sense their fear, though he did not understand.His father tossed the antler to the side and cleansed his hands in the snow. “I’m surprised she lived long enough to whelp,” he said. His voice broke the spell.“Maybe she didn’t,” Jory said. “I’ve heard tales . . . maybe the bitch was already dead when the pups came.”“Born with the dead,” another man put in. “Worse luck.”“No matter,” said Hullen. “They be dead soon enough too.”Bran gave a wordless cry of dismay.“The sooner the better,” Theon Greyjoy agreed. He drew his sword. “Give the beast here, Bran.”The little thing squirmed against him, as if it heard and understood. “No!” Bran cried out fiercely. “It’s mine.”“Put away your sword, Greyjoy,” Robb said. For a moment he sounded as commanding as their father, like the lord he would someday be. “We will keep these pups.”“You cannot do that, boy,” said Harwin, who was Hullen’s son.“It be a mercy to kill them,” Hullen said.Bran looked to his lord father for rescue, but got only a frown, a furrowed brow. “Hullen speaks truly, son. Better a swift death than a hard one from cold and starvation.”“No!” He could feel tears welling in his eyes, and he looked away. He did not want to cry in front of his father.Robb resisted stubbornly. “Ser Rodrik’s red bitch whelped again last week,” he said. “It was a small litter, only two live pups. She’ll have milk enough.”“She’ll rip them apart when they try to nurse.”\\n“Lord Stark,” Jon said. It was strange to hear him call Father that, so formal. Bran looked at him with desperate hope. “There are five pups,” he told Father. “Three male, two female.”“What of it, Jon?”“You have five trueborn children,” Jon said. “Three sons, two daughters. The direwolf is the sigil of your House. Your children were meant to have these pups, my lord.”Bran saw his father’s face change, saw the other men exchange glances. He loved Jon with all his heart at that moment. Even at seven, Bran understood what his brother had done. The count had come right only because Jon had omitted himself. He had included the girls, included even Rickon, the baby, but not the bastard who bore the surname Snow, the name that custom decreed be given to all those in the north unlucky enough to be born with no name of their own.Their father understood as well. “You want no pup for yourself, Jon?” he asked softly.“The direwolf graces the banners of House Stark,” Jon pointed out. “I am no Stark, Father.”Their lord father regarded Jon thoughtfully. Robb rushed into the silence he left. “I will nurse him myself, Father,” he promised. “I will soak a towel with warm milk, and give him suck from that.”“Me too!” Bran echoed.The lord weighed his sons long and carefully with his eyes. “Easy to say, and harder to do. I will not have you wasting the servants’ time with this. If you want these pups, you will feed them yourselves. Is that understood?”Bran nodded eagerly. The pup squirmed in his grasp, licked at his face with a warm tongue.“You must train them as well,” their father said. “You must train them. The kennelmaster will have nothing to do with these monsters, I promise you that. And the gods help you if you neglect them, or brutalize them, or train them badly. These are not dogs to beg for treats and slink off at a kick. A direwolf will rip a man’s arm off his shoulder as easily as a dog will kill a rat. Are you sure you want this?”“Yes, Father,” Bran said.\\n“Yes,” Robb agreed.“The pups may die anyway, despite all you do.”“They won’t die,” Robb said. “We won’t let them die.”“Keep them, then. Jory, Desmond, gather up the other pups. It’s time we were back to Winterfell.”It was not until they were mounted and on their way that Bran allowed himself to taste the sweet air of victory. By then, his pup was snuggled inside his leathers, warm against him, safe for the long ride home. Bran was wondering what to name him.Halfway across the bridge, Jon pulled up suddenly.“What is it, Jon?” their lord father asked.“Can’t you hear it?”Bran could hear the wind in the trees, the clatter of their hooves on the ironwood planks, the whimpering of his hungry pup, but Jon was listening to something else.“There,” Jon said. He swung his horse around and galloped back across the bridge. They watched him dismount where the direwolf lay dead in the snow, watched him kneel. A moment later he was riding back to them, smiling.“He must have crawled away from the others,” Jon said.“Or been driven away,” their father said, looking at the sixth pup. His fur was white, where the rest of the litter was grey. His eyes were as red as the blood of the ragged man who had died that morning. Bran thought it curious that this pup alone would have opened his eyes while the others were still blind.“An albino,” Theon Greyjoy said with wry amusement. “This one will die even faster than the others.”Jon Snow gave his father’s ward a long, chilling look. “I think not, Greyjoy,” he said. “This one belongs to me.”\\n'"
      ]
     },
     "execution_count": 429,
     "metadata": {},
     "output_type": "execute_result"
    }
   ],
   "source": [
    "text"
   ]
  },
  {
   "cell_type": "code",
   "execution_count": null,
   "metadata": {},
   "outputs": [],
   "source": []
  }
 ],
 "metadata": {
  "kernelspec": {
   "display_name": "Python 3",
   "language": "python",
   "name": "python3"
  },
  "language_info": {
   "codemirror_mode": {
    "name": "ipython",
    "version": 3
   },
   "file_extension": ".py",
   "mimetype": "text/x-python",
   "name": "python",
   "nbconvert_exporter": "python",
   "pygments_lexer": "ipython3",
   "version": "3.7.6"
  }
 },
 "nbformat": 4,
 "nbformat_minor": 4
}
